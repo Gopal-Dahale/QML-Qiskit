{
 "cells": [
  {
   "cell_type": "code",
   "execution_count": 1,
   "id": "4a75e9c7",
   "metadata": {
    "ExecuteTime": {
     "end_time": "2022-06-26T05:06:07.048811Z",
     "start_time": "2022-06-26T05:05:23.637893Z"
    }
   },
   "outputs": [],
   "source": [
    "import numpy as np\n",
    "import matplotlib.pyplot as plt\n",
    "from tqdm import tqdm\n",
    "from numba import njit, prange\n",
    "\n",
    "import torch\n",
    "from torch import Tensor, LongTensor\n",
    "from torch.utils.data import TensorDataset, DataLoader\n",
    "from torch.nn import Module, Linear\n",
    "from torchvision import datasets, transforms\n",
    "import torch.nn.functional as F\n",
    "\n",
    "from sklearn.datasets import make_blobs\n",
    "from sklearn.preprocessing import MinMaxScaler\n",
    "from sklearn.decomposition import PCA\n",
    "from sklearn.model_selection import train_test_split\n",
    "\n",
    "from qiskit import QuantumCircuit, Aer, transpile\n",
    "from qiskit_machine_learning.neural_networks import CircuitQNN,TwoLayerQNN\n",
    "from qiskit.opflow import AerPauliExpectation\n",
    "from qiskit_machine_learning.connectors import TorchConnector\n",
    "from qiskit.circuit import ParameterVector\n",
    "from qiskit.utils import QuantumInstance"
   ]
  },
  {
   "cell_type": "code",
   "execution_count": 2,
   "id": "8d85e9b3",
   "metadata": {
    "ExecuteTime": {
     "end_time": "2022-06-26T05:06:17.235641Z",
     "start_time": "2022-06-26T05:06:17.229763Z"
    }
   },
   "outputs": [],
   "source": [
    "def get_default_device():\n",
    "    \"\"\"Pick GPU if available, else CPU\"\"\"\n",
    "    if torch.cuda.is_available():\n",
    "        return torch.device('cuda')\n",
    "    else:\n",
    "        return torch.device('cpu')"
   ]
  },
  {
   "cell_type": "code",
   "execution_count": 3,
   "id": "35d64daa",
   "metadata": {
    "ExecuteTime": {
     "end_time": "2022-06-26T05:06:17.888429Z",
     "start_time": "2022-06-26T05:06:17.487793Z"
    }
   },
   "outputs": [
    {
     "data": {
      "text/plain": [
       "device(type='cpu')"
      ]
     },
     "execution_count": 3,
     "metadata": {},
     "output_type": "execute_result"
    }
   ],
   "source": [
    "device = get_default_device()\n",
    "device"
   ]
  },
  {
   "cell_type": "code",
   "execution_count": 4,
   "id": "a23402ff",
   "metadata": {
    "ExecuteTime": {
     "end_time": "2022-06-26T05:06:17.968775Z",
     "start_time": "2022-06-26T05:06:17.893589Z"
    }
   },
   "outputs": [],
   "source": [
    "def to_device(data, device):\n",
    "    \"\"\"Move tensor(s) to chosen device\"\"\"\n",
    "    if isinstance(data, (list,tuple)):\n",
    "        return [to_device(x, device) for x in data]\n",
    "    return data.to(device, non_blocking=True)"
   ]
  },
  {
   "cell_type": "code",
   "execution_count": 209,
   "id": "36a01323",
   "metadata": {
    "ExecuteTime": {
     "end_time": "2022-06-26T06:11:13.653130Z",
     "start_time": "2022-06-26T06:11:13.636658Z"
    }
   },
   "outputs": [],
   "source": [
    "def entangling_circuit(bits):\n",
    "    qc = QuantumCircuit(bits)\n",
    "    bits = list(range(bits))\n",
    "    for this_bit, next_bit in zip(bits, bits[1:]):\n",
    "        qc.cz(this_bit, next_bit)\n",
    "    if(len(bits)!= 2):\n",
    "        qc.cz(bits[0], bits[-1])\n",
    "    return qc"
   ]
  },
  {
   "cell_type": "code",
   "execution_count": 210,
   "id": "79fdaf9d",
   "metadata": {
    "ExecuteTime": {
     "end_time": "2022-06-26T06:11:13.973487Z",
     "start_time": "2022-06-26T06:11:13.958126Z"
    }
   },
   "outputs": [],
   "source": [
    "# cluster state\n",
    "def cluster_state_circuit(bits):\n",
    "    qc = QuantumCircuit(bits)\n",
    "    qc.h(list(range(bits)))\n",
    "    qc.compose(entangling_circuit(bits), inplace=True)\n",
    "    return qc"
   ]
  },
  {
   "cell_type": "code",
   "execution_count": 211,
   "id": "94c38f29",
   "metadata": {
    "ExecuteTime": {
     "end_time": "2022-06-26T06:11:14.611098Z",
     "start_time": "2022-06-26T06:11:14.283398Z"
    }
   },
   "outputs": [
    {
     "data": {
      "image/png": "[encoded data removed]",
      "text/plain": [
       "<Figure size 387.597x264.88 with 1 Axes>"
      ]
     },
     "execution_count": 211,
     "metadata": {},
     "output_type": "execute_result"
    }
   ],
   "source": [
    "circuit = cluster_state_circuit(4)\n",
    "circuit.draw('mpl')"
   ]
  },
  {
   "cell_type": "code",
   "execution_count": 212,
   "id": "3d9d476e",
   "metadata": {
    "ExecuteTime": {
     "end_time": "2022-06-26T06:11:16.353574Z",
     "start_time": "2022-06-26T06:11:16.347870Z"
    }
   },
   "outputs": [],
   "source": [
    "def one_qubit_unitary(thetas):\n",
    "    qc = QuantumCircuit(1)\n",
    "    qc.rx(thetas[0], 0)\n",
    "    qc.ry(thetas[1], 0)\n",
    "    qc.rz(thetas[2], 0)\n",
    "    return qc"
   ]
  },
  {
   "cell_type": "code",
   "execution_count": 213,
   "id": "0500769d",
   "metadata": {
    "ExecuteTime": {
     "end_time": "2022-06-26T06:11:24.424654Z",
     "start_time": "2022-06-26T06:11:23.351927Z"
    }
   },
   "outputs": [
    {
     "data": {
      "image/png": "[encoded data removed]",
      "text/plain": [
       "<Figure size 253.926x84.28 with 1 Axes>"
      ]
     },
     "execution_count": 213,
     "metadata": {},
     "output_type": "execute_result"
    }
   ],
   "source": [
    "thetas = ParameterVector('θ', length=3)\n",
    "circuit = one_qubit_unitary(thetas)\n",
    "circuit.draw('mpl')"
   ]
  },
  {
   "cell_type": "code",
   "execution_count": 214,
   "id": "3f76494a",
   "metadata": {
    "ExecuteTime": {
     "end_time": "2022-06-26T06:12:18.270933Z",
     "start_time": "2022-06-26T06:12:18.252666Z"
    }
   },
   "outputs": [],
   "source": [
    "def two_qubit_pool(thetas):\n",
    "    qc = QuantumCircuit(2)\n",
    "    qc = qc.compose(one_qubit_unitary(thetas[0:3]), [1])\n",
    "    qc = qc.compose(one_qubit_unitary(thetas[3:6]), [0])\n",
    "    qc.cnot(0,1)\n",
    "    qc = qc.compose(one_qubit_unitary(thetas[0:3]).inverse(), [1])\n",
    "    return qc"
   ]
  },
  {
   "cell_type": "code",
   "execution_count": 215,
   "id": "52b41206",
   "metadata": {
    "ExecuteTime": {
     "end_time": "2022-06-26T06:12:20.615777Z",
     "start_time": "2022-06-26T06:12:20.234761Z"
    }
   },
   "outputs": [
    {
     "data": {
      "image/png": "[encoded data removed]",
      "text/plain": [
       "<Figure size 507.852x144.48 with 1 Axes>"
      ]
     },
     "execution_count": 215,
     "metadata": {},
     "output_type": "execute_result"
    }
   ],
   "source": [
    "thetas = ParameterVector('θ', length=6)\n",
    "circuit = two_qubit_pool(thetas)\n",
    "circuit.draw('mpl')"
   ]
  },
  {
   "cell_type": "code",
   "execution_count": 216,
   "id": "c88da734",
   "metadata": {
    "ExecuteTime": {
     "end_time": "2022-06-26T06:14:10.470958Z",
     "start_time": "2022-06-26T06:14:10.464261Z"
    }
   },
   "outputs": [],
   "source": [
    "def quantum_conv_circuit(bits, thetas):\n",
    "    qc = QuantumCircuit(bits)\n",
    "    qc.compose(entangling_circuit(bits), inplace=True)\n",
    "    for i in range(bits):\n",
    "        qc.compose(one_qubit_unitary(thetas[i:i+3]), [i], inplace=True)\n",
    "    return qc"
   ]
  },
  {
   "cell_type": "code",
   "execution_count": 221,
   "id": "6577e4f2",
   "metadata": {
    "ExecuteTime": {
     "end_time": "2022-06-26T06:15:05.381262Z",
     "start_time": "2022-06-26T06:15:05.055852Z"
    }
   },
   "outputs": [
    {
     "data": {
      "image/png": "[encoded data removed]",
      "text/plain": [
       "<Figure size 447.797x204.68 with 1 Axes>"
      ]
     },
     "execution_count": 221,
     "metadata": {},
     "output_type": "execute_result"
    }
   ],
   "source": [
    "n_qubits = 3\n",
    "thetas = ParameterVector('θ', length=3*n_qubits)\n",
    "circuit = quantum_conv_circuit(n_qubits, thetas)\n",
    "circuit.draw('mpl')"
   ]
  },
  {
   "cell_type": "code",
   "execution_count": 222,
   "id": "750343e0",
   "metadata": {
    "ExecuteTime": {
     "end_time": "2022-06-26T06:15:08.263188Z",
     "start_time": "2022-06-26T06:15:08.254399Z"
    }
   },
   "outputs": [],
   "source": [
    "def quantum_pool_circuit(sources, sinks, thetas):\n",
    "    qc = QuantumCircuit(len(sources) + len(sinks))\n",
    "    for source, sink in zip(sources, sinks):\n",
    "        qc = qc.compose(two_qubit_pool(thetas), [source, sink])\n",
    "    return qc"
   ]
  },
  {
   "cell_type": "code",
   "execution_count": 223,
   "id": "ca6522ad",
   "metadata": {
    "ExecuteTime": {
     "end_time": "2022-06-26T06:15:11.254909Z",
     "start_time": "2022-06-26T06:15:10.758054Z"
    }
   },
   "outputs": [
    {
     "data": {
      "image/png": "[encoded data removed]",
      "text/plain": [
       "<Figure size 568.197x264.88 with 1 Axes>"
      ]
     },
     "execution_count": 223,
     "metadata": {},
     "output_type": "execute_result"
    }
   ],
   "source": [
    "thetas = ParameterVector('θ', length=6)\n",
    "sources = [0,1]\n",
    "sinks = [2,3]\n",
    "circuit = quantum_pool_circuit(sources, sinks, thetas)\n",
    "circuit.draw('mpl')"
   ]
  },
  {
   "cell_type": "code",
   "execution_count": 263,
   "id": "73667082",
   "metadata": {
    "ExecuteTime": {
     "end_time": "2022-06-26T06:26:59.254883Z",
     "start_time": "2022-06-26T06:26:59.214164Z"
    }
   },
   "outputs": [],
   "source": [
    "class MnistDataModule():\n",
    "    def __init__(self, n_features = 2):\n",
    "        super().__init__()\n",
    "        self.batch_size = 8\n",
    "        self.num_workers = 2\n",
    "        \n",
    "        self.dims = (28,28,1)\n",
    "        self.output_dims = (1,)\n",
    "        self.mapping = list(range(2))\n",
    "        self.classes = [3,6]\n",
    "        \n",
    "    def config(self):\n",
    "        \"\"\"Return important settings of the dataset, which will be passed to instantiate models.\"\"\"\n",
    "        return {\"input_dims\": self.dims, \"output_dims\": self.output_dims, \"mapping\": self.mapping}\n",
    "    \n",
    "    def prepare_data(self):\n",
    "        data_train = datasets.MNIST(root=\"./data\", \n",
    "                                 train=True, \n",
    "                                 download=True, \n",
    "                                 transform=transforms.Compose([transforms.ToTensor()])\n",
    "                    )\n",
    "        n_samples = 50\n",
    "        # Filter out labels (originally 0-9), leaving only labels 0 and 1\n",
    "        idx = np.append(\n",
    "            np.where(data_train.targets == self.classes[0])[0][:n_samples], \n",
    "            np.where(data_train.targets == self.classes[1])[0][:n_samples]\n",
    "        )\n",
    "        \n",
    "        x_train = data_train.data[idx].numpy().reshape(-1,784)\n",
    "        y_train = data_train.targets[idx].numpy()\n",
    "        y_train = y_train == self.classes[0]\n",
    "        \n",
    "        data_test = datasets.MNIST(root=\"./data\", \n",
    "                                 train=False, \n",
    "                                 download=True, \n",
    "                                 transform=transforms.Compose([transforms.ToTensor()])\n",
    "                    )\n",
    "        \n",
    "        self.x_train, self.x_val, self.y_train, self.y_val = train_test_split(x_train, \n",
    "                                                                              y_train, \n",
    "                                                                              test_size=0.2, \n",
    "                                                                              random_state=42)\n",
    "        \n",
    "        \n",
    "        n_samples = 50\n",
    "        # Filter out labels (originally 0-9), leaving only labels 0 and 1\n",
    "        idx = np.append(\n",
    "            np.where(data_train.targets == self.classes[0])[0][:n_samples], \n",
    "            np.where(data_train.targets == self.classes[1])[0][:n_samples]\n",
    "        )\n",
    "        \n",
    "        self.x_test = data_test.data[idx].numpy().reshape(-1,784)\n",
    "        self.y_test = data_test.targets[idx].numpy()\n",
    "        self.y_test = self.y_test == self.classes[0]\n",
    "    \n",
    "    def setup(self, stage=None):\n",
    "#         pca = PCA(49)\n",
    "#         self.x_train = pca.fit_transform(self.x_train)\n",
    "        \n",
    "        scaler = MinMaxScaler((-np.pi, np.pi))\n",
    "        \n",
    "#         self.x_train = scaler.fit_transform(self.x_train)\n",
    "#         self.x_val = scaler.fit_transform(self.x_val)\n",
    "#         self.x_test = scaler.fit_transform(self.x_test)\n",
    "        \n",
    "        self.x_train = self.x_train.reshape(-1,1,28,28)\n",
    "        self.x_train = Tensor(self.x_train)\n",
    "        self.y_train = Tensor(self.y_train).type(LongTensor)\n",
    "        \n",
    "        self.x_val = self.x_val.reshape(-1,1,28,28)\n",
    "        self.x_val = Tensor(self.x_val)\n",
    "        self.y_val = Tensor(self.y_val).type(LongTensor)\n",
    "        \n",
    "        self.x_test = self.x_test.reshape(-1,1,28,28)\n",
    "        self.x_test = Tensor(self.x_test)\n",
    "        self.y_test = Tensor(self.y_test).type(LongTensor)\n",
    "        \n",
    "        self.data_train = TensorDataset(self.x_train, self.y_train)\n",
    "        self.data_val = TensorDataset(self.x_val, self.y_val)\n",
    "        self.data_test = TensorDataset(self.x_test, self.y_test)\n",
    "\n",
    "    def train_dataloader(self):\n",
    "        return DataLoader(\n",
    "            self.data_train,\n",
    "            shuffle=True,\n",
    "            batch_size=self.batch_size,\n",
    "            num_workers=self.num_workers,\n",
    "        )\n",
    "\n",
    "    def val_dataloader(self):\n",
    "        return DataLoader(\n",
    "            self.data_val,\n",
    "            shuffle=False,\n",
    "            batch_size=self.batch_size,\n",
    "            num_workers=self.num_workers,\n",
    "        )\n",
    "\n",
    "    def test_dataloader(self):\n",
    "        return DataLoader(\n",
    "            self.data_test,\n",
    "            shuffle=False,\n",
    "            batch_size=self.batch_size,\n",
    "            num_workers=self.num_workers,\n",
    "        )\n",
    "    def __repr__(self):\n",
    "        basic = f\"Mnist Dataset\\nNum classes: {len(self.mapping)}\\nMapping: {self.mapping}\\nDims: {self.dims}\\n\"\n",
    "        x, y = next(iter(self.train_dataloader()))\n",
    "        data = (\n",
    "            f\"Train/val/test sizes: {len(self.data_train)}, {len(self.data_val)}, {len(self.data_test)}\\n\"\n",
    "            f\"Batch x stats: {(x.shape, x.dtype, x.min(), x.mean(), x.std(), x.max())}\\n\"\n",
    "            f\"Batch y stats: {(y.shape, y.dtype, y.min(), y.max())}\\n\"\n",
    "        )\n",
    "        return basic + data"
   ]
  },
  {
   "cell_type": "code",
   "execution_count": 264,
   "id": "c806c2d3",
   "metadata": {
    "ExecuteTime": {
     "end_time": "2022-06-26T06:26:59.620446Z",
     "start_time": "2022-06-26T06:26:59.594170Z"
    }
   },
   "outputs": [],
   "source": [
    "class DeviceDataLoader():\n",
    "    \"\"\"Wrap a dataloader to move data to a device\"\"\"\n",
    "    def __init__(self, dl, device):\n",
    "        self.dl = dl\n",
    "        self.device = device\n",
    "        \n",
    "    def __iter__(self):\n",
    "        \"\"\"Yield a batch of data after moving it to device\"\"\"\n",
    "        for b in self.dl: \n",
    "            yield to_device(b, self.device)\n",
    "\n",
    "    def __len__(self):\n",
    "        \"\"\"Number of batches\"\"\"\n",
    "        return len(self.dl)"
   ]
  },
  {
   "cell_type": "code",
   "execution_count": 265,
   "id": "7c94c83e",
   "metadata": {
    "ExecuteTime": {
     "end_time": "2022-06-26T06:27:00.019732Z",
     "start_time": "2022-06-26T06:26:59.941534Z"
    }
   },
   "outputs": [],
   "source": [
    "data = MnistDataModule()\n",
    "data.prepare_data()\n",
    "data.setup()"
   ]
  },
  {
   "cell_type": "code",
   "execution_count": 266,
   "id": "3bca30ad",
   "metadata": {
    "ExecuteTime": {
     "end_time": "2022-06-26T06:27:01.259927Z",
     "start_time": "2022-06-26T06:27:01.170066Z"
    }
   },
   "outputs": [
    {
     "data": {
      "text/plain": [
       "Mnist Dataset\n",
       "Num classes: 2\n",
       "Mapping: [0, 1]\n",
       "Dims: (28, 28, 1)\n",
       "Train/val/test sizes: 80, 20, 100\n",
       "Batch x stats: (torch.Size([8, 1, 28, 28]), torch.float32, tensor(0.), tensor(41.3634), tensor(86.3520), tensor(255.))\n",
       "Batch y stats: (torch.Size([8]), torch.int64, tensor(0), tensor(1))"
      ]
     },
     "execution_count": 266,
     "metadata": {},
     "output_type": "execute_result"
    }
   ],
   "source": [
    "data"
   ]
  },
  {
   "cell_type": "code",
   "execution_count": 270,
   "id": "43e8886c",
   "metadata": {
    "ExecuteTime": {
     "end_time": "2022-06-26T06:27:35.681888Z",
     "start_time": "2022-06-26T06:27:35.449115Z"
    }
   },
   "outputs": [
    {
     "data": {
      "text/plain": [
       "<matplotlib.image.AxesImage at 0x7fcc0af37510>"
      ]
     },
     "execution_count": 270,
     "metadata": {},
     "output_type": "execute_result"
    },
    {
     "data": {
      "image/png": "[encoded data removed]",
      "text/plain": [
       "<Figure size 432x288 with 1 Axes>"
      ]
     },
     "metadata": {
      "needs_background": "light"
     },
     "output_type": "display_data"
    }
   ],
   "source": [
    "plt.imshow(data.data_train[3][0][0])"
   ]
  },
  {
   "cell_type": "code",
   "execution_count": 271,
   "id": "e90c2c2a",
   "metadata": {
    "ExecuteTime": {
     "end_time": "2022-06-26T06:27:37.459124Z",
     "start_time": "2022-06-26T06:27:37.449504Z"
    }
   },
   "outputs": [],
   "source": [
    "def accuracy(outputs, labels):\n",
    "    _, preds = torch.max(outputs, dim=1)\n",
    "    return torch.tensor(torch.sum(preds == labels).item() / len(preds))"
   ]
  },
  {
   "cell_type": "code",
   "execution_count": 272,
   "id": "9f31b8eb",
   "metadata": {
    "ExecuteTime": {
     "end_time": "2022-06-26T06:27:37.733941Z",
     "start_time": "2022-06-26T06:27:37.689372Z"
    }
   },
   "outputs": [],
   "source": [
    "class QConvBlock(Module):\n",
    "    def __init__(self, \n",
    "                 kernel_size=2,\n",
    "                 strides=1):\n",
    "        \n",
    "        super().__init__()\n",
    "        self.kernel_size = kernel_size\n",
    "        self.strides = strides\n",
    "        \n",
    "        backend = Aer.get_backend(\"aer_simulator_statevector\")\n",
    "        qi = QuantumInstance(backend)\n",
    "        \n",
    "        n = kernel_size*kernel_size\n",
    "        in_thetas = ParameterVector('x', length=n)\n",
    "\n",
    "        feature_map = QuantumCircuit(n, name=\"Angle Encoding\")\n",
    "        feature_map.compose(cluster_state_circuit(n), range(n), inplace=True)\n",
    "        for i in range(n):\n",
    "            feature_map.rx(in_thetas[i]*in_thetas[0], i)\n",
    "\n",
    "        thetas = ParameterVector('θ', length=3*n)\n",
    "        ansatz = QuantumCircuit(n, name=\"Convolution\")\n",
    "        ansatz.compose(quantum_conv_circuit(n,thetas), range(n), inplace=True)\n",
    "\n",
    "        # REMEMBER TO SET input_gradients=True FOR ENABLING HYBRID GRADIENT BACKPROP\n",
    "        qcnn = TwoLayerQNN(\n",
    "                            n,\n",
    "                            feature_map= feature_map,\n",
    "                            ansatz=ansatz,\n",
    "                            input_gradients=True,\n",
    "                            exp_val=AerPauliExpectation(),\n",
    "                            quantum_instance=qi,\n",
    "                        )\n",
    "        self.circuit = TorchConnector(qcnn)\n",
    "        \n",
    "    def forward(self, x):\n",
    "        strides = self.strides\n",
    "        kernel_size = self.kernel_size\n",
    "        \n",
    "        n = (x.shape[2] - kernel_size)//strides + 1\n",
    "        m = (x.shape[3] - kernel_size)//strides + 1\n",
    "        \n",
    "        conv_out = []   \n",
    "        for i in range(n):\n",
    "            for j in range(m):\n",
    "                input_tensor = x[:, :, i*strides:i*strides+kernel_size, j*strides:j*strides+kernel_size]\n",
    "                input_tensor = torch.flatten(input_tensor,1)\n",
    "                out = self.circuit(input_tensor)\n",
    "                conv_out += [out]\n",
    "        \n",
    "        conv_out = torch.cat(conv_out,1)\n",
    "        conv_out = torch.reshape(conv_out, (-1,1, n,m))\n",
    "        return conv_out"
   ]
  },
  {
   "cell_type": "code",
   "execution_count": 273,
   "id": "e1c12dc6",
   "metadata": {
    "ExecuteTime": {
     "end_time": "2022-06-26T06:27:37.887736Z",
     "start_time": "2022-06-26T06:27:37.874658Z"
    }
   },
   "outputs": [],
   "source": [
    "class QPoolBlock(Module):\n",
    "    def __init__(self,size=(2,2)):\n",
    "        super().__init__()\n",
    "        \n",
    "        self.size = size\n",
    "        backend = Aer.get_backend(\"aer_simulator_statevector\")\n",
    "        qi = QuantumInstance(backend)\n",
    "        \n",
    "        n = size[0]*size[0]\n",
    "        ansatz = QuantumCircuit(n, name=\"Pooling\")\n",
    "        pooling = TwoLayerQNN(\n",
    "                            n,\n",
    "                            feature_map=QuantumCircuit(0),\n",
    "                            ansatz=ansatz,\n",
    "                            input_gradients=True,\n",
    "                            exp_val=AerPauliExpectation(),\n",
    "                            quantum_instance=qi,\n",
    "                        )\n",
    "        self.circuit = TorchConnector(pooling)\n",
    "    \n",
    "    def forward(self, x):\n",
    "        \n",
    "        size = self.size\n",
    "        n = (x.shape[2] - size[0])//2 + 1\n",
    "        m = (x.shape[3] - size[1])//2 + 1\n",
    "        \n",
    "        pool_out = []   \n",
    "        for i in range(n):\n",
    "            for j in range(m):\n",
    "                input_tensor = x[:,:, i*2:i*2+size[0], j*2:j*2+size[1]]\n",
    "                input_tensor = torch.flatten(input_tensor,1)\n",
    "                out = self.circuit(input_tensor)\n",
    "                pool_out += [out]\n",
    "        \n",
    "        pool_out = torch.cat(pool_out,1)\n",
    "        pool_out = torch.reshape(pool_out, (-1,1, n,m))\n",
    "        return pool_out"
   ]
  },
  {
   "cell_type": "code",
   "execution_count": 280,
   "id": "85537433",
   "metadata": {
    "ExecuteTime": {
     "end_time": "2022-06-26T06:32:26.311617Z",
     "start_time": "2022-06-26T06:32:26.285684Z"
    }
   },
   "outputs": [],
   "source": [
    "class QCNN(Module):\n",
    "    def __init__(self,data_config):\n",
    "        super().__init__()\n",
    "        \n",
    "        input_dims = data_config[\"input_dims\"]\n",
    "        num_classes = len(data_config[\"mapping\"])\n",
    "        \n",
    "        self.conv2d = torch.nn.Conv2d(1, 1, kernel_size=5)\n",
    "        self.maxpool2d = torch.nn.MaxPool2d(2)\n",
    "        self.qconv = QConvBlock(2,1)\n",
    "#         self.qpool = QPoolBlock()\n",
    "        self.dense = Linear(13*13,2)\n",
    "        \n",
    "    def forward(self, x):\n",
    "        x = self.maxpool2d(x)\n",
    "        x = self.qconv(x)  # apply QCNN\n",
    "        x = torch.flatten(x, 1)\n",
    "        x = self.dense(x)\n",
    "#         out = self.qpool(out)\n",
    "#         out = torch.flatten(out,1)\n",
    "#         print(out.shape)\n",
    "#         out = self.dense(out)\n",
    "#         print(out.shape)\n",
    "        return x\n",
    "    \n",
    "    def training_step(self, batch): \n",
    "        x, y = batch\n",
    "        logits = self(x)\n",
    "        loss = F.cross_entropy(logits, y)\n",
    "        acc = accuracy(logits, y)\n",
    "        return {'train_loss': loss, 'train_acc': acc}\n",
    "\n",
    "    def validation_step(self, batch): \n",
    "        x, y = batch\n",
    "        logits = self(x)\n",
    "        loss = F.cross_entropy(logits, y)\n",
    "        acc = accuracy(logits, y)\n",
    "        return {'val_loss': loss, 'val_acc': acc}\n",
    "    \n",
    "    def validation_epoch_end(self, outputs):\n",
    "        batch_losses = [x['val_loss'] for x in outputs]\n",
    "        epoch_loss = torch.stack(batch_losses).mean()   # Combine losses\n",
    "        batch_accs = [x['val_acc'] for x in outputs]\n",
    "        epoch_acc = torch.stack(batch_accs).mean()      # Combine accuracies\n",
    "        return {'val_loss': epoch_loss.item(), 'val_acc': epoch_acc.item()}"
   ]
  },
  {
   "cell_type": "code",
   "execution_count": 281,
   "id": "374f5762",
   "metadata": {
    "ExecuteTime": {
     "end_time": "2022-06-26T06:32:26.622187Z",
     "start_time": "2022-06-26T06:32:26.608144Z"
    }
   },
   "outputs": [],
   "source": [
    "def evaluate(model, val_dataloader):\n",
    "    outputs = [model.validation_step(batch) for batch in val_dataloader]\n",
    "    return model.validation_epoch_end(outputs)"
   ]
  },
  {
   "cell_type": "code",
   "execution_count": 282,
   "id": "59562202",
   "metadata": {
    "ExecuteTime": {
     "end_time": "2022-06-26T06:32:27.294276Z",
     "start_time": "2022-06-26T06:32:27.266818Z"
    }
   },
   "outputs": [],
   "source": [
    "def fit(epochs, lr, model, train_dataloader, val_dataloader,):\n",
    "    history = {\n",
    "        'train_acc':[],\n",
    "        'train_loss':[],\n",
    "        'val_acc':[np.nan],\n",
    "        'val_loss':[np.nan]\n",
    "    }\n",
    "    optimizer = torch.optim.Adam(model.parameters(), lr = lr)\n",
    "    scheduler = torch.optim.lr_scheduler.ReduceLROnPlateau(optimizer, 'min',patience=3)\n",
    "    for epoch in range(epochs):\n",
    "        # Training \n",
    "        with tqdm(train_dataloader, unit=\"batch\") as tepoch:\n",
    "            for batch in tepoch:\n",
    "                tepoch.set_description(f\"Epoch {epoch}\")\n",
    "                \n",
    "                output = model.training_step(batch)\n",
    "                loss , acc = output['train_loss'], output['train_acc']\n",
    "                history['train_loss'].append(loss.item())\n",
    "                history['train_acc'].append(acc.item())\n",
    "                loss.backward()\n",
    "                optimizer.step()\n",
    "                optimizer.zero_grad()\n",
    "                \n",
    "                tepoch.set_postfix(loss=loss.item(), \n",
    "                                   acc=acc.item(),\n",
    "                                   val_loss= history['val_loss'][-1], \n",
    "                                   val_acc =history['val_acc'][-1])\n",
    "                   \n",
    "        # Validation\n",
    "        result = evaluate(model, val_dataloader)\n",
    "        val_loss = result['val_loss']\n",
    "        val_acc = result['val_acc']\n",
    "        history['val_loss'].append(val_loss)\n",
    "        history['val_acc'].append(val_acc)\n",
    "        scheduler.step(val_loss)\n",
    "        \n",
    "    return history"
   ]
  },
  {
   "cell_type": "code",
   "execution_count": 283,
   "id": "c9a455be",
   "metadata": {
    "ExecuteTime": {
     "end_time": "2022-06-26T06:32:27.660812Z",
     "start_time": "2022-06-26T06:32:27.655576Z"
    }
   },
   "outputs": [],
   "source": [
    "train_dataloader = DeviceDataLoader(data.train_dataloader(), device)\n",
    "val_dataloader = DeviceDataLoader(data.val_dataloader(), device)"
   ]
  },
  {
   "cell_type": "code",
   "execution_count": 284,
   "id": "82fee939",
   "metadata": {
    "ExecuteTime": {
     "end_time": "2022-06-26T06:32:31.393323Z",
     "start_time": "2022-06-26T06:32:28.455290Z"
    }
   },
   "outputs": [
    {
     "data": {
      "text/plain": [
       "QCNN(\n",
       "  (conv2d): Conv2d(1, 1, kernel_size=(5, 5), stride=(1, 1))\n",
       "  (maxpool2d): MaxPool2d(kernel_size=2, stride=2, padding=0, dilation=1, ceil_mode=False)\n",
       "  (qconv): QConvBlock(\n",
       "    (circuit): TorchConnector()\n",
       "  )\n",
       "  (dense): Linear(in_features=169, out_features=2, bias=True)\n",
       ")"
      ]
     },
     "execution_count": 284,
     "metadata": {},
     "output_type": "execute_result"
    }
   ],
   "source": [
    "model = QCNN(data.config())\n",
    "to_device(model,device)"
   ]
  },
  {
   "cell_type": "code",
   "execution_count": 285,
   "id": "c26949ef",
   "metadata": {
    "ExecuteTime": {
     "end_time": "2022-06-26T07:30:13.120931Z",
     "start_time": "2022-06-26T06:32:35.826817Z"
    }
   },
   "outputs": [
    {
     "name": "stderr",
     "output_type": "stream",
     "text": [
      "Epoch 0: 100%|███████████████████| 10/10 [56:54<00:00, 341.43s/batch, acc=0.5, loss=0.685, val_acc=nan, val_loss=nan]\n"
     ]
    }
   ],
   "source": [
    "history = fit(1, 0.001, model, train_dataloader, val_dataloader)"
   ]
  },
  {
   "cell_type": "code",
   "execution_count": null,
   "id": "f5fbda66",
   "metadata": {},
   "outputs": [],
   "source": [
    "train_losses = history['train_loss']\n",
    "val_losses = history['val_loss']\n",
    "train_accs = history['train_acc']\n",
    "val_accs = history['val_acc']"
   ]
  },
  {
   "cell_type": "code",
   "execution_count": null,
   "id": "2cd11bbe",
   "metadata": {},
   "outputs": [],
   "source": [
    "plt.plot(train_losses, color='r', label='train loss')\n",
    "plt.plot(train_accs, color='g', label='train accs')\n",
    "plt.legend()"
   ]
  },
  {
   "cell_type": "code",
   "execution_count": null,
   "id": "deb56b02",
   "metadata": {},
   "outputs": [],
   "source": [
    "plt.plot(val_losses, color='b', label='=val loss')\n",
    "plt.plot(val_accs, color='y', label='val accs')\n",
    "plt.legend()"
   ]
  },
  {
   "cell_type": "code",
   "execution_count": null,
   "id": "3e3a4264",
   "metadata": {},
   "outputs": [],
   "source": [
    "torch.save(model.state_dict(), \"model.pt\")"
   ]
  },
  {
   "cell_type": "code",
   "execution_count": null,
   "id": "7d278ebb",
   "metadata": {},
   "outputs": [],
   "source": [
    "model = QCNN(data.config())\n",
    "model.load_state_dict(torch.load(\"model.pt\"))"
   ]
  },
  {
   "cell_type": "code",
   "execution_count": null,
   "id": "fa4de804",
   "metadata": {},
   "outputs": [],
   "source": [
    "test_dataloader = DeviceDataLoader(data.test_dataloader(), device)\n",
    "to_device(model, device)"
   ]
  },
  {
   "cell_type": "code",
   "execution_count": null,
   "id": "e242aebf",
   "metadata": {},
   "outputs": [],
   "source": [
    "result = evaluate(model, test_dataloader)\n",
    "print('test_loss: {:.4f}'.format(result['val_loss']) )\n",
    "print('test_acc: {:.4f}'.format(result['val_acc']))"
   ]
  }
 ],
 "metadata": {
  "kernelspec": {
   "display_name": "Python (qiskit-qcnn)",
   "language": "python",
   "name": "qiskit-qcnn"
  },
  "language_info": {
   "codemirror_mode": {
    "name": "ipython",
    "version": 3
   },
   "file_extension": ".py",
   "mimetype": "text/x-python",
   "name": "python",
   "nbconvert_exporter": "python",
   "pygments_lexer": "ipython3",
   "version": "3.7.13"
  },
  "latex_envs": {
   "LaTeX_envs_menu_present": true,
   "autoclose": false,
   "autocomplete": true,
   "bibliofile": "biblio.bib",
   "cite_by": "apalike",
   "current_citInitial": 1,
   "eqLabelWithNumbers": true,
   "eqNumInitial": 1,
   "hotkeys": {
    "equation": "Ctrl-E",
    "itemize": "Ctrl-I"
   },
   "labels_anchors": false,
   "latex_user_defs": false,
   "report_style_numbering": false,
   "user_envs_cfg": false
  },
  "toc": {
   "base_numbering": 1,
   "nav_menu": {},
   "number_sections": true,
   "sideBar": true,
   "skip_h1_title": false,
   "title_cell": "Table of Contents",
   "title_sidebar": "Contents",
   "toc_cell": false,
   "toc_position": {},
   "toc_section_display": true,
   "toc_window_display": false
  }
 },
 "nbformat": 4,
 "nbformat_minor": 5
}
