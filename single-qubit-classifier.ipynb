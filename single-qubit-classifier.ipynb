{
 "cells": [
  {
   "cell_type": "code",
   "execution_count": null,
   "id": "2a3f0493",
   "metadata": {},
   "outputs": [],
   "source": [
    "# !pip install qiskit --quiet\n",
    "# !pip install qiskit-machine-learning --quiet\n",
    "# !pip install pylatexenc --quiet"
   ]
  },
  {
   "cell_type": "code",
   "execution_count": 84,
   "id": "e9a18bfd",
   "metadata": {
    "ExecuteTime": {
     "end_time": "2022-06-28T15:41:49.014357Z",
     "start_time": "2022-06-28T15:41:48.998662Z"
    }
   },
   "outputs": [],
   "source": [
    "import numpy as np\n",
    "import matplotlib.pyplot as plt\n",
    "from tqdm import tqdm\n",
    "\n",
    "import torch\n",
    "from torch import Tensor, LongTensor\n",
    "from torch.utils.data import TensorDataset, DataLoader\n",
    "from torch.nn import Module, Linear\n",
    "from torchvision import datasets, transforms\n",
    "import torch.nn.functional as F\n",
    "\n",
    "from sklearn.datasets import make_blobs\n",
    "from sklearn.preprocessing import MinMaxScaler\n",
    "from sklearn.decomposition import PCA\n",
    "from sklearn.model_selection import train_test_split\n",
    "\n",
    "from qiskit import QuantumCircuit, Aer, transpile\n",
    "from qiskit_machine_learning.neural_networks import CircuitQNN,TwoLayerQNN, OpflowQNN\n",
    "from qiskit.opflow import AerPauliExpectation\n",
    "from qiskit_machine_learning.connectors import TorchConnector\n",
    "from qiskit.circuit import ParameterVector\n",
    "from qiskit.utils import QuantumInstance\n",
    "from qiskit.opflow import AerPauliExpectation\n",
    "from qiskit.opflow import ListOp\n",
    "from qiskit.opflow import PauliSumOp, StateFn"
   ]
  },
  {
   "cell_type": "code",
   "execution_count": 2,
   "id": "6ab7b315",
   "metadata": {
    "ExecuteTime": {
     "end_time": "2022-06-28T14:16:16.391343Z",
     "start_time": "2022-06-28T14:16:16.375987Z"
    }
   },
   "outputs": [],
   "source": [
    "def get_default_device():\n",
    "    \"\"\"Pick GPU if available, else CPU\"\"\"\n",
    "    if torch.cuda.is_available():\n",
    "        return torch.device('cuda')\n",
    "    else:\n",
    "        return torch.device('cpu')"
   ]
  },
  {
   "cell_type": "code",
   "execution_count": 3,
   "id": "95d9f32d",
   "metadata": {
    "ExecuteTime": {
     "end_time": "2022-06-28T14:16:18.264643Z",
     "start_time": "2022-06-28T14:16:16.642233Z"
    }
   },
   "outputs": [
    {
     "data": {
      "text/plain": [
       "device(type='cpu')"
      ]
     },
     "execution_count": 3,
     "metadata": {},
     "output_type": "execute_result"
    }
   ],
   "source": [
    "device = get_default_device()\n",
    "device"
   ]
  },
  {
   "cell_type": "code",
   "execution_count": 4,
   "id": "86b519ac",
   "metadata": {
    "ExecuteTime": {
     "end_time": "2022-06-28T14:16:19.779191Z",
     "start_time": "2022-06-28T14:16:19.766722Z"
    }
   },
   "outputs": [],
   "source": [
    "def to_device(data, device):\n",
    "    \"\"\"Move tensor(s) to chosen device\"\"\"\n",
    "    if isinstance(data, (list,tuple)):\n",
    "        return [to_device(x, device) for x in data]\n",
    "    return data.to(device, non_blocking=True)"
   ]
  },
  {
   "cell_type": "code",
   "execution_count": 5,
   "id": "146c145a",
   "metadata": {
    "ExecuteTime": {
     "end_time": "2022-06-28T14:16:20.164665Z",
     "start_time": "2022-06-28T14:16:20.146956Z"
    }
   },
   "outputs": [],
   "source": [
    "def one_qubit_unitary(thetas):\n",
    "    qc = QuantumCircuit(1)\n",
    "    qc.rx(thetas[0], 0)\n",
    "    qc.ry(thetas[1], 0)\n",
    "    qc.rz(thetas[2], 0)\n",
    "    return qc"
   ]
  },
  {
   "cell_type": "code",
   "execution_count": 6,
   "id": "4e4a4541",
   "metadata": {
    "ExecuteTime": {
     "end_time": "2022-06-28T14:16:42.084705Z",
     "start_time": "2022-06-28T14:16:20.550996Z"
    }
   },
   "outputs": [
    {
     "data": {
      "image/png": "[encoded data removed]",
      "text/plain": [
       "<Figure size 253.926x84.28 with 1 Axes>"
      ]
     },
     "execution_count": 6,
     "metadata": {},
     "output_type": "execute_result"
    }
   ],
   "source": [
    "thetas = ParameterVector('θ', length=3)\n",
    "circuit = one_qubit_unitary(thetas)\n",
    "circuit.draw('mpl')"
   ]
  },
  {
   "cell_type": "code",
   "execution_count": 61,
   "id": "a19fb643",
   "metadata": {
    "ExecuteTime": {
     "end_time": "2022-06-28T14:27:25.905254Z",
     "start_time": "2022-06-28T14:27:25.858997Z"
    }
   },
   "outputs": [],
   "source": [
    "class MnistDataModule():\n",
    "    def __init__(self, n_features = 2):\n",
    "        super().__init__()\n",
    "        self.batch_size = 16\n",
    "        self.num_workers = 4\n",
    "        \n",
    "        self.dims = (1,28,28)\n",
    "        self.output_dims = (1,)\n",
    "        self.mapping = list(range(2))\n",
    "        self.classes = [3,6]\n",
    "        \n",
    "        self.on_gpu = torch.cuda.is_available()\n",
    "        \n",
    "    def config(self):\n",
    "        \"\"\"Return important settings of the dataset, which will be passed to instantiate models.\"\"\"\n",
    "        return {\"input_dims\": self.dims, \"output_dims\": self.output_dims, \"mapping\": self.mapping}\n",
    "    \n",
    "    def prepare_data(self):\n",
    "        data_train = datasets.MNIST(root=\"./data\", \n",
    "                                 train=True, \n",
    "                                 download=True, \n",
    "                                 transform=transforms.Compose([transforms.ToTensor()])\n",
    "                    )\n",
    "        n_samples = 70\n",
    "        \n",
    "        # Filter out labels (originally 0-9), leaving only labels 0 and 1\n",
    "        idx = np.append(\n",
    "            np.where(data_train.targets == self.classes[0])[0][:n_samples], \n",
    "            np.where(data_train.targets == self.classes[1])[0][:n_samples]\n",
    "        )\n",
    "        \n",
    "        self.x_train = data_train.data[idx].numpy().reshape(-1,784)\n",
    "        self.y_train = data_train.targets[idx].numpy()\n",
    "        self.y_train = self.y_train == self.classes[0]\n",
    "        \n",
    "        data_test = datasets.MNIST(root=\"./data\", \n",
    "                                 train=False, \n",
    "                                 download=True, \n",
    "                                 transform=transforms.Compose([transforms.ToTensor()]))\n",
    "        \n",
    "        n_samples = 32\n",
    "        # Filter out labels (originally 0-9), leaving only labels 0 and 1\n",
    "        idx = np.append(\n",
    "            np.where(data_train.targets == self.classes[0])[0][:n_samples], \n",
    "            np.where(data_train.targets == self.classes[1])[0][:n_samples]\n",
    "        )\n",
    "        \n",
    "        self.x_test = data_test.data[idx].numpy().reshape(-1,784)\n",
    "        self.y_test = data_test.targets[idx].numpy()\n",
    "        self.y_test = self.y_test == self.classes[0]\n",
    "    \n",
    "    def setup(self, stage=None):\n",
    "        \n",
    "        scaler = MinMaxScaler((-np.pi, np.pi))\n",
    "        \n",
    "        self.x_train = scaler.fit_transform(self.x_train)\n",
    "        self.x_test = scaler.fit_transform(self.x_test)\n",
    "        \n",
    "        resize = transforms.Resize((10,10))\n",
    "        orig_shape = (-1,1,28,28)\n",
    "        new_shape = (-1,1,10,10)  \n",
    "        \n",
    "        self.x_train, self.x_val, self.y_train, self.y_val = train_test_split(self.x_train, \n",
    "                                                                              self.y_train, \n",
    "                                                                              test_size=0.2, \n",
    "                                                                              random_state=42)                           \n",
    "        \n",
    "        self.x_train = self.x_train.reshape(orig_shape)\n",
    "        self.x_train = resize(Tensor(self.x_train))\n",
    "        self.y_train = Tensor(self.y_train).type(LongTensor)\n",
    "        \n",
    "        self.x_val = self.x_val.reshape(orig_shape)\n",
    "        self.x_val = resize(Tensor(self.x_val))\n",
    "        self.y_val = Tensor(self.y_val).type(LongTensor)\n",
    "        \n",
    "        self.x_test = self.x_test.reshape(orig_shape)\n",
    "        self.x_test = resize(Tensor(self.x_test))\n",
    "        self.y_test = Tensor(self.y_test).type(LongTensor)\n",
    "        \n",
    "        self.dims = new_shape[1:]\n",
    "        \n",
    "        self.data_train = TensorDataset(self.x_train, self.y_train)\n",
    "        self.data_val = TensorDataset(self.x_val, self.y_val)\n",
    "        self.data_test = TensorDataset(self.x_test, self.y_test)\n",
    "\n",
    "    def train_dataloader(self):\n",
    "        return DataLoader(\n",
    "            self.data_train,\n",
    "            shuffle=True,\n",
    "            batch_size=self.batch_size,\n",
    "            num_workers=self.num_workers,\n",
    "            pin_memory = self.on_gpu\n",
    "        )\n",
    "\n",
    "    def val_dataloader(self):\n",
    "        return DataLoader(\n",
    "            self.data_val,\n",
    "            shuffle=False,\n",
    "            batch_size=self.batch_size,\n",
    "            num_workers=self.num_workers,\n",
    "            pin_memory = self.on_gpu\n",
    "        )\n",
    "\n",
    "    def test_dataloader(self):\n",
    "        return DataLoader(\n",
    "            self.data_test,\n",
    "            shuffle=False,\n",
    "            batch_size=self.batch_size,\n",
    "            num_workers=self.num_workers,\n",
    "            pin_memory = self.on_gpu\n",
    "        )\n",
    "    def __repr__(self):\n",
    "        basic = f\"Mnist Dataset\\nNum classes: {len(self.mapping)}\\nMapping: {self.mapping}\\nDims: {self.dims}\\n\"\n",
    "        x, y = next(iter(self.train_dataloader()))\n",
    "        data = (\n",
    "            f\"Train/val/test sizes: {len(self.data_train)}, {len(self.data_val)}, {len(self.data_test)}\\n\"\n",
    "            f\"Batch x stats: {(x.shape, x.dtype, x.min(), x.mean(), x.std(), x.max())}\\n\"\n",
    "            f\"Batch y stats: {(y.shape, y.dtype, y.min(), y.max())}\\n\"\n",
    "        )\n",
    "        return basic + data"
   ]
  },
  {
   "cell_type": "code",
   "execution_count": 62,
   "id": "c6948b64",
   "metadata": {
    "ExecuteTime": {
     "end_time": "2022-06-28T14:27:26.132241Z",
     "start_time": "2022-06-28T14:27:26.105901Z"
    }
   },
   "outputs": [],
   "source": [
    "class DeviceDataLoader():\n",
    "    \"\"\"Wrap a dataloader to move data to a device\"\"\"\n",
    "    def __init__(self, dl, device):\n",
    "        self.dl = dl\n",
    "        self.device = device\n",
    "        \n",
    "    def __iter__(self):\n",
    "        \"\"\"Yield a batch of data after moving it to device\"\"\"\n",
    "        for b in self.dl: \n",
    "            yield to_device(b, self.device)\n",
    "\n",
    "    def __len__(self):\n",
    "        \"\"\"Number of batches\"\"\"\n",
    "        return len(self.dl)"
   ]
  },
  {
   "cell_type": "code",
   "execution_count": 63,
   "id": "1569928c",
   "metadata": {
    "ExecuteTime": {
     "end_time": "2022-06-28T14:27:26.492560Z",
     "start_time": "2022-06-28T14:27:26.356059Z"
    }
   },
   "outputs": [],
   "source": [
    "data = MnistDataModule()\n",
    "data.prepare_data()\n",
    "data.setup()"
   ]
  },
  {
   "cell_type": "code",
   "execution_count": 64,
   "id": "528a9e9e",
   "metadata": {
    "ExecuteTime": {
     "end_time": "2022-06-28T14:27:26.785652Z",
     "start_time": "2022-06-28T14:27:26.624912Z"
    }
   },
   "outputs": [
    {
     "data": {
      "text/plain": [
       "Mnist Dataset\n",
       "Num classes: 2\n",
       "Mapping: [0, 1]\n",
       "Dims: (1, 10, 10)\n",
       "Train/val/test sizes: 112, 28, 64\n",
       "Batch x stats: (torch.Size([16, 1, 10, 10]), torch.float32, tensor(-3.1416), tensor(-2.2047), tensor(1.9385), tensor(3.1364))\n",
       "Batch y stats: (torch.Size([16]), torch.int64, tensor(0), tensor(1))"
      ]
     },
     "execution_count": 64,
     "metadata": {},
     "output_type": "execute_result"
    }
   ],
   "source": [
    "data"
   ]
  },
  {
   "cell_type": "code",
   "execution_count": 65,
   "id": "ec37d557",
   "metadata": {
    "ExecuteTime": {
     "end_time": "2022-06-28T14:27:28.041894Z",
     "start_time": "2022-06-28T14:27:27.828955Z"
    }
   },
   "outputs": [
    {
     "data": {
      "text/plain": [
       "<matplotlib.image.AxesImage at 0x7f3659aea8d0>"
      ]
     },
     "execution_count": 65,
     "metadata": {},
     "output_type": "execute_result"
    },
    {
     "data": {
      "image/png": "[encoded data removed]",
      "text/plain": [
       "<Figure size 432x288 with 1 Axes>"
      ]
     },
     "metadata": {
      "needs_background": "light"
     },
     "output_type": "display_data"
    }
   ],
   "source": [
    "plt.imshow(data.data_train[3][0][0])"
   ]
  },
  {
   "cell_type": "code",
   "execution_count": 66,
   "id": "99b108d0",
   "metadata": {
    "ExecuteTime": {
     "end_time": "2022-06-28T14:27:30.304769Z",
     "start_time": "2022-06-28T14:27:30.298253Z"
    }
   },
   "outputs": [],
   "source": [
    "def accuracy(outputs, labels):\n",
    "    _, preds = torch.max(outputs, dim=1)\n",
    "    return torch.tensor(torch.sum(preds == labels).item() / len(preds))"
   ]
  },
  {
   "cell_type": "code",
   "execution_count": 197,
   "id": "17f29f4a",
   "metadata": {
    "ExecuteTime": {
     "end_time": "2022-06-28T16:38:04.855474Z",
     "start_time": "2022-06-28T16:38:04.819184Z"
    }
   },
   "outputs": [],
   "source": [
    "class QConvBlock(Module):\n",
    "    def __init__(self, kernel_size=2,strides=1):\n",
    "        \n",
    "        super().__init__()\n",
    "        self.kernel_size = kernel_size\n",
    "        self.strides = strides\n",
    "        self.qi_sv = QuantumInstance(Aer.get_backend(\"aer_simulator_statevector\"))\n",
    "        self.filter_size = kernel_size*kernel_size\n",
    "        self.qcnn = None\n",
    "        \n",
    "    def build(self,input_shape):\n",
    "        s = self.strides\n",
    "        k = self.kernel_size\n",
    "        f = self.filter_size\n",
    "        \n",
    "        self.pad = (3 - (f % 3)) % 3\n",
    "        \n",
    "        self.in_thetas = []\n",
    "        self.weights = []\n",
    "        self.bias =  []\n",
    "        \n",
    "        operators = []\n",
    "        rotations = (f + self.pad)//3\n",
    "        \n",
    "        n = (input_shape[2] - k)//s + 1\n",
    "        m = (input_shape[3] - k)//s + 1\n",
    "        \n",
    "        rotations = (f+self.pad)//3\n",
    "        observable = PauliSumOp.from_list([(\"Z\" * 1, 1)])\n",
    "        \n",
    "        for i in range(n):\n",
    "            for j in range(m):\n",
    "                circuit= QuantumCircuit(1)\n",
    "                for k in range(rotations):\n",
    "                    suffix = str(i)+str(j)+str(k)\n",
    "                    \n",
    "                    x = ParameterVector('x'+suffix, length=3)\n",
    "                    w = ParameterVector('w'+suffix, length=3)\n",
    "                    b = ParameterVector('b'+suffix, length=3)\n",
    "                    \n",
    "                    parameters = [w[i]*x[i] + b[i] for i in range(3)]\n",
    "                    circuit.compose(one_qubit_unitary(parameters), [0], inplace=True)\n",
    "                    \n",
    "                    self.in_thetas += list(x)\n",
    "                    self.weights += list(w)\n",
    "                    self.bias += list(b)\n",
    "                    \n",
    "                operators.append(~StateFn(observable) @ StateFn(circuit)) \n",
    "        \n",
    "        self.operators = ListOp(operators)\n",
    "        \n",
    "        # REMEMBER TO SET input_gradients=True FOR ENABLING HYBRID GRADIENT BACKPROP\n",
    "        self.qcnn = OpflowQNN(self.operators,\n",
    "                              input_params= self.in_thetas,\n",
    "                              weight_params= self.weights + self.bias,\n",
    "                              input_gradients=True,\n",
    "                              exp_val = AerPauliExpectation(),\n",
    "                              quantum_instance=self.qi_sv)\n",
    "        self.model_circuit = TorchConnector(self.qcnn)\n",
    "        \n",
    "    def forward(self, x):\n",
    "        s = self.strides\n",
    "        k = self.kernel_size\n",
    "        \n",
    "        n = (x.shape[2] - k)//s + 1\n",
    "        m = (x.shape[3] - k)//s + 1\n",
    "        \n",
    "        if self.qcnn is None:\n",
    "            self.build(x.shape)\n",
    "        \n",
    "        sub_images = []\n",
    "        padder = torch.nn.ZeroPad2d((0,self.pad))\n",
    "        for i in range(n):\n",
    "            for j in range(m):\n",
    "                sub_images.append(padder(torch.flatten(x[:, 0, i*s:i*s+k, j*s:j*s+k],1)))\n",
    "        \n",
    "        sub_images = torch.cat(sub_images,1)\n",
    "        \n",
    "        out = torch.reshape(self.model_circuit(sub_images), (-1,1,n,m))\n",
    "        return out"
   ]
  },
  {
   "cell_type": "code",
   "execution_count": 198,
   "id": "b114d157",
   "metadata": {
    "ExecuteTime": {
     "end_time": "2022-06-28T16:39:08.671077Z",
     "start_time": "2022-06-28T16:39:08.658973Z"
    }
   },
   "outputs": [],
   "source": [
    "class QCNN(Module):\n",
    "    def __init__(self,data_config):\n",
    "        super().__init__()\n",
    "\n",
    "        input_dims = data_config[\"input_dims\"]\n",
    "        num_classes = len(data_config[\"mapping\"])\n",
    "    \n",
    "        self.qconv = QConvBlock(3,1)\n",
    "        self.dense = Linear(64,1)\n",
    "        \n",
    "    def forward(self, x):\n",
    "        x = F.relu(self.qconv(x))\n",
    "        x = torch.flatten(x, 1)\n",
    "        x = torch.sigmoid(self.dense(x))\n",
    "        return torch.cat((x, 1 - x), -1)\n",
    "    \n",
    "    def training_step(self, batch): \n",
    "        x, y = batch\n",
    "        logits = self(x)\n",
    "        loss = torch.nn.NLLLoss()(logits, y)\n",
    "        acc = accuracy(logits, y)\n",
    "        return {'train_loss': loss, 'train_acc': acc}\n",
    "\n",
    "    def validation_step(self, batch): \n",
    "        x, y = batch\n",
    "        logits = self(x)\n",
    "        loss = torch.nn.NLLLoss()(logits, y)\n",
    "        acc = accuracy(logits, y)\n",
    "        return {'val_loss': loss, 'val_acc': acc}\n",
    "    \n",
    "    def validation_epoch_end(self, outputs):\n",
    "        batch_losses = [x['val_loss'] for x in outputs]\n",
    "        epoch_loss = torch.stack(batch_losses).mean()   # Combine losses\n",
    "        batch_accs = [x['val_acc'] for x in outputs]\n",
    "        epoch_acc = torch.stack(batch_accs).mean()      # Combine accuracies\n",
    "        return {'val_loss': epoch_loss.item(), 'val_acc': epoch_acc.item()}"
   ]
  },
  {
   "cell_type": "code",
   "execution_count": 199,
   "id": "20cfd1ed",
   "metadata": {
    "ExecuteTime": {
     "end_time": "2022-06-28T16:39:09.977410Z",
     "start_time": "2022-06-28T16:39:09.963781Z"
    }
   },
   "outputs": [],
   "source": [
    "def evaluate(model, val_dataloader):\n",
    "    outputs = [model.validation_step(batch) for batch in val_dataloader]\n",
    "    return model.validation_epoch_end(outputs)"
   ]
  },
  {
   "cell_type": "code",
   "execution_count": 200,
   "id": "db164641",
   "metadata": {
    "ExecuteTime": {
     "end_time": "2022-06-28T16:39:11.169778Z",
     "start_time": "2022-06-28T16:39:11.156324Z"
    }
   },
   "outputs": [],
   "source": [
    "def fit(epochs, lr, model, train_dataloader, val_dataloader,):\n",
    "    history = {\n",
    "        'train_acc':[],\n",
    "        'train_loss':[],\n",
    "        'val_acc':[np.nan],\n",
    "        'val_loss':[np.nan]\n",
    "    }\n",
    "    optimizer = torch.optim.AdamW(model.parameters(), lr = lr)\n",
    "    scheduler = torch.optim.lr_scheduler.ReduceLROnPlateau(optimizer, 'min',patience=1, min_lr=1e-6)\n",
    "    for epoch in range(epochs):\n",
    "        # Training \n",
    "        with tqdm(train_dataloader, unit=\"batch\") as tepoch:\n",
    "            for batch in tepoch:\n",
    "                tepoch.set_description(f\"Epoch {epoch}\")\n",
    "                \n",
    "                optimizer.zero_grad(set_to_none=True)\n",
    "                output = model.training_step(batch)\n",
    "                loss , acc = output['train_loss'], output['train_acc']\n",
    "                \n",
    "                history['train_loss'].append(loss.item())\n",
    "                history['train_acc'].append(acc.item())\n",
    "                \n",
    "                loss.backward()\n",
    "                optimizer.step()\n",
    "                \n",
    "                tepoch.set_postfix(loss=loss.item(), \n",
    "                                   acc=acc.item(),\n",
    "                                   val_loss= history['val_loss'][-1], \n",
    "                                   val_acc =history['val_acc'][-1])\n",
    "                print()\n",
    "                \n",
    "        # Validation\n",
    "        result = evaluate(model, val_dataloader)\n",
    "        \n",
    "        val_loss = result['val_loss']\n",
    "        val_acc = result['val_acc']\n",
    "        history['val_loss'].append(val_loss)\n",
    "        history['val_acc'].append(val_acc)\n",
    "        \n",
    "        scheduler.step(val_loss)\n",
    "        \n",
    "    return history"
   ]
  },
  {
   "cell_type": "code",
   "execution_count": 201,
   "id": "e54cb6b1",
   "metadata": {
    "ExecuteTime": {
     "end_time": "2022-06-28T16:39:12.572384Z",
     "start_time": "2022-06-28T16:39:12.566196Z"
    }
   },
   "outputs": [],
   "source": [
    "train_dataloader = DeviceDataLoader(data.train_dataloader(), device)\n",
    "val_dataloader = DeviceDataLoader(data.val_dataloader(), device)"
   ]
  },
  {
   "cell_type": "code",
   "execution_count": 202,
   "id": "08544cca",
   "metadata": {
    "ExecuteTime": {
     "end_time": "2022-06-28T16:39:18.667879Z",
     "start_time": "2022-06-28T16:39:18.653315Z"
    }
   },
   "outputs": [
    {
     "data": {
      "text/plain": [
       "QCNN(\n",
       "  (qconv): QConvBlock()\n",
       "  (dense): Linear(in_features=64, out_features=1, bias=True)\n",
       ")"
      ]
     },
     "execution_count": 202,
     "metadata": {},
     "output_type": "execute_result"
    }
   ],
   "source": [
    "model = QCNN(data.config())\n",
    "to_device(model,device)"
   ]
  },
  {
   "cell_type": "code",
   "execution_count": null,
   "id": "f4b5be8e",
   "metadata": {
    "ExecuteTime": {
     "start_time": "2022-06-28T16:39:42.499Z"
    },
    "scrolled": false
   },
   "outputs": [
    {
     "name": "stderr",
     "output_type": "stream",
     "text": [
      "Epoch 0:   0%|                                                                              | 0/7 [00:00<?, ?batch/s]"
     ]
    }
   ],
   "source": [
    "history = fit(5, 0.001, model, train_dataloader, val_dataloader)"
   ]
  },
  {
   "cell_type": "code",
   "execution_count": 183,
   "id": "718d8b39",
   "metadata": {
    "ExecuteTime": {
     "end_time": "2022-06-27T06:59:39.170362Z",
     "start_time": "2022-06-27T06:59:39.161170Z"
    }
   },
   "outputs": [],
   "source": [
    "train_losses = history['train_loss']\n",
    "val_losses = history['val_loss']\n",
    "train_accs = history['train_acc']\n",
    "val_accs = history['val_acc']"
   ]
  },
  {
   "cell_type": "code",
   "execution_count": 184,
   "id": "008deaff",
   "metadata": {
    "ExecuteTime": {
     "end_time": "2022-06-27T06:59:39.597790Z",
     "start_time": "2022-06-27T06:59:39.177829Z"
    }
   },
   "outputs": [
    {
     "data": {
      "text/plain": [
       "<matplotlib.legend.Legend at 0x7f10d81ec4d0>"
      ]
     },
     "execution_count": 184,
     "metadata": {},
     "output_type": "execute_result"
    },
    {
     "data": {
      "image/png": "[encoded data removed]",
      "text/plain": [
       "<Figure size 432x288 with 1 Axes>"
      ]
     },
     "metadata": {
      "needs_background": "light"
     },
     "output_type": "display_data"
    }
   ],
   "source": [
    "plt.plot(train_losses, color='r', label='train loss')\n",
    "plt.plot(train_accs, color='g', label='train accs')\n",
    "plt.legend()"
   ]
  },
  {
   "cell_type": "code",
   "execution_count": 185,
   "id": "c3a42a8c",
   "metadata": {
    "ExecuteTime": {
     "end_time": "2022-06-27T06:59:39.979119Z",
     "start_time": "2022-06-27T06:59:39.604374Z"
    }
   },
   "outputs": [
    {
     "data": {
      "text/plain": [
       "<matplotlib.legend.Legend at 0x7f10e3934c10>"
      ]
     },
     "execution_count": 185,
     "metadata": {},
     "output_type": "execute_result"
    },
    {
     "data": {
      "image/png": "[encoded data removed]",
      "text/plain": [
       "<Figure size 432x288 with 1 Axes>"
      ]
     },
     "metadata": {
      "needs_background": "light"
     },
     "output_type": "display_data"
    }
   ],
   "source": [
    "plt.plot(val_losses, color='b', label='=val loss')\n",
    "plt.plot(val_accs, color='y', label='val accs')\n",
    "plt.legend()"
   ]
  },
  {
   "cell_type": "code",
   "execution_count": 186,
   "id": "c4937026",
   "metadata": {
    "ExecuteTime": {
     "end_time": "2022-06-27T06:59:39.994491Z",
     "start_time": "2022-06-27T06:59:39.984439Z"
    }
   },
   "outputs": [],
   "source": [
    "torch.save(model.state_dict(), \"model.pt\")"
   ]
  },
  {
   "cell_type": "code",
   "execution_count": 187,
   "id": "e8e40f7c",
   "metadata": {
    "ExecuteTime": {
     "end_time": "2022-06-27T06:59:40.108470Z",
     "start_time": "2022-06-27T06:59:39.999098Z"
    }
   },
   "outputs": [
    {
     "data": {
      "text/plain": [
       "<All keys matched successfully>"
      ]
     },
     "execution_count": 187,
     "metadata": {},
     "output_type": "execute_result"
    }
   ],
   "source": [
    "model = QCNN(data.config())\n",
    "model.load_state_dict(torch.load(\"model.pt\"))"
   ]
  },
  {
   "cell_type": "code",
   "execution_count": 188,
   "id": "6923b40b",
   "metadata": {
    "ExecuteTime": {
     "end_time": "2022-06-27T06:59:40.198716Z",
     "start_time": "2022-06-27T06:59:40.113557Z"
    }
   },
   "outputs": [
    {
     "data": {
      "text/plain": [
       "QCNN(\n",
       "  (conv1): Conv2d(1, 2, kernel_size=(5, 5), stride=(1, 1))\n",
       "  (conv2): Conv2d(2, 16, kernel_size=(5, 5), stride=(1, 1))\n",
       "  (dropout): Dropout2d(p=0.5, inplace=False)\n",
       "  (max_pool): MaxPool2d(kernel_size=2, stride=2, padding=0, dilation=1, ceil_mode=False)\n",
       "  (qconv): QConvBlock()\n",
       "  (dense): Linear(in_features=4, out_features=1, bias=True)\n",
       ")"
      ]
     },
     "execution_count": 188,
     "metadata": {},
     "output_type": "execute_result"
    }
   ],
   "source": [
    "test_dataloader = DeviceDataLoader(data.test_dataloader(), device)\n",
    "to_device(model, device)"
   ]
  },
  {
   "cell_type": "code",
   "execution_count": 189,
   "id": "d3945bca",
   "metadata": {
    "ExecuteTime": {
     "end_time": "2022-06-27T06:59:46.626834Z",
     "start_time": "2022-06-27T06:59:40.204371Z"
    }
   },
   "outputs": [
    {
     "name": "stdout",
     "output_type": "stream",
     "text": [
      "torch.Size([16, 1, 2, 2])\n",
      "torch.Size([16, 1, 2, 2])\n",
      "torch.Size([16, 1, 2, 2])\n",
      "torch.Size([16, 1, 2, 2])\n",
      "test_loss: -0.3315\n",
      "test_acc: 0.1094\n"
     ]
    }
   ],
   "source": [
    "result = evaluate(model, test_dataloader)\n",
    "print('test_loss: {:.4f}'.format(result['val_loss']) )\n",
    "print('test_acc: {:.4f}'.format(result['val_acc']))"
   ]
  },
  {
   "cell_type": "code",
   "execution_count": null,
   "id": "8df8aa21",
   "metadata": {},
   "outputs": [],
   "source": []
  }
 ],
 "metadata": {
  "kernelspec": {
   "display_name": "Python (qiskit-qcnn)",
   "language": "python",
   "name": "qiskit-qcnn"
  },
  "language_info": {
   "codemirror_mode": {
    "name": "ipython",
    "version": 3
   },
   "file_extension": ".py",
   "mimetype": "text/x-python",
   "name": "python",
   "nbconvert_exporter": "python",
   "pygments_lexer": "ipython3",
   "version": "3.7.13"
  },
  "latex_envs": {
   "LaTeX_envs_menu_present": true,
   "autoclose": false,
   "autocomplete": true,
   "bibliofile": "biblio.bib",
   "cite_by": "apalike",
   "current_citInitial": 1,
   "eqLabelWithNumbers": true,
   "eqNumInitial": 1,
   "hotkeys": {
    "equation": "Ctrl-E",
    "itemize": "Ctrl-I"
   },
   "labels_anchors": false,
   "latex_user_defs": false,
   "report_style_numbering": false,
   "user_envs_cfg": false
  },
  "toc": {
   "base_numbering": 1,
   "nav_menu": {},
   "number_sections": true,
   "sideBar": true,
   "skip_h1_title": false,
   "title_cell": "Table of Contents",
   "title_sidebar": "Contents",
   "toc_cell": false,
   "toc_position": {},
   "toc_section_display": true,
   "toc_window_display": false
  }
 },
 "nbformat": 4,
 "nbformat_minor": 5
}
