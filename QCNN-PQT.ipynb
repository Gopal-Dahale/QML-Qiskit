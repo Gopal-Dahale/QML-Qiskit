{
 "cells": [
  {
   "cell_type": "markdown",
   "id": "73cd6906",
   "metadata": {},
   "source": [
    "## QPP = Qiskit-Pennylane-Pytorch"
   ]
  },
  {
   "cell_type": "code",
   "execution_count": 10,
   "id": "cd41f624",
   "metadata": {
    "ExecuteTime": {
     "end_time": "2022-07-30T17:35:40.180608Z",
     "start_time": "2022-07-30T17:35:40.174010Z"
    }
   },
   "outputs": [],
   "source": [
    "import numpy as np\n",
    "import matplotlib.pyplot as plt\n",
    "\n",
    "import pennylane as qml\n",
    "\n",
    "import torch\n",
    "from torch.utils.data import DataLoader\n",
    "from torch.nn import Module, Linear, Softmax\n",
    "from torchvision import datasets, transforms\n",
    "from torch import cat, no_grad, manual_seed\n",
    "from torch import optim\n",
    "from torch.nn import NLLLoss\n",
    "from torch.autograd import Variable\n",
    "\n",
    "from qiskit.circuit import Parameter\n",
    "from qiskit import QuantumCircuit"
   ]
  },
  {
   "cell_type": "markdown",
   "id": "54bc283d",
   "metadata": {},
   "source": [
    "## Dataset"
   ]
  },
  {
   "cell_type": "code",
   "execution_count": 5,
   "id": "afad1063",
   "metadata": {
    "ExecuteTime": {
     "end_time": "2022-07-30T17:35:15.725427Z",
     "start_time": "2022-07-30T17:35:15.618552Z"
    }
   },
   "outputs": [],
   "source": [
    "# Train Dataset\n",
    "# -------------\n",
    "\n",
    "# Set train shuffle seed (for reproducibility)\n",
    "manual_seed(42)\n",
    "\n",
    "batch_size = 16\n",
    "n_samples = 100  # We will concentrate on the first 100 samples\n",
    "\n",
    "# Use pre-defined torchvision function to load MNIST train data\n",
    "X_train = datasets.MNIST(\n",
    "    root=\"./data\", train=True, download=True, transform=transforms.Compose([transforms.ToTensor(),\n",
    "                                                                            transforms.CenterCrop((20,20)),\n",
    "                                                                            transforms.Resize((8,8)),\n",
    "                                                                            transforms.Normalize((0.1307,), (0.3081,))])\n",
    ")\n",
    "\n",
    "# Filter out labels (originally 0-9), leaving only labels 0 and 1\n",
    "idx = np.append(\n",
    "    np.where(X_train.targets == 0)[0][:n_samples], np.where(X_train.targets == 1)[0][:n_samples]\n",
    ")\n",
    "\n",
    "\n",
    "X_train.data = X_train.data[idx]\n",
    "X_train.targets = X_train.targets[idx]\n",
    "\n",
    "# Define torch dataloader with filtered data\n",
    "train_loader = DataLoader(X_train, batch_size=batch_size, shuffle=True)"
   ]
  },
  {
   "cell_type": "code",
   "execution_count": 6,
   "id": "81b7bee9",
   "metadata": {
    "ExecuteTime": {
     "end_time": "2022-07-30T17:35:16.639113Z",
     "start_time": "2022-07-30T17:35:16.193785Z"
    }
   },
   "outputs": [
    {
     "data": {
      "image/png": "[encoded data removed]",
      "text/plain": [
       "<Figure size 720x216 with 6 Axes>"
      ]
     },
     "metadata": {},
     "output_type": "display_data"
    }
   ],
   "source": [
    "n_samples_show = 6\n",
    "\n",
    "data_iter = iter(train_loader)\n",
    "fig, axes = plt.subplots(nrows=1, ncols=n_samples_show, figsize=(10, 3))\n",
    "\n",
    "while n_samples_show > 0:\n",
    "    images, targets = data_iter.__next__()\n",
    "\n",
    "    axes[n_samples_show - 1].imshow(images[0, 0].numpy().squeeze(), cmap=\"gray\")\n",
    "    axes[n_samples_show - 1].set_xticks([])\n",
    "    axes[n_samples_show - 1].set_yticks([])\n",
    "    axes[n_samples_show - 1].set_title(\"Labeled: {}\".format(targets[0].item()))\n",
    "\n",
    "    n_samples_show -= 1"
   ]
  },
  {
   "cell_type": "code",
   "execution_count": 7,
   "id": "73d97667",
   "metadata": {
    "ExecuteTime": {
     "end_time": "2022-07-30T17:35:17.431481Z",
     "start_time": "2022-07-30T17:35:17.368024Z"
    }
   },
   "outputs": [],
   "source": [
    "# Test Dataset\n",
    "# -------------\n",
    "\n",
    "# Set test shuffle seed (for reproducibility)\n",
    "# manual_seed(5)\n",
    "\n",
    "n_samples = 50\n",
    "\n",
    "# Use pre-defined torchvision function to load MNIST test data\n",
    "X_test = datasets.MNIST(\n",
    "    root=\"./data\", train=False, download=True, transform=transforms.Compose([transforms.ToTensor(),\n",
    "                                                                             transforms.CenterCrop((20,20)),\n",
    "                                                                             transforms.Resize((8,8)),\n",
    "                                                                             transforms.Normalize((0.1307,), (0.3081,))])\n",
    ")\n",
    "\n",
    "# Filter out labels (originally 0-9), leaving only labels 0 and 1\n",
    "idx = np.append(\n",
    "    np.where(X_test.targets == 0)[0][:n_samples], np.where(X_test.targets == 1)[0][:n_samples]\n",
    ")\n",
    "X_test.data = X_test.data[idx]\n",
    "X_test.targets = X_test.targets[idx]\n",
    "\n",
    "# Define torch dataloader with filtered data\n",
    "test_loader = DataLoader(X_test, batch_size=batch_size, shuffle=True)"
   ]
  },
  {
   "cell_type": "markdown",
   "id": "9aa26cbd",
   "metadata": {},
   "source": [
    "## Defining QNode"
   ]
  },
  {
   "cell_type": "code",
   "execution_count": 23,
   "id": "2c2c136c",
   "metadata": {
    "ExecuteTime": {
     "end_time": "2022-07-30T17:55:53.256112Z",
     "start_time": "2022-07-30T17:55:53.194004Z"
    }
   },
   "outputs": [],
   "source": [
    "class QConv2D(qml.qnn.TorchLayer):\n",
    "    def __init__(self, kernel_size=(3,3), strides=(2,2), n_qubits = 1, n_layers = 1):\n",
    "        \n",
    "        n_inputs = np.prod(kernel_size)\n",
    "        self.kernel_size = kernel_size\n",
    "        self.strides = strides\n",
    "        self.n_qubits = n_qubits\n",
    "        self.n_layers = n_layers\n",
    "        \n",
    "        self.all_qubits = [i for i in range(n_qubits)]\n",
    "        \n",
    "        self.theta = [Parameter(f'θ{i}') for i in range(n_layers*n_qubits)]\n",
    "        self.theta = np.asarray(self.theta).reshape((n_layers, n_qubits))\n",
    "        \n",
    "        self.circuit = self.create_circuit()\n",
    "        self.qml_circuit = qml.load(self.circuit, format='qiskit')\n",
    "        \n",
    "        # randomly initialize parameters from a normal distribution\n",
    "        w = np.random.normal(0, np.pi, (n_layers, n_qubits, n_inputs))\n",
    "        w = Variable(torch.tensor(w), requires_grad=True)\n",
    "        b = Variable(torch.randn(1), requires_grad=True)\n",
    "        \n",
    "        self.weight_shapes = {\n",
    "            'w': (n_layers, n_qubits, n_inputs),\n",
    "            'b': (1,)\n",
    "        }\n",
    "        \n",
    "        self.dev = qml.device('qiskit.aer', \n",
    "                              wires=n_qubits)\n",
    "        if torch.cuda.is_available():\n",
    "            self.dev.backend.set_options(device='GPU')\n",
    "            \n",
    "        self.qnode = self.build()\n",
    "        \n",
    "        super(QConv2D, self).__init__(self.qnode, self.weight_shapes)\n",
    "    \n",
    "    def create_circuit(self):\n",
    "        circuit = QuantumCircuit(self.n_qubits)\n",
    "        circuit.h(self.all_qubits)\n",
    "        \n",
    "        for l in range(self.n_layers):\n",
    "            for q in self.all_qubits:\n",
    "                circuit.ry(self.theta[l][q], q)\n",
    "            if (l & 1):\n",
    "                for q0, q1 in zip(self.all_qubits[1::2], self.all_qubits[2::2] + [self.all_qubits[0]]):\n",
    "                    circuit.cz(q0,q1)\n",
    "            else:\n",
    "                for q0, q1 in zip(self.all_qubits[0::2], self.all_qubits[1::2]):                 \n",
    "                    circuit.cz(q0,q1)\n",
    "        return circuit\n",
    "    \n",
    "    def build(self): \n",
    "        @qml.qnode(self.dev)\n",
    "        def qnode(inputs,w,b):\n",
    "            params = {}\n",
    "            for l in range(self.n_layers):\n",
    "                for q in self.all_qubits:\n",
    "                    params[self.theta[l][q]] = (np.pi/2)*torch.tanh(torch.dot(w[l, q], inputs) + b).item()\n",
    "            self.qml_circuit(params = params )\n",
    "            Z = qml.expval(qml.PauliZ(wires=self.n_qubits-1))\n",
    "            return Z\n",
    "        return qnode\n",
    "    \n",
    "    def forward(self, inputs):\n",
    "        \n",
    "        k = self.kernel_size\n",
    "        s = self.strides\n",
    "        \n",
    "        iter_x = int((inputs.shape[2] - k[0]) / s[0] + 1)\n",
    "        iter_y = int((inputs.shape[3] - k[1]) / s[1] + 1)\n",
    "        \n",
    "        out = []\n",
    "        for i in range(iter_x):\n",
    "            for j in range(iter_y):\n",
    "                _x = inputs[:,0, i*s[0]:i*s[0] + k[0], j*s[1]:j*s[1] + k[1]]\n",
    "                _x = _x.flatten(start_dim = 1)\n",
    "                out+= [torch.stack([self._evaluate_qnode(e) for e in torch.unbind(_x)]).reshape(-1,1)]\n",
    "        out = torch.cat(out,-1)\n",
    "        out = torch.reshape(out,(-1,1, iter_x,iter_y))\n",
    "        return torch.tanh(out)"
   ]
  },
  {
   "cell_type": "code",
   "execution_count": 24,
   "id": "4d74db48",
   "metadata": {
    "ExecuteTime": {
     "end_time": "2022-07-30T17:55:53.838649Z",
     "start_time": "2022-07-30T17:55:53.807742Z"
    }
   },
   "outputs": [],
   "source": [
    "class HybridModel(Module):\n",
    "    def __init__(self):\n",
    "        super().__init__()\n",
    "        self.qlayer_1 = QConv2D(n_qubits = 1, n_layers = 1)\n",
    "        self.clayer_1 = Linear(9,2)\n",
    "        self.softmax = Softmax(dim=1)\n",
    "\n",
    "    def forward(self, x):\n",
    "        x = self.qlayer_1(x)\n",
    "        x = x.flatten(start_dim = 1)\n",
    "        x = self.clayer_1(x)\n",
    "        return self.softmax(x)\n",
    "    \n",
    "model = HybridModel()"
   ]
  },
  {
   "cell_type": "code",
   "execution_count": 25,
   "id": "b73551d1",
   "metadata": {
    "ExecuteTime": {
     "end_time": "2022-07-30T17:55:54.550672Z",
     "start_time": "2022-07-30T17:55:54.370344Z"
    }
   },
   "outputs": [
    {
     "data": {
      "image/png": "[encoded data removed]",
      "text/plain": [
       "<Figure size 193.726x84.28 with 1 Axes>"
      ]
     },
     "execution_count": 25,
     "metadata": {},
     "output_type": "execute_result"
    }
   ],
   "source": [
    "model.qlayer_1.circuit.draw('mpl')"
   ]
  },
  {
   "cell_type": "code",
   "execution_count": 26,
   "id": "8d990fe0",
   "metadata": {
    "ExecuteTime": {
     "end_time": "2022-07-30T17:55:56.293095Z",
     "start_time": "2022-07-30T17:55:56.286354Z"
    }
   },
   "outputs": [],
   "source": [
    "def accuracy(outputs, labels):\n",
    "    _, preds = torch.max(outputs, dim=1)\n",
    "    return torch.tensor(torch.sum(preds == labels).item() / len(preds))"
   ]
  },
  {
   "cell_type": "code",
   "execution_count": 27,
   "id": "be03715c",
   "metadata": {
    "ExecuteTime": {
     "end_time": "2022-07-30T17:56:41.613888Z",
     "start_time": "2022-07-30T17:55:58.873310Z"
    },
    "scrolled": true
   },
   "outputs": [
    {
     "name": "stdout",
     "output_type": "stream",
     "text": [
      "{'loss': -0.3358628749847412, 'acc': tensor(0.0625)}\n",
      "{'loss': -0.4649423360824585, 'acc': tensor(0.4375)}\n",
      "{'loss': -0.4040420651435852, 'acc': tensor(0.2500)}\n",
      "{'loss': -0.6185375452041626, 'acc': tensor(0.6250)}\n",
      "{'loss': -0.6871762871742249, 'acc': tensor(0.9375)}\n",
      "{'loss': -0.7803006768226624, 'acc': tensor(1.)}\n",
      "{'loss': -0.8343037366867065, 'acc': tensor(1.)}\n",
      "{'loss': -0.8931998014450073, 'acc': tensor(1.)}\n",
      "{'loss': -0.8526043891906738, 'acc': tensor(0.9375)}\n",
      "{'loss': -0.9164679646492004, 'acc': tensor(1.)}\n",
      "{'loss': -0.9369229674339294, 'acc': tensor(1.)}\n",
      "{'loss': -0.9097005128860474, 'acc': tensor(0.9375)}\n",
      "{'loss': -0.8333969116210938, 'acc': tensor(0.8750)}\n",
      "Training [100%]\tLoss: {'loss': -0.8333969116210938, 'acc': tensor(0.8750)}\n"
     ]
    }
   ],
   "source": [
    "# Define model, optimizer, and loss function\n",
    "optimizer = optim.Adam(model.parameters(), lr=0.1)\n",
    "loss_func = NLLLoss()\n",
    "\n",
    "# Start training\n",
    "epochs = 1  # Set number of epochs\n",
    "history = []  # Store history\n",
    "model.train()  # Set model to training mode\n",
    "\n",
    "for epoch in range(epochs):\n",
    "    for batch_idx, (data, target) in enumerate(train_loader):\n",
    "        optimizer.zero_grad(set_to_none=True)  # Initialize gradient\n",
    "        output = model(data)  # Forward pass\n",
    "        acc = accuracy(output, target)\n",
    "        loss = loss_func(output, target)  # Calculate loss\n",
    "        history.append({'loss':loss.item(), 'acc':acc}) # Store training loss and acc\n",
    "        loss.backward()  # Backward pass\n",
    "        optimizer.step()  # Optimize weights \n",
    "        print(history[-1])\n",
    "    print(\"Training [{:.0f}%]\\tLoss: {}\".format(100.0 * (epoch + 1) / epochs, history[-1]))"
   ]
  },
  {
   "cell_type": "code",
   "execution_count": 28,
   "id": "dbba0ff4",
   "metadata": {
    "ExecuteTime": {
     "end_time": "2022-07-30T17:56:44.369233Z",
     "start_time": "2022-07-30T17:56:44.137739Z"
    }
   },
   "outputs": [
    {
     "data": {
      "image/png": "[encoded data removed]",
      "text/plain": [
       "<Figure size 432x288 with 1 Axes>"
      ]
     },
     "metadata": {
      "needs_background": "light"
     },
     "output_type": "display_data"
    }
   ],
   "source": [
    "# Plot loss convergence\n",
    "loss_list = [x['loss'] for x in history]\n",
    "plt.plot(loss_list)\n",
    "plt.title(\"Hybrid NN Training Loss Convergence\")\n",
    "plt.xlabel(\"Training Iterations\")\n",
    "plt.ylabel(\"Neg. Log Likelihood Loss\")\n",
    "plt.show()"
   ]
  },
  {
   "cell_type": "code",
   "execution_count": 29,
   "id": "5a4cea3f",
   "metadata": {
    "ExecuteTime": {
     "end_time": "2022-07-30T17:56:45.157065Z",
     "start_time": "2022-07-30T17:56:44.938908Z"
    }
   },
   "outputs": [
    {
     "data": {
      "image/png": "[encoded data removed]",
      "text/plain": [
       "<Figure size 432x288 with 1 Axes>"
      ]
     },
     "metadata": {
      "needs_background": "light"
     },
     "output_type": "display_data"
    }
   ],
   "source": [
    "acc_list = [x['acc'] for x in history]\n",
    "plt.plot(acc_list)\n",
    "plt.title(\"Hybrid NN Training Acc\")\n",
    "plt.xlabel(\"Training Iterations\")\n",
    "plt.ylabel(\"Acc\")\n",
    "plt.show()"
   ]
  },
  {
   "cell_type": "code",
   "execution_count": 32,
   "id": "c3d87ea2",
   "metadata": {
    "ExecuteTime": {
     "end_time": "2022-07-30T17:57:37.228197Z",
     "start_time": "2022-07-30T17:57:17.971799Z"
    }
   },
   "outputs": [
    {
     "name": "stdout",
     "output_type": "stream",
     "text": [
      "Performance on test data:\n",
      "\tAccuracy: 87.5%\n"
     ]
    }
   ],
   "source": [
    "model.eval()  # set model to evaluation mode\n",
    "with no_grad():\n",
    "    correct = 0\n",
    "    for batch_idx, (data, target) in enumerate(test_loader):\n",
    "        output = model(data)\n",
    "        _, preds = torch.max(output, dim=1)\n",
    "        correct += torch.sum(preds == target).item()\n",
    "    print(\n",
    "        \"Performance on test data:\\n\\tAccuracy: {:.1f}%\".format(\n",
    "            correct / len(test_loader) / batch_size * 100\n",
    "        )\n",
    "    )"
   ]
  },
  {
   "cell_type": "code",
   "execution_count": 35,
   "id": "74308c6f",
   "metadata": {
    "ExecuteTime": {
     "end_time": "2022-07-30T17:58:01.518161Z",
     "start_time": "2022-07-30T17:57:59.987680Z"
    }
   },
   "outputs": [
    {
     "data": {
      "image/png": "[encoded data removed]",
      "text/plain": [
       "<Figure size 720x216 with 6 Axes>"
      ]
     },
     "metadata": {},
     "output_type": "display_data"
    }
   ],
   "source": [
    "n_samples_show = 6\n",
    "count = 0\n",
    "fig, axes = plt.subplots(nrows=1, ncols=n_samples_show, figsize=(10, 3))\n",
    "\n",
    "model.eval()\n",
    "with no_grad():\n",
    "    for batch_idx, (data, target) in enumerate(test_loader):\n",
    "        if count == n_samples_show:\n",
    "            break\n",
    "        output = model(data[0:1])\n",
    "        if len(output.shape) == 1:\n",
    "            output = output.reshape(1, *output.shape)\n",
    "\n",
    "        pred = output.argmax(dim=1, keepdim=True)\n",
    "\n",
    "        axes[count].imshow(data[0].numpy().squeeze(), cmap=\"gray\")\n",
    "\n",
    "        axes[count].set_xticks([])\n",
    "        axes[count].set_yticks([])\n",
    "        axes[count].set_title(\"Predicted {}\".format(pred.item()))\n",
    "\n",
    "        count += 1"
   ]
  },
  {
   "cell_type": "code",
   "execution_count": null,
   "id": "496deb62",
   "metadata": {},
   "outputs": [],
   "source": []
  }
 ],
 "metadata": {
  "kernelspec": {
   "display_name": "Python (qiskit-qcnn)",
   "language": "python",
   "name": "qiskit-qcnn"
  },
  "language_info": {
   "codemirror_mode": {
    "name": "ipython",
    "version": 3
   },
   "file_extension": ".py",
   "mimetype": "text/x-python",
   "name": "python",
   "nbconvert_exporter": "python",
   "pygments_lexer": "ipython3",
   "version": "3.7.13"
  },
  "latex_envs": {
   "LaTeX_envs_menu_present": true,
   "autoclose": false,
   "autocomplete": true,
   "bibliofile": "biblio.bib",
   "cite_by": "apalike",
   "current_citInitial": 1,
   "eqLabelWithNumbers": true,
   "eqNumInitial": 1,
   "hotkeys": {
    "equation": "Ctrl-E",
    "itemize": "Ctrl-I"
   },
   "labels_anchors": false,
   "latex_user_defs": false,
   "report_style_numbering": false,
   "user_envs_cfg": false
  },
  "toc": {
   "base_numbering": 1,
   "nav_menu": {},
   "number_sections": true,
   "sideBar": true,
   "skip_h1_title": false,
   "title_cell": "Table of Contents",
   "title_sidebar": "Contents",
   "toc_cell": false,
   "toc_position": {},
   "toc_section_display": true,
   "toc_window_display": false
  }
 },
 "nbformat": 4,
 "nbformat_minor": 5
}
