{
 "cells": [
  {
   "cell_type": "code",
   "execution_count": null,
   "id": "f38e7be1",
   "metadata": {},
   "outputs": [],
   "source": [
    "# !pip install qiskit --quiet\n",
    "# !pip install qiskit-machine-learning --quiet\n",
    "# !pip install pylatexenc --quiet"
   ]
  },
  {
   "cell_type": "code",
   "execution_count": 21,
   "id": "f896ad66",
   "metadata": {
    "ExecuteTime": {
     "end_time": "2022-06-27T13:21:27.178985Z",
     "start_time": "2022-06-27T13:21:27.158063Z"
    }
   },
   "outputs": [],
   "source": [
    "import numpy as np\n",
    "import matplotlib.pyplot as plt\n",
    "from tqdm import tqdm\n",
    "\n",
    "import torch\n",
    "from torch import Tensor, LongTensor\n",
    "from torch.utils.data import TensorDataset, DataLoader\n",
    "from torch.nn import Module, Linear\n",
    "import torch.nn.functional as F\n",
    "\n",
    "from sklearn.datasets import load_iris\n",
    "from sklearn.model_selection import train_test_split\n",
    "from sklearn.preprocessing import MinMaxScaler\n",
    "from sklearn.utils import shuffle\n",
    "\n",
    "from qiskit import QuantumCircuit, Aer, transpile\n",
    "from qiskit_machine_learning.neural_networks import CircuitQNN,TwoLayerQNN, OpflowQNN\n",
    "from qiskit.opflow import AerPauliExpectation\n",
    "from qiskit_machine_learning.connectors import TorchConnector\n",
    "from qiskit.circuit import ParameterVector\n",
    "from qiskit.utils import QuantumInstance\n",
    "from qiskit.opflow import AerPauliExpectation\n",
    "from qiskit.opflow import PauliSumOp, StateFn"
   ]
  },
  {
   "cell_type": "code",
   "execution_count": 3,
   "id": "622fca0b",
   "metadata": {
    "ExecuteTime": {
     "end_time": "2022-06-27T13:18:46.763334Z",
     "start_time": "2022-06-27T13:18:46.743140Z"
    }
   },
   "outputs": [],
   "source": [
    "def get_default_device():\n",
    "    \"\"\"Pick GPU if available, else CPU\"\"\"\n",
    "    if torch.cuda.is_available():\n",
    "        return torch.device('cuda')\n",
    "    else:\n",
    "        return torch.device('cpu')"
   ]
  },
  {
   "cell_type": "code",
   "execution_count": 4,
   "id": "e9f5bece",
   "metadata": {
    "ExecuteTime": {
     "end_time": "2022-06-27T13:18:51.672871Z",
     "start_time": "2022-06-27T13:18:51.297595Z"
    }
   },
   "outputs": [
    {
     "data": {
      "text/plain": [
       "device(type='cpu')"
      ]
     },
     "execution_count": 4,
     "metadata": {},
     "output_type": "execute_result"
    }
   ],
   "source": [
    "device = get_default_device()\n",
    "device"
   ]
  },
  {
   "cell_type": "code",
   "execution_count": 5,
   "id": "fb1393e1",
   "metadata": {
    "ExecuteTime": {
     "end_time": "2022-06-27T13:18:55.530229Z",
     "start_time": "2022-06-27T13:18:55.508611Z"
    }
   },
   "outputs": [],
   "source": [
    "def to_device(data, device):\n",
    "    \"\"\"Move tensor(s) to chosen device\"\"\"\n",
    "    if isinstance(data, (list,tuple)):\n",
    "        return [to_device(x, device) for x in data]\n",
    "    return data.to(device, non_blocking=True)"
   ]
  },
  {
   "cell_type": "code",
   "execution_count": 6,
   "id": "8ad90301",
   "metadata": {
    "ExecuteTime": {
     "end_time": "2022-06-27T13:19:26.095768Z",
     "start_time": "2022-06-27T13:19:26.089108Z"
    }
   },
   "outputs": [],
   "source": [
    "# cluster state\n",
    "def cluster_state_circuit(bits):\n",
    "    qc = QuantumCircuit(bits)\n",
    "    bits = list(range(bits))\n",
    "    qc.h(bits)\n",
    "    for this_bit, next_bit in zip(bits, bits[1:]):\n",
    "        qc.cz(this_bit, next_bit)\n",
    "    if(len(bits)!= 2):\n",
    "        qc.cz(bits[0], bits[-1])\n",
    "    return qc"
   ]
  },
  {
   "cell_type": "code",
   "execution_count": 7,
   "id": "a49599fd",
   "metadata": {
    "ExecuteTime": {
     "end_time": "2022-06-27T13:19:31.929122Z",
     "start_time": "2022-06-27T13:19:31.156289Z"
    }
   },
   "outputs": [
    {
     "data": {
      "image/png": "[encoded data removed]",
      "text/plain": [
       "<Figure size 387.597x264.88 with 1 Axes>"
      ]
     },
     "execution_count": 7,
     "metadata": {},
     "output_type": "execute_result"
    }
   ],
   "source": [
    "circuit = cluster_state_circuit(4)\n",
    "circuit.draw('mpl')"
   ]
  },
  {
   "cell_type": "code",
   "execution_count": 8,
   "id": "61f3dd10",
   "metadata": {
    "ExecuteTime": {
     "end_time": "2022-06-27T13:19:36.713669Z",
     "start_time": "2022-06-27T13:19:36.697795Z"
    }
   },
   "outputs": [],
   "source": [
    "def one_qubit_unitary(thetas):\n",
    "    qc = QuantumCircuit(1)\n",
    "    qc.rx(thetas[0], 0)\n",
    "    qc.ry(thetas[1], 0)\n",
    "    qc.rz(thetas[2], 0)\n",
    "    return qc"
   ]
  },
  {
   "cell_type": "code",
   "execution_count": 9,
   "id": "a1f7f6df",
   "metadata": {
    "ExecuteTime": {
     "end_time": "2022-06-27T13:19:41.584627Z",
     "start_time": "2022-06-27T13:19:40.564824Z"
    }
   },
   "outputs": [
    {
     "data": {
      "image/png": "[encoded data removed]",
      "text/plain": [
       "<Figure size 253.926x84.28 with 1 Axes>"
      ]
     },
     "execution_count": 9,
     "metadata": {},
     "output_type": "execute_result"
    }
   ],
   "source": [
    "thetas = ParameterVector('θ', length=3)\n",
    "circuit = one_qubit_unitary(thetas)\n",
    "circuit.draw('mpl')"
   ]
  },
  {
   "cell_type": "code",
   "execution_count": 10,
   "id": "bb0aa375",
   "metadata": {
    "ExecuteTime": {
     "end_time": "2022-06-27T13:19:45.829693Z",
     "start_time": "2022-06-27T13:19:45.807346Z"
    }
   },
   "outputs": [],
   "source": [
    "def two_qubit_unitary(thetas):\n",
    "    qc = QuantumCircuit(2)\n",
    "    qc = qc.compose(one_qubit_unitary(thetas[0:3]), [0])\n",
    "    qc = qc.compose(one_qubit_unitary(thetas[3:6]), [1])\n",
    "    qc.rzz(thetas[6],0, 1)\n",
    "    qc.ryy(thetas[7],0, 1)\n",
    "    qc.rxx(thetas[8],0, 1)\n",
    "    qc = qc.compose(one_qubit_unitary(thetas[9:12]), [0])\n",
    "    qc = qc.compose(one_qubit_unitary(thetas[12:]), [1])\n",
    "    return qc"
   ]
  },
  {
   "cell_type": "code",
   "execution_count": 11,
   "id": "357b45a2",
   "metadata": {
    "ExecuteTime": {
     "end_time": "2022-06-27T13:19:50.671227Z",
     "start_time": "2022-06-27T13:19:50.206468Z"
    }
   },
   "outputs": [
    {
     "data": {
      "image/png": "[encoded data removed]",
      "text/plain": [
       "<Figure size 688.452x144.48 with 1 Axes>"
      ]
     },
     "execution_count": 11,
     "metadata": {},
     "output_type": "execute_result"
    }
   ],
   "source": [
    "thetas = ParameterVector('θ', length=15)\n",
    "circuit = two_qubit_unitary(thetas)\n",
    "circuit.draw('mpl')"
   ]
  },
  {
   "cell_type": "code",
   "execution_count": 12,
   "id": "dbd46f4f",
   "metadata": {
    "ExecuteTime": {
     "end_time": "2022-06-27T13:19:56.973155Z",
     "start_time": "2022-06-27T13:19:56.946093Z"
    }
   },
   "outputs": [],
   "source": [
    "def two_qubit_pool(thetas):\n",
    "    qc = QuantumCircuit(2)\n",
    "    qc = qc.compose(one_qubit_unitary(thetas[0:3]), [1])\n",
    "    qc = qc.compose(one_qubit_unitary(thetas[3:6]), [0])\n",
    "    qc.cnot(0,1)\n",
    "    qc = qc.compose(one_qubit_unitary(thetas[0:3]).inverse(), [1])\n",
    "    return qc"
   ]
  },
  {
   "cell_type": "code",
   "execution_count": 13,
   "id": "051a1385",
   "metadata": {
    "ExecuteTime": {
     "end_time": "2022-06-27T13:20:01.963755Z",
     "start_time": "2022-06-27T13:20:01.631455Z"
    }
   },
   "outputs": [
    {
     "data": {
      "image/png": "[encoded data removed]",
      "text/plain": [
       "<Figure size 507.852x144.48 with 1 Axes>"
      ]
     },
     "execution_count": 13,
     "metadata": {},
     "output_type": "execute_result"
    }
   ],
   "source": [
    "thetas = ParameterVector('θ', length=6)\n",
    "circuit = two_qubit_pool(thetas)\n",
    "circuit.draw('mpl')"
   ]
  },
  {
   "cell_type": "code",
   "execution_count": 14,
   "id": "1199c902",
   "metadata": {
    "ExecuteTime": {
     "end_time": "2022-06-27T13:20:08.102469Z",
     "start_time": "2022-06-27T13:20:08.091588Z"
    }
   },
   "outputs": [],
   "source": [
    "def quantum_conv_circuit(bits, thetas):\n",
    "    qc = QuantumCircuit(bits)\n",
    "    bits = list(range(bits))\n",
    "    for first, second in zip(bits[0::2], bits[1::2]):\n",
    "        qc = qc.compose(two_qubit_unitary(thetas), [first,second])\n",
    "    for first, second in zip(bits[1::2], bits[2::2] + [bits[0]]):\n",
    "        qc = qc.compose(two_qubit_unitary(thetas), [first, second])\n",
    "    return qc"
   ]
  },
  {
   "cell_type": "code",
   "execution_count": 15,
   "id": "daa9eeb3",
   "metadata": {
    "ExecuteTime": {
     "end_time": "2022-06-27T13:20:18.379276Z",
     "start_time": "2022-06-27T13:20:17.219321Z"
    }
   },
   "outputs": [
    {
     "data": {
      "image/png": "[encoded data removed]",
      "text/plain": [
       "<Figure size 1531.4x264.88 with 1 Axes>"
      ]
     },
     "execution_count": 15,
     "metadata": {},
     "output_type": "execute_result"
    }
   ],
   "source": [
    "thetas = ParameterVector('θ', length=16)\n",
    "circuit = quantum_conv_circuit(4, thetas)\n",
    "circuit.draw('mpl')"
   ]
  },
  {
   "cell_type": "code",
   "execution_count": 16,
   "id": "bacd75d8",
   "metadata": {
    "ExecuteTime": {
     "end_time": "2022-06-27T13:20:23.389210Z",
     "start_time": "2022-06-27T13:20:23.378747Z"
    }
   },
   "outputs": [],
   "source": [
    "def quantum_pool_circuit(sources, sinks, thetas):\n",
    "    qc = QuantumCircuit(len(sources) + len(sinks))\n",
    "    for source, sink in zip(sources, sinks):\n",
    "        qc = qc.compose(two_qubit_pool(thetas), [source, sink])\n",
    "    return qc"
   ]
  },
  {
   "cell_type": "code",
   "execution_count": 17,
   "id": "f611b09c",
   "metadata": {
    "ExecuteTime": {
     "end_time": "2022-06-27T13:20:28.672053Z",
     "start_time": "2022-06-27T13:20:27.817485Z"
    }
   },
   "outputs": [
    {
     "data": {
      "image/png": "[encoded data removed]",
      "text/plain": [
       "<Figure size 688.597x505.68 with 1 Axes>"
      ]
     },
     "execution_count": 17,
     "metadata": {},
     "output_type": "execute_result"
    }
   ],
   "source": [
    "thetas = ParameterVector('θ', length=6)\n",
    "sources = [0,1,2,3]\n",
    "sinks = [4,5,6,7]\n",
    "circuit = quantum_pool_circuit(sources, sinks, thetas)\n",
    "circuit.draw('mpl')"
   ]
  },
  {
   "cell_type": "code",
   "execution_count": 140,
   "id": "534d02a0",
   "metadata": {
    "ExecuteTime": {
     "end_time": "2022-06-27T14:19:43.407952Z",
     "start_time": "2022-06-27T14:19:43.367516Z"
    }
   },
   "outputs": [],
   "source": [
    "class IrisDataModule():\n",
    "    def __init__(self):\n",
    "        super().__init__()\n",
    "        self.batch_size = 8\n",
    "        self.num_workers = 2\n",
    "        \n",
    "        self.dims = (4,)\n",
    "        self.output_dims = (1,)\n",
    "        self.mapping = list(range(3))\n",
    "        self.on_gpu = torch.cuda.is_available()\n",
    "        \n",
    "    def config(self):\n",
    "        \"\"\"Return important settings of the dataset, which will be passed to instantiate models.\"\"\"\n",
    "        return {\"input_dims\": self.dims, \"output_dims\": self.output_dims, \"mapping\": self.mapping}\n",
    "    \n",
    "    def _make_binary(self,x,y):\n",
    "        keep = (y == 0)|(y == 1)\n",
    "        x,y = x[keep], y[keep]\n",
    "        return x,y\n",
    "    \n",
    "    def prepare_data(self):\n",
    "        iris = load_iris()\n",
    "        x = iris['data']\n",
    "        y = iris['target']\n",
    "        self.names = iris['target_names'][:2]\n",
    "        self.mapping = [0,1]\n",
    "        self.feature_names = iris['feature_names']\n",
    "        x,y = self._make_binary(x,y)\n",
    "        \n",
    "        x_train, self.x_val, y_train, self.y_val = train_test_split(x, y, test_size=0.1, random_state=2)\n",
    "        self.x_train, self.x_test, self.y_train, self.y_test = train_test_split(x_train, y_train, test_size=0.1, random_state=2)\n",
    "    \n",
    "    def setup(self, stage=None):\n",
    "        scaler = MinMaxScaler((-np.pi, np.pi))\n",
    "        self.x_train = scaler.fit_transform(self.x_train)\n",
    "        self.x_val = scaler.fit_transform(self.x_val)\n",
    "        self.x_test = scaler.fit_transform(self.x_test)\n",
    "        \n",
    "        self.x_train = Tensor(self.x_train)\n",
    "        self.y_train = Tensor(self.y_train).type(LongTensor)\n",
    "        \n",
    "        self.x_val = Tensor(self.x_val)\n",
    "        self.y_val = Tensor(self.y_val).type(LongTensor)\n",
    "        \n",
    "        self.x_test = Tensor(self.x_test)\n",
    "        self.y_test = Tensor(self.y_test).type(LongTensor)\n",
    "        \n",
    "        self.data_train = TensorDataset(self.x_train, self.y_train)\n",
    "        self.data_val = TensorDataset(self.x_val, self.y_val)\n",
    "        self.data_test = TensorDataset(self.x_test, self.y_test)\n",
    "\n",
    "    def train_dataloader(self):\n",
    "        return DataLoader(\n",
    "            self.data_train,\n",
    "            shuffle=True,\n",
    "            batch_size=self.batch_size,\n",
    "            num_workers=self.num_workers,\n",
    "            pin_memory = self.on_gpu\n",
    "        )\n",
    "\n",
    "    def val_dataloader(self):\n",
    "        return DataLoader(\n",
    "            self.data_val,\n",
    "            shuffle=False,\n",
    "            batch_size=self.batch_size,\n",
    "            num_workers=self.num_workers,\n",
    "            pin_memory = self.on_gpu\n",
    "        )\n",
    "\n",
    "    def test_dataloader(self):\n",
    "        return DataLoader(\n",
    "            self.data_test,\n",
    "            shuffle=False,\n",
    "            batch_size=self.batch_size,\n",
    "            num_workers=self.num_workers,\n",
    "            pin_memory = self.on_gpu\n",
    "        )\n",
    "    def __repr__(self):\n",
    "        basic = f\"Iris Dataset\\nNum classes: {len(self.mapping)}\\nMapping: {self.mapping}\\nDims: {self.dims}\\n\"\n",
    "        x, y = next(iter(self.train_dataloader()))\n",
    "        data = (\n",
    "            f\"Train/val/test sizes: {len(self.data_train)}, {len(self.data_val)}, {len(self.data_test)}\\n\"\n",
    "            f\"Batch x stats: {(x.shape, x.dtype, x.min(), x.mean(), x.std(), x.max())}\\n\"\n",
    "            f\"Batch y stats: {(y.shape, y.dtype, y.min(), y.max())}\\n\"\n",
    "        )\n",
    "        return basic + data"
   ]
  },
  {
   "cell_type": "code",
   "execution_count": 141,
   "id": "b01e4049",
   "metadata": {
    "ExecuteTime": {
     "end_time": "2022-06-27T14:19:44.104108Z",
     "start_time": "2022-06-27T14:19:44.085831Z"
    }
   },
   "outputs": [],
   "source": [
    "class DeviceDataLoader():\n",
    "    \"\"\"Wrap a dataloader to move data to a device\"\"\"\n",
    "    def __init__(self, dl, device):\n",
    "        self.dl = dl\n",
    "        self.device = device\n",
    "        \n",
    "    def __iter__(self):\n",
    "        \"\"\"Yield a batch of data after moving it to device\"\"\"\n",
    "        for b in self.dl: \n",
    "            yield to_device(b, self.device)\n",
    "\n",
    "    def __len__(self):\n",
    "        \"\"\"Number of batches\"\"\"\n",
    "        return len(self.dl)"
   ]
  },
  {
   "cell_type": "code",
   "execution_count": 142,
   "id": "f5c405ea",
   "metadata": {
    "ExecuteTime": {
     "end_time": "2022-06-27T14:19:44.763052Z",
     "start_time": "2022-06-27T14:19:44.733697Z"
    }
   },
   "outputs": [],
   "source": [
    "data = IrisDataModule()\n",
    "data.prepare_data()\n",
    "data.setup()"
   ]
  },
  {
   "cell_type": "code",
   "execution_count": 143,
   "id": "892f15a9",
   "metadata": {
    "ExecuteTime": {
     "end_time": "2022-06-27T14:19:45.470921Z",
     "start_time": "2022-06-27T14:19:45.344282Z"
    }
   },
   "outputs": [
    {
     "data": {
      "text/plain": [
       "Iris Dataset\n",
       "Num classes: 2\n",
       "Mapping: [0, 1]\n",
       "Dims: (4,)\n",
       "Train/val/test sizes: 81, 10, 9\n",
       "Batch x stats: (torch.Size([8, 4]), torch.float32, tensor(-3.1416), tensor(0.3446), tensor(1.8708), tensor(3.1416))\n",
       "Batch y stats: (torch.Size([8]), torch.int64, tensor(0), tensor(1))"
      ]
     },
     "execution_count": 143,
     "metadata": {},
     "output_type": "execute_result"
    }
   ],
   "source": [
    "data"
   ]
  },
  {
   "cell_type": "code",
   "execution_count": 112,
   "id": "c5830823",
   "metadata": {
    "ExecuteTime": {
     "end_time": "2022-06-27T14:02:49.548607Z",
     "start_time": "2022-06-27T14:02:49.112757Z"
    }
   },
   "outputs": [
    {
     "data": {
      "image/png": "[encoded data removed]",
      "text/plain": [
       "<Figure size 1152x432 with 2 Axes>"
      ]
     },
     "metadata": {
      "needs_background": "light"
     },
     "output_type": "display_data"
    }
   ],
   "source": [
    "x_train = data.data_train.tensors[0]\n",
    "y_train = data.data_train.tensors[1]\n",
    "\n",
    "fig, (ax1, ax2) = plt.subplots(1, 2, figsize=(16, 6))\n",
    "for target, target_name in enumerate(data.names):\n",
    "    x = x_train[y_train == target]\n",
    "    ax1.plot(x[:, 0], x[:, 1], \n",
    "             linestyle='none', \n",
    "             marker='o', \n",
    "             label=target_name)\n",
    "ax1.set_xlabel(data.feature_names[0])\n",
    "ax1.set_ylabel(data.feature_names[1])\n",
    "ax1.axis('equal')\n",
    "ax1.legend();\n",
    "\n",
    "for target, target_name in enumerate(data.names):\n",
    "    x = x_train[y_train == target]\n",
    "    ax2.plot(x[:, 2], x[:, 3], \n",
    "             linestyle='none', \n",
    "             marker='o', \n",
    "             label=target_name)\n",
    "ax2.set_xlabel(data.feature_names[2])\n",
    "ax2.set_ylabel(data.feature_names[3])\n",
    "ax2.axis('equal')\n",
    "ax2.legend();"
   ]
  },
  {
   "cell_type": "code",
   "execution_count": 116,
   "id": "5dde546d",
   "metadata": {
    "ExecuteTime": {
     "end_time": "2022-06-27T14:08:40.768371Z",
     "start_time": "2022-06-27T14:08:40.745268Z"
    }
   },
   "outputs": [],
   "source": [
    "def accuracy(outputs, labels):\n",
    "    _, preds = torch.max(outputs, dim=1)\n",
    "    return torch.tensor(torch.sum(preds == labels).item() / len(preds))"
   ]
  },
  {
   "cell_type": "code",
   "execution_count": 117,
   "id": "bb396591",
   "metadata": {
    "ExecuteTime": {
     "end_time": "2022-06-27T14:08:44.633879Z",
     "start_time": "2022-06-27T14:08:44.609905Z"
    }
   },
   "outputs": [],
   "source": [
    "# Define and create QNN\n",
    "def create_qcnn(n):\n",
    "    \n",
    "    qi = QuantumInstance(Aer.get_backend(\"aer_simulator_statevector\"))\n",
    "    in_thetas = ParameterVector('x', length=n)\n",
    "    \n",
    "    cluster_map = cluster_state_circuit(n)\n",
    "    feature_map = QuantumCircuit(n, name=\"Angle Encoding\")\n",
    "    \n",
    "    for i in range(n):\n",
    "        feature_map.rx(in_thetas[i], i)\n",
    "    \n",
    "    thetas = ParameterVector('θ', length=21)\n",
    "    ansatz = QuantumCircuit(n, name=\"QCNN\")\n",
    "    \n",
    "    ansatz.compose(quantum_conv_circuit(n,thetas[0:15]), range(n), inplace=True)\n",
    "    ansatz.compose(quantum_pool_circuit(range(n//2), range(n//2,n), thetas[15:21]), inplace=True)\n",
    "\n",
    "    qc = QuantumCircuit(n)\n",
    "    qc.compose(cluster_map, range(n),inplace=True)\n",
    "    qc.compose(feature_map, range(n),inplace=True)\n",
    "    qc.compose(ansatz, range(n),inplace=True)\n",
    "    \n",
    "    observable = PauliSumOp.from_list([(\"Z\" * 1, 1)])  \n",
    "    operator = ~StateFn(observable) @ StateFn(qc)\n",
    "    \n",
    "    # REMEMBER TO SET input_gradients=True FOR ENABLING HYBRID GRADIENT BACKPROP\n",
    "    qcnn = OpflowQNN( operator,\n",
    "                      input_params= in_thetas,\n",
    "                      weight_params= thetas,\n",
    "                      input_gradients=True,\n",
    "                      exp_val = AerPauliExpectation(),\n",
    "                      quantum_instance=qi)\n",
    "    return qcnn"
   ]
  },
  {
   "cell_type": "code",
   "execution_count": 134,
   "id": "5a285e28",
   "metadata": {
    "ExecuteTime": {
     "end_time": "2022-06-27T14:16:33.286947Z",
     "start_time": "2022-06-27T14:16:33.263750Z"
    }
   },
   "outputs": [],
   "source": [
    "class QCNN(Module):\n",
    "    def __init__(self,data_config):\n",
    "        super().__init__()\n",
    "        \n",
    "        input_dims = data_config[\"input_dims\"]\n",
    "        num_classes = len(data_config[\"mapping\"])\n",
    "        \n",
    "        self.circuit = create_qcnn(np.prod(input_dims))\n",
    "        self.qcnn = TorchConnector(self.circuit)\n",
    "    \n",
    "    def forward(self, x):\n",
    "        x = self.qcnn(x)  # apply QCNN\n",
    "        x = (x+1)/2\n",
    "        return torch.cat((x, 1 - x), -1)\n",
    "    \n",
    "    def training_step(self, batch): \n",
    "        x, y = batch\n",
    "        logits = self(x)\n",
    "        loss = torch.nn.NLLLoss()(logits, y)\n",
    "        acc = accuracy(logits, y)\n",
    "        return {'train_loss': loss, 'train_acc': acc}\n",
    "\n",
    "    def validation_step(self, batch): \n",
    "        x, y = batch\n",
    "        logits = self(x)\n",
    "        loss = torch.nn.NLLLoss()(logits, y)\n",
    "        acc = accuracy(logits, y)\n",
    "        return {'val_loss': loss, 'val_acc': acc}\n",
    "    \n",
    "    def validation_epoch_end(self, outputs):\n",
    "        batch_losses = [x['val_loss'] for x in outputs]\n",
    "        epoch_loss = torch.stack(batch_losses).mean()   # Combine losses\n",
    "        batch_accs = [x['val_acc'] for x in outputs]\n",
    "        epoch_acc = torch.stack(batch_accs).mean()      # Combine accuracies\n",
    "        return {'val_loss': epoch_loss.item(), 'val_acc': epoch_acc.item()}"
   ]
  },
  {
   "cell_type": "code",
   "execution_count": 135,
   "id": "53f4e3b9",
   "metadata": {
    "ExecuteTime": {
     "end_time": "2022-06-27T14:16:33.692009Z",
     "start_time": "2022-06-27T14:16:33.679559Z"
    }
   },
   "outputs": [],
   "source": [
    "def evaluate(model, val_dataloader):\n",
    "    outputs = [model.validation_step(batch) for batch in val_dataloader]\n",
    "    return model.validation_epoch_end(outputs)"
   ]
  },
  {
   "cell_type": "code",
   "execution_count": 136,
   "id": "f13c8de9",
   "metadata": {
    "ExecuteTime": {
     "end_time": "2022-06-27T14:16:35.289797Z",
     "start_time": "2022-06-27T14:16:35.255709Z"
    }
   },
   "outputs": [],
   "source": [
    "def fit(epochs, lr, model, train_dataloader, val_dataloader,):\n",
    "    history = {\n",
    "        'train_acc':[],\n",
    "        'train_loss':[],\n",
    "        'val_acc':[np.nan],\n",
    "        'val_loss':[np.nan]\n",
    "    }\n",
    "    optimizer = torch.optim.Adam(model.parameters(), lr = lr)\n",
    "    scheduler = torch.optim.lr_scheduler.ReduceLROnPlateau(optimizer, 'min',patience=3, min_lr=1e-6)\n",
    "    for epoch in range(epochs):\n",
    "        # Training \n",
    "        with tqdm(train_dataloader, unit=\"batch\") as tepoch:\n",
    "            for batch in tepoch:\n",
    "                tepoch.set_description(f\"Epoch {epoch}\")\n",
    "                \n",
    "                optimizer.zero_grad(set_to_none=True)\n",
    "                output = model.training_step(batch)\n",
    "                loss , acc = output['train_loss'], output['train_acc']\n",
    "                \n",
    "                history['train_loss'].append(loss.item())\n",
    "                history['train_acc'].append(acc.item())\n",
    "                \n",
    "                loss.backward()\n",
    "                optimizer.step()\n",
    "                \n",
    "                tepoch.set_postfix(loss=loss.item(), \n",
    "                                   acc=acc.item(),\n",
    "                                   val_loss= history['val_loss'][-1], \n",
    "                                   val_acc =history['val_acc'][-1])\n",
    "                \n",
    "        # Validation\n",
    "        result = evaluate(model, val_dataloader)\n",
    "        \n",
    "        val_loss = result['val_loss']\n",
    "        val_acc = result['val_acc']\n",
    "        history['val_loss'].append(val_loss)\n",
    "        history['val_acc'].append(val_acc)\n",
    "        \n",
    "        scheduler.step(val_loss)\n",
    "        \n",
    "    return history"
   ]
  },
  {
   "cell_type": "code",
   "execution_count": 144,
   "id": "68b01e61",
   "metadata": {
    "ExecuteTime": {
     "end_time": "2022-06-27T14:19:50.034770Z",
     "start_time": "2022-06-27T14:19:50.025688Z"
    }
   },
   "outputs": [],
   "source": [
    "train_dataloader = DeviceDataLoader(data.train_dataloader(), device)\n",
    "val_dataloader = DeviceDataLoader(data.val_dataloader(), device)"
   ]
  },
  {
   "cell_type": "code",
   "execution_count": 138,
   "id": "b2f3d846",
   "metadata": {
    "ExecuteTime": {
     "end_time": "2022-06-27T14:18:16.595965Z",
     "start_time": "2022-06-27T14:16:36.580108Z"
    }
   },
   "outputs": [
    {
     "data": {
      "text/plain": [
       "QCNN(\n",
       "  (qcnn): TorchConnector()\n",
       ")"
      ]
     },
     "execution_count": 138,
     "metadata": {},
     "output_type": "execute_result"
    }
   ],
   "source": [
    "model = QCNN(data.config())\n",
    "model = to_device(model,device)\n",
    "model"
   ]
  },
  {
   "cell_type": "code",
   "execution_count": null,
   "id": "68f952d4",
   "metadata": {
    "ExecuteTime": {
     "start_time": "2022-06-27T14:19:51.441Z"
    }
   },
   "outputs": [
    {
     "name": "stderr",
     "output_type": "stream",
     "text": [
      "Epoch 0:   0%|                                                                             | 0/11 [00:00<?, ?batch/s]"
     ]
    },
    {
     "name": "stdout",
     "output_type": "stream",
     "text": [
      "tensor([[0.6766, 0.3234],\n",
      "        [0.7029, 0.2971],\n",
      "        [0.5886, 0.4114],\n",
      "        [0.7717, 0.2283],\n",
      "        [0.5738, 0.4262],\n",
      "        [0.5219, 0.4781],\n",
      "        [0.6043, 0.3957],\n",
      "        [0.7769, 0.2231]], grad_fn=<CatBackward0>)\n",
      "tensor([0, 0, 1, 0, 1, 1, 1, 1])\n"
     ]
    },
    {
     "name": "stderr",
     "output_type": "stream",
     "text": [
      "Epoch 0:   9%|█▋                 | 1/11 [01:34<15:48, 94.88s/batch, acc=0.375, loss=-.511, val_acc=nan, val_loss=nan]"
     ]
    },
    {
     "name": "stdout",
     "output_type": "stream",
     "text": [
      "tensor([[0.5854, 0.4146],\n",
      "        [0.6922, 0.3078],\n",
      "        [0.4622, 0.5378],\n",
      "        [0.4763, 0.5237],\n",
      "        [0.7718, 0.2282],\n",
      "        [0.5869, 0.4131],\n",
      "        [0.6650, 0.3350],\n",
      "        [0.4708, 0.5292]], grad_fn=<CatBackward0>)\n",
      "tensor([0, 1, 1, 0, 0, 0, 1, 1])\n"
     ]
    },
    {
     "name": "stderr",
     "output_type": "stream",
     "text": [
      "Epoch 0:  18%|███▍               | 2/11 [02:04<08:28, 56.45s/batch, acc=0.625, loss=-.516, val_acc=nan, val_loss=nan]"
     ]
    },
    {
     "name": "stdout",
     "output_type": "stream",
     "text": [
      "tensor([[0.6042, 0.3958],\n",
      "        [0.6564, 0.3436],\n",
      "        [0.4822, 0.5178],\n",
      "        [0.5321, 0.4679],\n",
      "        [0.7328, 0.2672],\n",
      "        [0.7463, 0.2537],\n",
      "        [0.5133, 0.4867],\n",
      "        [0.5091, 0.4909]], grad_fn=<CatBackward0>)\n",
      "tensor([1, 0, 1, 1, 0, 0, 1, 1])\n"
     ]
    },
    {
     "name": "stderr",
     "output_type": "stream",
     "text": [
      "Epoch 0:  27%|█████▋               | 3/11 [02:32<05:46, 43.27s/batch, acc=0.5, loss=-.562, val_acc=nan, val_loss=nan]"
     ]
    },
    {
     "name": "stdout",
     "output_type": "stream",
     "text": [
      "tensor([[0.4800, 0.5200],\n",
      "        [0.6473, 0.3527],\n",
      "        [0.5938, 0.4062],\n",
      "        [0.7370, 0.2630],\n",
      "        [0.6265, 0.3735],\n",
      "        [0.4844, 0.5156],\n",
      "        [0.7035, 0.2965],\n",
      "        [0.4814, 0.5186]], grad_fn=<CatBackward0>)\n",
      "tensor([0, 0, 1, 0, 1, 1, 0, 1])\n"
     ]
    }
   ],
   "source": [
    "history = fit(10, 0.001, model, train_dataloader, val_dataloader)"
   ]
  },
  {
   "cell_type": "code",
   "execution_count": null,
   "id": "097d72ff",
   "metadata": {},
   "outputs": [],
   "source": [
    "import pickle\n",
    "with open('history.pickle', 'wb') as f:\n",
    "    pickle.dump(history,f)"
   ]
  },
  {
   "cell_type": "code",
   "execution_count": null,
   "id": "6662b456",
   "metadata": {},
   "outputs": [],
   "source": [
    "train_losses = history['train_loss']\n",
    "val_losses = history['val_loss']\n",
    "train_accs = history['train_acc']\n",
    "val_accs = history['val_acc']"
   ]
  },
  {
   "cell_type": "code",
   "execution_count": null,
   "id": "be203e8a",
   "metadata": {},
   "outputs": [],
   "source": [
    "plt.plot(train_losses, color='r', label='train loss')\n",
    "plt.plot(train_accs, color='g', label='train accs')\n",
    "plt.legend()"
   ]
  },
  {
   "cell_type": "code",
   "execution_count": null,
   "id": "3b5ca04d",
   "metadata": {},
   "outputs": [],
   "source": [
    "plt.plot(val_losses, color='b', label='=val loss')\n",
    "plt.plot(val_accs, color='y', label='val accs')\n",
    "plt.legend()"
   ]
  },
  {
   "cell_type": "code",
   "execution_count": null,
   "id": "a13ac0a1",
   "metadata": {},
   "outputs": [],
   "source": [
    "torch.save(model.state_dict(), \"model.pt\")"
   ]
  },
  {
   "cell_type": "code",
   "execution_count": null,
   "id": "07689841",
   "metadata": {},
   "outputs": [],
   "source": [
    "model = QCNN(data.config())\n",
    "model.load_state_dict(torch.load(\"model.pt\"))"
   ]
  },
  {
   "cell_type": "code",
   "execution_count": null,
   "id": "dcfb2651",
   "metadata": {},
   "outputs": [],
   "source": [
    "test_dataloader = DeviceDataLoader(data.test_dataloader(), device)\n",
    "model = to_device(model, device)\n",
    "model"
   ]
  },
  {
   "cell_type": "code",
   "execution_count": null,
   "id": "281dc83c",
   "metadata": {},
   "outputs": [],
   "source": [
    "result = evaluate(model, test_dataloader)\n",
    "print('test_loss: {:.4f}'.format(result['val_loss']) )\n",
    "print('test_acc: {:.4f}'.format(result['val_acc']))"
   ]
  },
  {
   "cell_type": "code",
   "execution_count": null,
   "id": "2545c90c",
   "metadata": {},
   "outputs": [],
   "source": []
  }
 ],
 "metadata": {
  "kernelspec": {
   "display_name": "Python (qiskit-qcnn)",
   "language": "python",
   "name": "qiskit-qcnn"
  },
  "language_info": {
   "codemirror_mode": {
    "name": "ipython",
    "version": 3
   },
   "file_extension": ".py",
   "mimetype": "text/x-python",
   "name": "python",
   "nbconvert_exporter": "python",
   "pygments_lexer": "ipython3",
   "version": "3.7.13"
  },
  "latex_envs": {
   "LaTeX_envs_menu_present": true,
   "autoclose": false,
   "autocomplete": true,
   "bibliofile": "biblio.bib",
   "cite_by": "apalike",
   "current_citInitial": 1,
   "eqLabelWithNumbers": true,
   "eqNumInitial": 1,
   "hotkeys": {
    "equation": "Ctrl-E",
    "itemize": "Ctrl-I"
   },
   "labels_anchors": false,
   "latex_user_defs": false,
   "report_style_numbering": false,
   "user_envs_cfg": false
  },
  "toc": {
   "base_numbering": 1,
   "nav_menu": {},
   "number_sections": true,
   "sideBar": true,
   "skip_h1_title": false,
   "title_cell": "Table of Contents",
   "title_sidebar": "Contents",
   "toc_cell": false,
   "toc_position": {},
   "toc_section_display": true,
   "toc_window_display": false
  }
 },
 "nbformat": 4,
 "nbformat_minor": 5
}
