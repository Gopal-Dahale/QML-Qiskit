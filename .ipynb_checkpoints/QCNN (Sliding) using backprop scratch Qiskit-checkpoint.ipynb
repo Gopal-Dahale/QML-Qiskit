{
 "cells": [
  {
   "cell_type": "code",
   "execution_count": 16,
   "id": "add9efb7",
   "metadata": {
    "ExecuteTime": {
     "end_time": "2022-07-30T04:21:33.463909Z",
     "start_time": "2022-07-30T04:21:33.449890Z"
    }
   },
   "outputs": [],
   "source": [
    "# !pip install qiskit --quiet\n",
    "# !pip install qiskit-machine-learning --quiet\n",
    "# !pip install pylatexenc --quiet"
   ]
  },
  {
   "cell_type": "code",
   "execution_count": 17,
   "id": "748d65b1",
   "metadata": {
    "ExecuteTime": {
     "end_time": "2022-07-30T04:21:33.592466Z",
     "start_time": "2022-07-30T04:21:33.470720Z"
    }
   },
   "outputs": [],
   "source": [
    "import numpy as np\n",
    "import matplotlib.pyplot as plt\n",
    "\n",
    "from scipy.interpolate import make_interp_spline\n",
    "import sympy as sp\n",
    "\n",
    "import torch\n",
    "from torch.utils.data import DataLoader\n",
    "from torch.nn import Module, Linear, Dropout2d, MaxPool2d, Conv2d\n",
    "import torch.nn.functional as F\n",
    "from torchvision import datasets, transforms\n",
    "from torch import cat, no_grad, manual_seed\n",
    "from torch import optim\n",
    "from torch.nn import NLLLoss, MSELoss\n",
    "from torch.autograd import Function\n",
    "import torch.optim as optim\n",
    "import torch.nn as nn\n",
    "\n",
    "\n",
    "from qiskit import Aer\n",
    "from qiskit_machine_learning.neural_networks import OpflowQNN\n",
    "from qiskit.opflow import AerPauliExpectation\n",
    "from qiskit_machine_learning.connectors import TorchConnector\n",
    "from qiskit.circuit import ParameterVector, Parameter, ParameterExpression\n",
    "from qiskit.utils import QuantumInstance\n",
    "from qiskit.opflow import StateFn\n",
    "from qiskit import transpile, assemble\n",
    "from qiskit.opflow import Z, ListOp,I\n",
    "import qiskit"
   ]
  },
  {
   "cell_type": "code",
   "execution_count": 75,
   "id": "e8a67b87",
   "metadata": {
    "ExecuteTime": {
     "end_time": "2022-07-30T04:47:48.142042Z",
     "start_time": "2022-07-30T04:47:48.049760Z"
    }
   },
   "outputs": [],
   "source": [
    "# Train Dataset\n",
    "# -------------\n",
    "\n",
    "# Set train shuffle seed (for reproducibility)\n",
    "manual_seed(42)\n",
    "\n",
    "batch_size = 16\n",
    "n_samples = 100  # We will concentrate on the first 100 samples\n",
    "\n",
    "# Use pre-defined torchvision function to load MNIST train data\n",
    "X_train = datasets.MNIST(\n",
    "    root=\"./data\", train=True, download=True, transform=transforms.Compose([transforms.ToTensor(),transforms.CenterCrop((20,20)),transforms.Resize((8,8))])\n",
    ")\n",
    "\n",
    "# Filter out labels (originally 0-9), leaving only labels 0 and 1\n",
    "idx = np.append(\n",
    "    np.where(X_train.targets == 0)[0][:n_samples], np.where(X_train.targets == 1)[0][:n_samples]\n",
    ")\n",
    "\n",
    "\n",
    "X_train.data = X_train.data[idx]\n",
    "X_train.targets = X_train.targets[idx]\n",
    "\n",
    "# Define torch dataloader with filtered data\n",
    "train_loader = DataLoader(X_train, batch_size=batch_size, shuffle=True)"
   ]
  },
  {
   "cell_type": "code",
   "execution_count": 76,
   "id": "de984637",
   "metadata": {
    "ExecuteTime": {
     "end_time": "2022-07-30T04:47:50.120847Z",
     "start_time": "2022-07-30T04:47:49.796749Z"
    }
   },
   "outputs": [
    {
     "data": {
      "image/png": "[encoded data removed]",
      "text/plain": [
       "<Figure size 720x216 with 6 Axes>"
      ]
     },
     "metadata": {},
     "output_type": "display_data"
    }
   ],
   "source": [
    "n_samples_show = 6\n",
    "\n",
    "data_iter = iter(train_loader)\n",
    "fig, axes = plt.subplots(nrows=1, ncols=n_samples_show, figsize=(10, 3))\n",
    "\n",
    "while n_samples_show > 0:\n",
    "    images, targets = data_iter.__next__()\n",
    "\n",
    "    axes[n_samples_show - 1].imshow(images[0, 0].numpy().squeeze(), cmap=\"gray\")\n",
    "    axes[n_samples_show - 1].set_xticks([])\n",
    "    axes[n_samples_show - 1].set_yticks([])\n",
    "    axes[n_samples_show - 1].set_title(\"Labeled: {}\".format(targets[0].item()))\n",
    "\n",
    "    n_samples_show -= 1"
   ]
  },
  {
   "cell_type": "code",
   "execution_count": 77,
   "id": "38444908",
   "metadata": {
    "ExecuteTime": {
     "end_time": "2022-07-30T04:47:52.530947Z",
     "start_time": "2022-07-30T04:47:52.487971Z"
    }
   },
   "outputs": [],
   "source": [
    "# Test Dataset\n",
    "# -------------\n",
    "\n",
    "# Set test shuffle seed (for reproducibility)\n",
    "# manual_seed(5)\n",
    "\n",
    "n_samples = 50\n",
    "\n",
    "# Use pre-defined torchvision function to load MNIST test data\n",
    "X_test = datasets.MNIST(\n",
    "    root=\"./data\", train=False, download=True, transform=transforms.Compose([transforms.ToTensor(),transforms.CenterCrop((20,20)),transforms.Resize((8,8))])\n",
    ")\n",
    "\n",
    "# Filter out labels (originally 0-9), leaving only labels 0 and 1\n",
    "idx = np.append(\n",
    "    np.where(X_test.targets == 0)[0][:n_samples], np.where(X_test.targets == 1)[0][:n_samples]\n",
    ")\n",
    "X_test.data = X_test.data[idx]\n",
    "X_test.targets = X_test.targets[idx]\n",
    "\n",
    "# Define torch dataloader with filtered data\n",
    "test_loader = DataLoader(X_test, batch_size=batch_size, shuffle=True)"
   ]
  },
  {
   "cell_type": "code",
   "execution_count": 78,
   "id": "81558e59",
   "metadata": {
    "ExecuteTime": {
     "end_time": "2022-07-30T04:47:53.357623Z",
     "start_time": "2022-07-30T04:47:53.335653Z"
    }
   },
   "outputs": [],
   "source": [
    "# class QConvCircuit:\n",
    "#     \"\"\" \n",
    "#     This class provides a simple interface for interaction \n",
    "#     with the quantum circuit \n",
    "#     \"\"\"\n",
    "#     def __init__(self, n_qubits, n_layers, backend, shots):\n",
    "#         # --- Circuit definition ---\n",
    "#         self._circuit = qiskit.QuantumCircuit(n_qubits,1)\n",
    "        \n",
    "#         all_qubits = [i for i in range(n_qubits)]\n",
    "#         self.n_qubits = n_qubits\n",
    "#         self.n_layers = n_layers\n",
    "#         self.theta = qiskit.circuit.ParameterVector('θ', n_qubits*n_layers)\n",
    "#         self.theta = np.asarray(self.theta).reshape((n_layers, n_qubits))\n",
    "\n",
    "#         self._circuit.h(all_qubits)\n",
    "#         self._circuit.barrier()\n",
    "        \n",
    "#         for l in range(n_layers):\n",
    "#             for q in all_qubits:\n",
    "#                 self._circuit.ry(self.theta[l][q], q)\n",
    "            \n",
    "#             if (l & 1):\n",
    "#                 for q0, q1 in zip(all_qubits[1::2], all_qubits[2::2] + [all_qubits[0]]):\n",
    "#                     self._circuit.cz(q0,q1)\n",
    "\n",
    "#             else:\n",
    "#                 for q0, q1 in zip(all_qubits[0::2], all_qubits[1::2]):                 \n",
    "#                     self._circuit.cz(q0,q1)\n",
    "        \n",
    "#         self._circuit.measure(-1,0)\n",
    "#         # ---------------------------\n",
    "\n",
    "#         self.backend = backend\n",
    "#         self.shots = shots\n",
    "    \n",
    "#     def run(self, thetas):\n",
    "#         parameter_binds = [{self.theta[l][q]: thetas[l][q] for q in range(self.n_qubits) for l in range(self.n_layers)}]\n",
    "\n",
    "#         t_qc = transpile(self._circuit,\n",
    "#                          self.backend)\n",
    "#         qobj = assemble(t_qc,\n",
    "#                         shots=self.shots,\n",
    "#                         parameter_binds = parameter_binds )\n",
    "#         job = self.backend.run(qobj)\n",
    "#         result = job.result().get_counts()\n",
    "        \n",
    "#         counts = np.array(list(result.values()))\n",
    "#         states = np.array(list(result.keys())).astype(float)\n",
    "        \n",
    "#         # Compute probabilities for each state\n",
    "#         probabilities = counts / self.shots\n",
    "#         # Get state expectation\n",
    "#         expectation = np.sum(states * probabilities)\n",
    "        \n",
    "#         return np.array([expectation])"
   ]
  },
  {
   "cell_type": "code",
   "execution_count": 79,
   "id": "392bc2c4",
   "metadata": {
    "ExecuteTime": {
     "end_time": "2022-07-30T04:47:53.693937Z",
     "start_time": "2022-07-30T04:47:53.683074Z"
    }
   },
   "outputs": [],
   "source": [
    "# simulator = qiskit.Aer.get_backend('aer_simulator')\n",
    "\n",
    "# n_layers = 2\n",
    "# n_qubits = 4\n",
    "\n",
    "# thetas = np.ones((n_layers, n_qubits))*np.pi\n",
    "\n",
    "# circuit = QConvCircuit(n_qubits, n_layers, simulator, 100)\n",
    "# print('Expected value for rotation pi {}'.format(circuit.run(thetas)[0]))\n",
    "# circuit._circuit.draw('mpl')"
   ]
  },
  {
   "cell_type": "code",
   "execution_count": 91,
   "id": "fe74af73",
   "metadata": {
    "ExecuteTime": {
     "end_time": "2022-07-30T04:51:42.594626Z",
     "start_time": "2022-07-30T04:51:42.575813Z"
    }
   },
   "outputs": [],
   "source": [
    "class QConvCircuit:\n",
    "    \"\"\" \n",
    "    This class provides a simple interface for interaction \n",
    "    with the quantum circuit \n",
    "    \"\"\"\n",
    "    \n",
    "    def __init__(self, n_qubits, backend, shots):\n",
    "        # --- Circuit definition ---\n",
    "        self._circuit = qiskit.QuantumCircuit(n_qubits,1)\n",
    "        \n",
    "        all_qubits = [i for i in range(n_qubits)]\n",
    "        self.theta = qiskit.circuit.Parameter('theta')\n",
    "        \n",
    "        self._circuit.h(all_qubits)\n",
    "        self._circuit.ry(self.theta, all_qubits)\n",
    "        \n",
    "        self._circuit.measure(-1,0)\n",
    "        # ---------------------------\n",
    "\n",
    "        self.backend = backend\n",
    "        self.shots = shots\n",
    "    \n",
    "    def run(self, thetas):\n",
    "        t_qc = transpile(self._circuit,\n",
    "                         self.backend)\n",
    "        batch_dim = thetas.shape[0]\n",
    "        \n",
    "        qobjs = [assemble(t_qc,shots=self.shots,parameter_binds=[{self.theta:thetas[i][0].item()}]) for i in range(batch_dim)]\n",
    "        results = [ self.backend.run(qobj).result().get_counts()  for qobj in qobjs]\n",
    "        counts = [ np.array(list(result.values())) for result in results]\n",
    "        states = [ np.array(list(result.keys())).astype(float) for result in results]\n",
    "        \n",
    "        # Compute probabilities for each state\n",
    "        probabilities = [count / self.shots for count in counts]\n",
    "        # Get state expectation\n",
    "        expectation = [np.sum(state * probability)  for state, probability in zip(states, probabilities)]\n",
    "        \n",
    "        return torch.Tensor(expectation).reshape((batch_dim,1))"
   ]
  },
  {
   "cell_type": "code",
   "execution_count": 92,
   "id": "b6365d3c",
   "metadata": {
    "ExecuteTime": {
     "end_time": "2022-07-30T04:51:43.390245Z",
     "start_time": "2022-07-30T04:51:42.953309Z"
    }
   },
   "outputs": [
    {
     "name": "stdout",
     "output_type": "stream",
     "text": [
      "Expected value for rotation pi tensor([[0.0000],\n",
      "        [0.4200]])\n"
     ]
    },
    {
     "data": {
      "image/png": "[encoded data removed]",
      "text/plain": [
       "<Figure size 253.926x144.48 with 1 Axes>"
      ]
     },
     "execution_count": 92,
     "metadata": {},
     "output_type": "execute_result"
    }
   ],
   "source": [
    "simulator = qiskit.Aer.get_backend('aer_simulator')\n",
    "\n",
    "circuit = QConvCircuit(1, simulator, 100)\n",
    "print('Expected value for rotation pi {}'.format(circuit.run(np.array([[-np.pi/2],[np.pi]]))))\n",
    "circuit._circuit.draw('mpl')"
   ]
  },
  {
   "cell_type": "code",
   "execution_count": 123,
   "id": "34eea6f4",
   "metadata": {
    "ExecuteTime": {
     "end_time": "2022-07-30T05:25:38.808923Z",
     "start_time": "2022-07-30T05:25:38.770553Z"
    }
   },
   "outputs": [],
   "source": [
    "class HybridFunction(Function):\n",
    "    \"\"\" Hybrid quantum - classical function definition \"\"\"\n",
    "    \n",
    "    @staticmethod\n",
    "    def forward(ctx, w, b, x, quantum_circuit, shift):\n",
    "        \"\"\" Forward pass computation \"\"\"\n",
    "        ctx.shift = shift\n",
    "        ctx.quantum_circuit = quantum_circuit\n",
    "        \n",
    "        z1 = torch.mm(x, w.t())\n",
    "        z1 = torch.add(z1, b)\n",
    "        z2 = (np.pi/2)*torch.tanh(z1)\n",
    "        \n",
    "        a = ctx.quantum_circuit.run(z2)\n",
    "        ctx.save_for_backward(w, b, x, a,z1,z2)\n",
    "\n",
    "        return a\n",
    "        \n",
    "    @staticmethod\n",
    "    def backward(ctx, grad_output):\n",
    "        \"\"\" Backward pass computation \"\"\"\n",
    "        w,b,x, a, z1,z2 = ctx.saved_tensors\n",
    "        batch_size = x.shape[0]\n",
    "        \n",
    "        z2_shift_right = z2 + torch.ones(z2.shape[1]) * ctx.shift\n",
    "        z2_shift_left = z2 - torch.ones(z2.shape[1]) * ctx.shift\n",
    "        \n",
    "        z2_expectation_right = ctx.quantum_circuit.run(z2_shift_right)\n",
    "        z2_expectation_left = ctx.quantum_circuit.run(z2_shift_left)\n",
    "        \n",
    "        f_grad = (z2_expectation_right - z2_expectation_left)/2\n",
    "        \n",
    "        dz2 = grad_output*f_grad\n",
    "        \n",
    "        dz1 = dz2*(np.pi/2)*(1 - (torch.tanh(z1)**2))\n",
    "        \n",
    "        dw = dz1*torch.mean(x, 0).reshape((1,-1))\n",
    "        \n",
    "        dw = (dz1.t()@x)/batch_size\n",
    "\n",
    "        db = torch.mean(dz1).reshape((1))\n",
    "        \n",
    "        dx = dz1 @ dw\n",
    "    \n",
    "        return dw, db, dx, None,None"
   ]
  },
  {
   "cell_type": "code",
   "execution_count": 124,
   "id": "ac2f9f31",
   "metadata": {
    "ExecuteTime": {
     "end_time": "2022-07-30T05:25:39.208486Z",
     "start_time": "2022-07-30T05:25:39.195539Z"
    }
   },
   "outputs": [],
   "source": [
    "class Hybrid(nn.Module):\n",
    "    \"\"\" Hybrid quantum - classical layer definition \"\"\"\n",
    "    \n",
    "    def __init__(self, n_inputs, backend, shots, shift):\n",
    "        super(Hybrid, self).__init__()\n",
    "        self.quantum_circuit = QConvCircuit(1, backend, shots)\n",
    "        self.shift = shift\n",
    "        \n",
    "        self.weights = nn.Parameter(torch.Tensor(1,n_inputs))\n",
    "        self.bias = nn.Parameter(torch.Tensor(1))\n",
    "        \n",
    "        # initialize weights and biases\n",
    "        nn.init.kaiming_uniform_(self.weights, a=np.sqrt(5)) # weight init\n",
    "        fan_in, _ = nn.init._calculate_fan_in_and_fan_out(self.weights)\n",
    "        bound = 1 / np.sqrt(fan_in)\n",
    "        nn.init.uniform_(self.bias, -bound, bound)  # bias init\n",
    "        \n",
    "    def forward(self, input):\n",
    "        return HybridFunction.apply(self.weights, self.bias, input, self.quantum_circuit, self.shift)"
   ]
  },
  {
   "cell_type": "code",
   "execution_count": 125,
   "id": "986cb989",
   "metadata": {
    "ExecuteTime": {
     "end_time": "2022-07-30T05:25:39.781642Z",
     "start_time": "2022-07-30T05:25:39.766257Z"
    }
   },
   "outputs": [],
   "source": [
    "class Net(nn.Module):\n",
    "    def __init__(self, kernel_size=(3,3), strides=(2,2)):\n",
    "        super(Net, self).__init__()\n",
    "        \n",
    "        n_inputs = np.prod(kernel_size)\n",
    "        self.hybrid = Hybrid(n_inputs, qiskit.Aer.get_backend('aer_simulator'), 1000, np.pi / 8)\n",
    "        self.hybrid2 = Hybrid(9, qiskit.Aer.get_backend('aer_simulator'), 1000, np.pi / 8)\n",
    "        \n",
    "        self.kernel_size = kernel_size\n",
    "        self.strides = strides\n",
    "\n",
    "    def forward(self, x):\n",
    "        \n",
    "        k = self.kernel_size\n",
    "        s = self.strides\n",
    "        \n",
    "        iter_x = int((x.shape[2] - k[0]) / s[0] + 1)\n",
    "        iter_y = int((x.shape[3] - k[1]) / s[1] + 1)\n",
    "        \n",
    "        out = []\n",
    "        for i in range(iter_x):\n",
    "            for j in range(iter_y):\n",
    "                _x = x[:,0, i*s[0]:i*s[0] + k[0], j*s[1]:j*s[1] + k[1]]\n",
    "                _x = _x.flatten(start_dim = 1)\n",
    "                out+= [self.hybrid(_x)]\n",
    "        out = torch.cat(out,-1)\n",
    "        out = torch.reshape(out,(-1,1, iter_x,iter_y))\n",
    "        out = out.flatten(start_dim = 1)\n",
    "        x = self.hybrid2(out)\n",
    "        return torch.cat((x, 1 - x), -1)"
   ]
  },
  {
   "cell_type": "code",
   "execution_count": 126,
   "id": "c1ec7e70",
   "metadata": {
    "ExecuteTime": {
     "end_time": "2022-07-30T05:25:40.215052Z",
     "start_time": "2022-07-30T05:25:40.194292Z"
    }
   },
   "outputs": [],
   "source": [
    "model = Net()"
   ]
  },
  {
   "cell_type": "code",
   "execution_count": 127,
   "id": "f0c4a74b",
   "metadata": {
    "ExecuteTime": {
     "end_time": "2022-07-30T05:25:40.951080Z",
     "start_time": "2022-07-30T05:25:40.943496Z"
    }
   },
   "outputs": [],
   "source": [
    "def accuracy(outputs, labels):\n",
    "    _, preds = torch.max(outputs, dim=1)\n",
    "    return torch.tensor(torch.sum(preds == labels).item() / len(preds))"
   ]
  },
  {
   "cell_type": "code",
   "execution_count": 128,
   "id": "2404e857",
   "metadata": {
    "ExecuteTime": {
     "end_time": "2022-07-30T05:27:25.076154Z",
     "start_time": "2022-07-30T05:25:41.751115Z"
    }
   },
   "outputs": [
    {
     "name": "stdout",
     "output_type": "stream",
     "text": [
      "{'loss': -0.40049999952316284, 'acc': tensor(0.3125)}\n",
      "{'loss': -0.4573124945163727, 'acc': tensor(0.4375)}\n",
      "{'loss': -0.539312481880188, 'acc': tensor(0.6250)}\n",
      "{'loss': -0.4593750238418579, 'acc': tensor(0.4375)}\n",
      "{'loss': -0.5439375042915344, 'acc': tensor(0.6250)}\n",
      "{'loss': -0.5235000252723694, 'acc': tensor(0.5625)}\n",
      "{'loss': -0.3695625066757202, 'acc': tensor(0.2500)}\n",
      "{'loss': -0.4818125069141388, 'acc': tensor(0.5000)}\n",
      "{'loss': -0.4829999804496765, 'acc': tensor(0.5000)}\n",
      "{'loss': -0.4363749921321869, 'acc': tensor(0.3750)}\n",
      "{'loss': -0.5163750052452087, 'acc': tensor(0.5625)}\n",
      "{'loss': -0.5833125114440918, 'acc': tensor(0.6875)}\n",
      "{'loss': -0.6128749847412109, 'acc': tensor(0.7500)}\n",
      "Training [20%]\tLoss: {'loss': -0.6128749847412109, 'acc': tensor(0.7500)}\n",
      "{'loss': -0.432250052690506, 'acc': tensor(0.3750)}\n",
      "{'loss': -0.43293750286102295, 'acc': tensor(0.3750)}\n",
      "{'loss': -0.45912498235702515, 'acc': tensor(0.4375)}\n",
      "{'loss': -0.5698124766349792, 'acc': tensor(0.6875)}\n",
      "{'loss': -0.4872500002384186, 'acc': tensor(0.5000)}\n",
      "{'loss': -0.4641875624656677, 'acc': tensor(0.4375)}\n",
      "{'loss': -0.4396875202655792, 'acc': tensor(0.3750)}\n",
      "{'loss': -0.6543124914169312, 'acc': tensor(0.8750)}\n",
      "{'loss': -0.4675624966621399, 'acc': tensor(0.4375)}\n",
      "{'loss': -0.5224375128746033, 'acc': tensor(0.5625)}\n",
      "{'loss': -0.5522500276565552, 'acc': tensor(0.6250)}\n",
      "{'loss': -0.4243125021457672, 'acc': tensor(0.3750)}\n",
      "{'loss': -0.4247500002384186, 'acc': tensor(0.3750)}\n",
      "Training [40%]\tLoss: {'loss': -0.4247500002384186, 'acc': tensor(0.3750)}\n",
      "{'loss': -0.46262499690055847, 'acc': tensor(0.4375)}\n",
      "{'loss': -0.40943750739097595, 'acc': tensor(0.3125)}\n",
      "{'loss': -0.5308125019073486, 'acc': tensor(0.5625)}\n",
      "{'loss': -0.4296249747276306, 'acc': tensor(0.3750)}\n",
      "{'loss': -0.515500009059906, 'acc': tensor(0.5625)}\n",
      "{'loss': -0.601187527179718, 'acc': tensor(0.7500)}\n",
      "{'loss': -0.512624979019165, 'acc': tensor(0.5625)}\n",
      "{'loss': -0.4898749589920044, 'acc': tensor(0.5000)}\n",
      "{'loss': -0.43550002574920654, 'acc': tensor(0.3750)}\n",
      "{'loss': -0.5123124718666077, 'acc': tensor(0.5625)}\n",
      "{'loss': -0.5215624570846558, 'acc': tensor(0.5625)}\n",
      "{'loss': -0.42549997568130493, 'acc': tensor(0.3750)}\n",
      "{'loss': -0.5449999570846558, 'acc': tensor(0.6250)}\n",
      "Training [60%]\tLoss: {'loss': -0.5449999570846558, 'acc': tensor(0.6250)}\n",
      "{'loss': -0.5488750338554382, 'acc': tensor(0.6250)}\n",
      "{'loss': -0.4035624861717224, 'acc': tensor(0.3125)}\n",
      "{'loss': -0.5006250143051147, 'acc': tensor(0.5000)}\n",
      "{'loss': -0.44875001907348633, 'acc': tensor(0.4375)}\n",
      "{'loss': -0.5761874914169312, 'acc': tensor(0.6875)}\n",
      "{'loss': -0.6323750019073486, 'acc': tensor(0.8125)}\n",
      "{'loss': -0.4804999828338623, 'acc': tensor(0.5000)}\n",
      "{'loss': -0.4439375102519989, 'acc': tensor(0.3750)}\n",
      "{'loss': -0.43006250262260437, 'acc': tensor(0.3750)}\n",
      "{'loss': -0.46543753147125244, 'acc': tensor(0.4375)}\n",
      "{'loss': -0.42668747901916504, 'acc': tensor(0.3750)}\n",
      "{'loss': -0.48931246995925903, 'acc': tensor(0.5000)}\n",
      "{'loss': -0.5568750500679016, 'acc': tensor(0.6250)}\n",
      "Training [80%]\tLoss: {'loss': -0.5568750500679016, 'acc': tensor(0.6250)}\n",
      "{'loss': -0.5232500433921814, 'acc': tensor(0.5625)}\n",
      "{'loss': -0.45856255292892456, 'acc': tensor(0.4375)}\n",
      "{'loss': -0.4507500231266022, 'acc': tensor(0.4375)}\n",
      "{'loss': -0.5511875152587891, 'acc': tensor(0.6250)}\n",
      "{'loss': -0.40693753957748413, 'acc': tensor(0.3125)}\n",
      "{'loss': -0.5455000400543213, 'acc': tensor(0.6250)}\n",
      "{'loss': -0.5241875052452087, 'acc': tensor(0.5625)}\n",
      "{'loss': -0.5219374895095825, 'acc': tensor(0.5625)}\n",
      "{'loss': -0.49287500977516174, 'acc': tensor(0.5000)}\n",
      "{'loss': -0.49287500977516174, 'acc': tensor(0.5000)}\n",
      "{'loss': -0.45743751525878906, 'acc': tensor(0.4375)}\n",
      "{'loss': -0.46681249141693115, 'acc': tensor(0.4375)}\n",
      "{'loss': -0.4886249899864197, 'acc': tensor(0.5000)}\n",
      "Training [100%]\tLoss: {'loss': -0.4886249899864197, 'acc': tensor(0.5000)}\n"
     ]
    }
   ],
   "source": [
    "# Define model, optimizer, and loss function\n",
    "optimizer = optim.Adam(model.parameters(), lr=1e-8)\n",
    "loss_func = NLLLoss()\n",
    "\n",
    "# Start training\n",
    "epochs = 5  # Set number of epochs\n",
    "history = []  # Store history\n",
    "model.train()  # Set model to training mode\n",
    "\n",
    "for epoch in range(epochs):\n",
    "    for batch_idx, (data, target) in enumerate(train_loader):\n",
    "        optimizer.zero_grad(set_to_none=True)  # Initialize gradient\n",
    "        output = model(data)  # Forward pass\n",
    "        acc = accuracy(output, target)\n",
    "        loss = loss_func(output, target)  # Calculate loss\n",
    "        history.append({'loss':loss.item(), 'acc':acc}) # Store training loss and acc\n",
    "        loss.backward()  # Backward pass\n",
    "        optimizer.step()  # Optimize weights \n",
    "        print(history[-1])\n",
    "    print(\"Training [{:.0f}%]\\tLoss: {}\".format(100.0 * (epoch + 1) / epochs, history[-1]))"
   ]
  },
  {
   "cell_type": "code",
   "execution_count": null,
   "id": "653bc0e3",
   "metadata": {
    "ExecuteTime": {
     "end_time": "2022-07-30T04:21:36.160484Z",
     "start_time": "2022-07-30T04:21:36.160452Z"
    }
   },
   "outputs": [],
   "source": [
    "# Plot loss convergence\n",
    "loss_list = [x['loss'] for x in history]\n",
    "plt.plot(loss_list)\n",
    "plt.title(\"Hybrid NN Training Loss Convergence\")\n",
    "plt.xlabel(\"Training Iterations\")\n",
    "plt.ylabel(\"Neg. Log Likelihood Loss\")\n",
    "plt.show()"
   ]
  },
  {
   "cell_type": "code",
   "execution_count": null,
   "id": "fe05a9ee",
   "metadata": {
    "ExecuteTime": {
     "end_time": "2022-07-30T04:21:36.162912Z",
     "start_time": "2022-07-30T04:21:36.162866Z"
    }
   },
   "outputs": [],
   "source": [
    "acc_list = [x['acc'] for x in history]\n",
    "plt.plot(acc_list)\n",
    "plt.title(\"Hybrid NN Training Acc\")\n",
    "plt.xlabel(\"Training Iterations\")\n",
    "plt.ylabel(\"Acc\")\n",
    "plt.show()"
   ]
  },
  {
   "cell_type": "code",
   "execution_count": null,
   "id": "e8263cfc",
   "metadata": {
    "ExecuteTime": {
     "end_time": "2022-07-30T04:21:36.165509Z",
     "start_time": "2022-07-30T04:21:36.165471Z"
    }
   },
   "outputs": [],
   "source": [
    "torch.save(model.state_dict(), \"model.pt\")\n"
   ]
  },
  {
   "cell_type": "code",
   "execution_count": null,
   "id": "c865f2b1",
   "metadata": {
    "ExecuteTime": {
     "end_time": "2022-07-30T04:21:36.168805Z",
     "start_time": "2022-07-30T04:21:36.168760Z"
    }
   },
   "outputs": [],
   "source": [
    "observables = ListOp([Z])\n",
    "operator, _ = create_qcnn(4,observables)\n",
    "model = Net(operator)\n",
    "model.load_state_dict(torch.load(\"model.pt\"))"
   ]
  },
  {
   "cell_type": "code",
   "execution_count": null,
   "id": "8e742d16",
   "metadata": {
    "ExecuteTime": {
     "end_time": "2022-07-30T04:21:36.174256Z",
     "start_time": "2022-07-30T04:21:36.174224Z"
    }
   },
   "outputs": [],
   "source": [
    "model.eval()  # set model to evaluation mode\n",
    "total_loss = []\n",
    "with no_grad():\n",
    "\n",
    "    correct = 0\n",
    "    for batch_idx, (data, target) in enumerate(test_loader):\n",
    "        output = model(data)\n",
    "        if len(output.shape) == 1:\n",
    "            output = output.reshape(1, *output.shape)\n",
    "\n",
    "        pred = output.argmax(dim=1, keepdim=True)\n",
    "        correct += pred.eq(target.view_as(pred)).sum().item()\n",
    "\n",
    "        loss = loss_func(output, target)\n",
    "        total_loss.append(loss.item())\n",
    "\n",
    "    print(\n",
    "        \"Performance on test data:\\n\\tLoss: {:.4f}\\n\\tAccuracy: {:.1f}%\".format(\n",
    "            sum(total_loss) / len(total_loss), correct / len(test_loader) / batch_size * 100\n",
    "        )\n",
    "    )"
   ]
  },
  {
   "cell_type": "code",
   "execution_count": null,
   "id": "bceaeea6",
   "metadata": {
    "ExecuteTime": {
     "end_time": "2022-07-30T04:21:36.177337Z",
     "start_time": "2022-07-30T04:21:36.177308Z"
    }
   },
   "outputs": [],
   "source": [
    "# Plot predicted labels\n",
    "\n",
    "n_samples_show = 6\n",
    "count = 0\n",
    "fig, axes = plt.subplots(nrows=1, ncols=n_samples_show, figsize=(10, 3))\n",
    "\n",
    "model.eval()\n",
    "with no_grad():\n",
    "    for batch_idx, (data, target) in enumerate(test_loader):\n",
    "        if count == n_samples_show:\n",
    "            break\n",
    "        output = model(data[0:1])\n",
    "        if len(output.shape) == 1:\n",
    "            output = output.reshape(1, *output.shape)\n",
    "\n",
    "        pred = output.argmax(dim=1, keepdim=True)\n",
    "\n",
    "        axes[count].imshow(data[0].numpy().squeeze(), cmap=\"gray\")\n",
    "\n",
    "        axes[count].set_xticks([])\n",
    "        axes[count].set_yticks([])\n",
    "        axes[count].set_title(\"Predicted {}\".format(pred.item()))\n",
    "\n",
    "        count += 1\n"
   ]
  },
  {
   "cell_type": "code",
   "execution_count": null,
   "id": "e57ae8f1",
   "metadata": {},
   "outputs": [],
   "source": []
  }
 ],
 "metadata": {
  "kernelspec": {
   "display_name": "Python (qiskit-qcnn)",
   "language": "python",
   "name": "qiskit-qcnn"
  },
  "language_info": {
   "codemirror_mode": {
    "name": "ipython",
    "version": 3
   },
   "file_extension": ".py",
   "mimetype": "text/x-python",
   "name": "python",
   "nbconvert_exporter": "python",
   "pygments_lexer": "ipython3",
   "version": "3.7.13"
  },
  "latex_envs": {
   "LaTeX_envs_menu_present": true,
   "autoclose": false,
   "autocomplete": true,
   "bibliofile": "biblio.bib",
   "cite_by": "apalike",
   "current_citInitial": 1,
   "eqLabelWithNumbers": true,
   "eqNumInitial": 1,
   "hotkeys": {
    "equation": "Ctrl-E",
    "itemize": "Ctrl-I"
   },
   "labels_anchors": false,
   "latex_user_defs": false,
   "report_style_numbering": false,
   "user_envs_cfg": false
  },
  "toc": {
   "base_numbering": 1,
   "nav_menu": {},
   "number_sections": true,
   "sideBar": true,
   "skip_h1_title": false,
   "title_cell": "Table of Contents",
   "title_sidebar": "Contents",
   "toc_cell": false,
   "toc_position": {},
   "toc_section_display": true,
   "toc_window_display": false
  }
 },
 "nbformat": 4,
 "nbformat_minor": 5
}
