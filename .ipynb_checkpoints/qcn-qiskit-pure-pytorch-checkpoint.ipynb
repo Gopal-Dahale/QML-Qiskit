{
 "cells": [
  {
   "cell_type": "markdown",
   "metadata": {},
   "source": []
  },
  {
   "cell_type": "code",
   "execution_count": 17,
   "metadata": {
    "execution": {
     "iopub.execute_input": "2022-06-14T07:24:44.346429Z",
     "iopub.status.busy": "2022-06-14T07:24:44.345805Z",
     "iopub.status.idle": "2022-06-14T07:25:23.230567Z",
     "shell.execute_reply": "2022-06-14T07:25:23.229519Z",
     "shell.execute_reply.started": "2022-06-14T07:24:44.346398Z"
    }
   },
   "outputs": [],
   "source": [
    "# !pip install qiskit --quiet\n",
    "# !pip install qiskit-machine-learning --quiet\n",
    "# !pip install tqdm --quiet\n",
    "# !pip install pylatexenc --quiet"
   ]
  },
  {
   "cell_type": "code",
   "execution_count": 25,
   "metadata": {
    "ExecuteTime": {
     "end_time": "2022-06-17T04:19:02.854571Z",
     "start_time": "2022-06-17T04:19:02.380083Z"
    },
    "execution": {
     "iopub.execute_input": "2022-06-14T07:25:23.233261Z",
     "iopub.status.busy": "2022-06-14T07:25:23.232872Z",
     "iopub.status.idle": "2022-06-14T07:25:23.240579Z",
     "shell.execute_reply": "2022-06-14T07:25:23.239874Z",
     "shell.execute_reply.started": "2022-06-14T07:25:23.233222Z"
    }
   },
   "outputs": [],
   "source": [
    "import numpy as np\n",
    "import matplotlib.pyplot as plt\n",
    "from tqdm import tqdm\n",
    "\n",
    "import torch\n",
    "from torch import Tensor, LongTensor\n",
    "from torch.utils.data import TensorDataset, DataLoader\n",
    "from torch.nn import Module\n",
    "\n",
    "from sklearn.datasets import load_iris\n",
    "from sklearn.preprocessing import MinMaxScaler\n",
    "from sklearn.model_selection import train_test_split\n",
    "\n",
    "from qiskit import QuantumCircuit, Aer, transpile\n",
    "from qiskit_machine_learning.neural_networks import CircuitQNN\n",
    "from qiskit_machine_learning.connectors import TorchConnector\n",
    "from qiskit.circuit import ParameterVector\n",
    "from qiskit.utils import QuantumInstance"
   ]
  },
  {
   "cell_type": "code",
   "execution_count": 4,
   "metadata": {
    "ExecuteTime": {
     "end_time": "2022-06-17T04:13:32.355158Z",
     "start_time": "2022-06-17T04:13:32.350609Z"
    },
    "execution": {
     "iopub.execute_input": "2022-06-14T07:25:23.242382Z",
     "iopub.status.busy": "2022-06-14T07:25:23.242030Z",
     "iopub.status.idle": "2022-06-14T07:25:23.256770Z",
     "shell.execute_reply": "2022-06-14T07:25:23.255988Z",
     "shell.execute_reply.started": "2022-06-14T07:25:23.242345Z"
    }
   },
   "outputs": [],
   "source": [
    "def get_default_device():\n",
    "    \"\"\"Pick GPU if available, else CPU\"\"\"\n",
    "    if torch.cuda.is_available():\n",
    "        return torch.device('cuda')\n",
    "    else:\n",
    "        return torch.device('cpu')"
   ]
  },
  {
   "cell_type": "code",
   "execution_count": 5,
   "metadata": {
    "ExecuteTime": {
     "end_time": "2022-06-17T04:13:33.722852Z",
     "start_time": "2022-06-17T04:13:33.282620Z"
    },
    "execution": {
     "iopub.execute_input": "2022-06-14T07:25:23.259677Z",
     "iopub.status.busy": "2022-06-14T07:25:23.259201Z",
     "iopub.status.idle": "2022-06-14T07:25:23.268354Z",
     "shell.execute_reply": "2022-06-14T07:25:23.267449Z",
     "shell.execute_reply.started": "2022-06-14T07:25:23.259638Z"
    }
   },
   "outputs": [
    {
     "data": {
      "text/plain": [
       "device(type='cpu')"
      ]
     },
     "execution_count": 5,
     "metadata": {},
     "output_type": "execute_result"
    }
   ],
   "source": [
    "device = get_default_device()\n",
    "device"
   ]
  },
  {
   "cell_type": "code",
   "execution_count": 6,
   "metadata": {
    "ExecuteTime": {
     "end_time": "2022-06-17T04:13:34.802216Z",
     "start_time": "2022-06-17T04:13:34.796998Z"
    },
    "execution": {
     "iopub.execute_input": "2022-06-14T07:25:23.270119Z",
     "iopub.status.busy": "2022-06-14T07:25:23.269602Z",
     "iopub.status.idle": "2022-06-14T07:25:23.277855Z",
     "shell.execute_reply": "2022-06-14T07:25:23.276998Z",
     "shell.execute_reply.started": "2022-06-14T07:25:23.270090Z"
    }
   },
   "outputs": [],
   "source": [
    "def to_device(data, device):\n",
    "    \"\"\"Move tensor(s) to chosen device\"\"\"\n",
    "    if isinstance(data, (list,tuple)):\n",
    "        return [to_device(x, device) for x in data]\n",
    "    return data.to(device, non_blocking=True)"
   ]
  },
  {
   "cell_type": "code",
   "execution_count": 7,
   "metadata": {
    "ExecuteTime": {
     "end_time": "2022-06-17T04:13:35.299465Z",
     "start_time": "2022-06-17T04:13:35.284974Z"
    },
    "execution": {
     "iopub.execute_input": "2022-06-14T07:25:23.279343Z",
     "iopub.status.busy": "2022-06-14T07:25:23.278914Z",
     "iopub.status.idle": "2022-06-14T07:25:23.287917Z",
     "shell.execute_reply": "2022-06-14T07:25:23.287184Z",
     "shell.execute_reply.started": "2022-06-14T07:25:23.279306Z"
    }
   },
   "outputs": [],
   "source": [
    "# cluster state\n",
    "def cluster_state_circuit(bits):\n",
    "    qc = QuantumCircuit(bits)\n",
    "    bits = list(range(bits))\n",
    "    qc.h(bits)\n",
    "    for this_bit, next_bit in zip(bits, bits[1:]):\n",
    "        qc.cz(this_bit, next_bit)\n",
    "    if(len(bits)!= 2):\n",
    "        qc.cz(bits[0], bits[-1])\n",
    "    return qc"
   ]
  },
  {
   "cell_type": "code",
   "execution_count": 8,
   "metadata": {
    "ExecuteTime": {
     "end_time": "2022-06-17T04:13:39.160980Z",
     "start_time": "2022-06-17T04:13:37.318576Z"
    },
    "execution": {
     "iopub.execute_input": "2022-06-14T07:25:23.289604Z",
     "iopub.status.busy": "2022-06-14T07:25:23.289239Z",
     "iopub.status.idle": "2022-06-14T07:25:23.328776Z",
     "shell.execute_reply": "2022-06-14T07:25:23.327670Z",
     "shell.execute_reply.started": "2022-06-14T07:25:23.289569Z"
    }
   },
   "outputs": [
    {
     "data": {
      "image/png": "[encoded data removed]",
      "text/plain": [
       "<Figure size 387.597x264.88 with 1 Axes>"
      ]
     },
     "execution_count": 8,
     "metadata": {},
     "output_type": "execute_result"
    }
   ],
   "source": [
    "circuit = cluster_state_circuit(4)\n",
    "circuit.draw('mpl')"
   ]
  },
  {
   "cell_type": "code",
   "execution_count": 9,
   "metadata": {
    "ExecuteTime": {
     "end_time": "2022-06-17T04:13:46.072733Z",
     "start_time": "2022-06-17T04:13:46.064529Z"
    },
    "execution": {
     "iopub.execute_input": "2022-06-14T07:25:35.079523Z",
     "iopub.status.busy": "2022-06-14T07:25:35.079171Z",
     "iopub.status.idle": "2022-06-14T07:25:35.084469Z",
     "shell.execute_reply": "2022-06-14T07:25:35.083675Z",
     "shell.execute_reply.started": "2022-06-14T07:25:35.079493Z"
    }
   },
   "outputs": [],
   "source": [
    "def one_qubit_unitary(thetas):\n",
    "    qc = QuantumCircuit(1)\n",
    "    qc.rx(thetas[0], 0)\n",
    "    qc.ry(thetas[1], 0)\n",
    "    qc.rz(thetas[2], 0)\n",
    "    return qc"
   ]
  },
  {
   "cell_type": "code",
   "execution_count": 10,
   "metadata": {
    "ExecuteTime": {
     "end_time": "2022-06-17T04:13:52.253193Z",
     "start_time": "2022-06-17T04:13:47.121875Z"
    }
   },
   "outputs": [
    {
     "data": {
      "image/png": "[encoded data removed]",
      "text/plain": [
       "<Figure size 253.926x84.28 with 1 Axes>"
      ]
     },
     "execution_count": 10,
     "metadata": {},
     "output_type": "execute_result"
    }
   ],
   "source": [
    "thetas = ParameterVector('θ', length=3)\n",
    "circuit = one_qubit_unitary(thetas)\n",
    "circuit.draw('mpl')"
   ]
  },
  {
   "cell_type": "code",
   "execution_count": 11,
   "metadata": {
    "ExecuteTime": {
     "end_time": "2022-06-17T04:13:53.423806Z",
     "start_time": "2022-06-17T04:13:53.406701Z"
    },
    "execution": {
     "iopub.execute_input": "2022-06-14T07:25:36.625483Z",
     "iopub.status.busy": "2022-06-14T07:25:36.625112Z",
     "iopub.status.idle": "2022-06-14T07:25:36.632196Z",
     "shell.execute_reply": "2022-06-14T07:25:36.631161Z",
     "shell.execute_reply.started": "2022-06-14T07:25:36.625454Z"
    }
   },
   "outputs": [],
   "source": [
    "def two_qubit_unitary(thetas):\n",
    "    qc = QuantumCircuit(2)\n",
    "    qc = qc.compose(one_qubit_unitary(thetas[0:3]), [0])\n",
    "    qc = qc.compose(one_qubit_unitary(thetas[3:6]), [1])\n",
    "    qc.rzz(thetas[6],0, 1)\n",
    "    qc.ryy(thetas[7],0, 1)\n",
    "    qc.rxx(thetas[8],0, 1)\n",
    "    qc = qc.compose(one_qubit_unitary(thetas[9:12]), [0])\n",
    "    qc = qc.compose(one_qubit_unitary(thetas[12:]), [1])\n",
    "    return qc"
   ]
  },
  {
   "cell_type": "code",
   "execution_count": 12,
   "metadata": {
    "ExecuteTime": {
     "end_time": "2022-06-17T04:13:55.598212Z",
     "start_time": "2022-06-17T04:13:55.113715Z"
    }
   },
   "outputs": [
    {
     "data": {
      "image/png": "[encoded data removed]",
      "text/plain": [
       "<Figure size 688.452x144.48 with 1 Axes>"
      ]
     },
     "execution_count": 12,
     "metadata": {},
     "output_type": "execute_result"
    }
   ],
   "source": [
    "thetas = ParameterVector('θ', length=15)\n",
    "circuit = two_qubit_unitary(thetas)\n",
    "circuit.draw('mpl')"
   ]
  },
  {
   "cell_type": "code",
   "execution_count": 13,
   "metadata": {
    "ExecuteTime": {
     "end_time": "2022-06-17T04:13:56.460522Z",
     "start_time": "2022-06-17T04:13:56.454085Z"
    },
    "execution": {
     "iopub.execute_input": "2022-06-14T07:25:38.938893Z",
     "iopub.status.busy": "2022-06-14T07:25:38.938094Z",
     "iopub.status.idle": "2022-06-14T07:25:38.943783Z",
     "shell.execute_reply": "2022-06-14T07:25:38.943084Z",
     "shell.execute_reply.started": "2022-06-14T07:25:38.938857Z"
    }
   },
   "outputs": [],
   "source": [
    "def two_qubit_pool(thetas):\n",
    "    qc = QuantumCircuit(2)\n",
    "    qc = qc.compose(one_qubit_unitary(thetas[0:3]), [1])\n",
    "    qc = qc.compose(one_qubit_unitary(thetas[3:6]), [0])\n",
    "    qc.cnot(0,1)\n",
    "    qc = qc.compose(one_qubit_unitary(thetas[0:3]).inverse(), [1])\n",
    "    return qc"
   ]
  },
  {
   "cell_type": "code",
   "execution_count": 14,
   "metadata": {
    "ExecuteTime": {
     "end_time": "2022-06-17T04:13:58.442539Z",
     "start_time": "2022-06-17T04:13:58.035668Z"
    }
   },
   "outputs": [
    {
     "data": {
      "image/png": "[encoded data removed]",
      "text/plain": [
       "<Figure size 507.852x144.48 with 1 Axes>"
      ]
     },
     "execution_count": 14,
     "metadata": {},
     "output_type": "execute_result"
    }
   ],
   "source": [
    "thetas = ParameterVector('θ', length=6)\n",
    "circuit = two_qubit_pool(thetas)\n",
    "circuit.draw('mpl')"
   ]
  },
  {
   "cell_type": "code",
   "execution_count": 15,
   "metadata": {
    "ExecuteTime": {
     "end_time": "2022-06-17T04:13:59.315228Z",
     "start_time": "2022-06-17T04:13:59.299378Z"
    },
    "execution": {
     "iopub.execute_input": "2022-06-14T07:25:41.030693Z",
     "iopub.status.busy": "2022-06-14T07:25:41.030341Z",
     "iopub.status.idle": "2022-06-14T07:25:41.036815Z",
     "shell.execute_reply": "2022-06-14T07:25:41.035951Z",
     "shell.execute_reply.started": "2022-06-14T07:25:41.030665Z"
    }
   },
   "outputs": [],
   "source": [
    "def quantum_conv_circuit(bits, thetas):\n",
    "    qc = QuantumCircuit(bits)\n",
    "    bits = list(range(bits))\n",
    "    for first, second in zip(bits[0::2], bits[1::2]):\n",
    "        qc = qc.compose(two_qubit_unitary(thetas), [first,second])\n",
    "    for first, second in zip(bits[1::2], bits[2::2] + [bits[0]]):\n",
    "        qc = qc.compose(two_qubit_unitary(thetas), [first, second])\n",
    "    return qc"
   ]
  },
  {
   "cell_type": "code",
   "execution_count": 16,
   "metadata": {
    "ExecuteTime": {
     "end_time": "2022-06-17T04:14:01.296829Z",
     "start_time": "2022-06-17T04:14:00.362221Z"
    }
   },
   "outputs": [
    {
     "data": {
      "image/png": "[encoded data removed]",
      "text/plain": [
       "<Figure size 1531.4x264.88 with 1 Axes>"
      ]
     },
     "execution_count": 16,
     "metadata": {},
     "output_type": "execute_result"
    }
   ],
   "source": [
    "thetas = ParameterVector('θ', length=16)\n",
    "circuit = quantum_conv_circuit(4, thetas)\n",
    "circuit.draw('mpl')"
   ]
  },
  {
   "cell_type": "code",
   "execution_count": 17,
   "metadata": {
    "ExecuteTime": {
     "end_time": "2022-06-17T04:14:02.966506Z",
     "start_time": "2022-06-17T04:14:02.960928Z"
    },
    "execution": {
     "iopub.execute_input": "2022-06-14T07:25:42.595914Z",
     "iopub.status.busy": "2022-06-14T07:25:42.595537Z",
     "iopub.status.idle": "2022-06-14T07:25:42.600995Z",
     "shell.execute_reply": "2022-06-14T07:25:42.600168Z",
     "shell.execute_reply.started": "2022-06-14T07:25:42.595881Z"
    }
   },
   "outputs": [],
   "source": [
    "def quantum_pool_circuit(sources, sinks, thetas):\n",
    "    qc = QuantumCircuit(len(sources) + len(sinks))\n",
    "    for source, sink in zip(sources, sinks):\n",
    "        qc = qc.compose(two_qubit_pool(thetas), [source, sink])\n",
    "    return qc"
   ]
  },
  {
   "cell_type": "code",
   "execution_count": 18,
   "metadata": {
    "ExecuteTime": {
     "end_time": "2022-06-17T04:14:04.563370Z",
     "start_time": "2022-06-17T04:14:03.795262Z"
    }
   },
   "outputs": [
    {
     "data": {
      "image/png": "[encoded data removed]",
      "text/plain": [
       "<Figure size 688.597x505.68 with 1 Axes>"
      ]
     },
     "execution_count": 18,
     "metadata": {},
     "output_type": "execute_result"
    }
   ],
   "source": [
    "thetas = ParameterVector('θ', length=6)\n",
    "sources = [0,1,2,3]\n",
    "sinks = [4,5,6,7]\n",
    "circuit = quantum_pool_circuit(sources, sinks, thetas)\n",
    "circuit.draw('mpl')"
   ]
  },
  {
   "cell_type": "code",
   "execution_count": 50,
   "metadata": {
    "ExecuteTime": {
     "end_time": "2022-06-17T04:58:34.760893Z",
     "start_time": "2022-06-17T04:58:34.722157Z"
    },
    "execution": {
     "iopub.execute_input": "2022-06-14T07:25:52.178412Z",
     "iopub.status.busy": "2022-06-14T07:25:52.177796Z",
     "iopub.status.idle": "2022-06-14T07:25:52.194758Z",
     "shell.execute_reply": "2022-06-14T07:25:52.193927Z",
     "shell.execute_reply.started": "2022-06-14T07:25:52.178374Z"
    }
   },
   "outputs": [],
   "source": [
    "class IrisDataModule():\n",
    "    def __init__(self):\n",
    "        super().__init__()\n",
    "        self.batch_size = 8\n",
    "        self.num_workers = 2\n",
    "        \n",
    "        self.dims = (4,)\n",
    "        self.output_dims = (1,)\n",
    "        self.mapping = list(range(3))\n",
    "        self.on_gpu = torch.cuda.is_available()\n",
    "        \n",
    "    def config(self):\n",
    "        \"\"\"Return important settings of the dataset, which will be passed to instantiate models.\"\"\"\n",
    "        return {\"input_dims\": self.dims, \"output_dims\": self.output_dims, \"mapping\": self.mapping}\n",
    "    \n",
    "    def prepare_data(self):\n",
    "        iris = load_iris()\n",
    "        x = iris['data']\n",
    "        y = iris['target']\n",
    "        self.names = iris['target_names']\n",
    "        self.feature_names = iris['feature_names']\n",
    "        \n",
    "        x_train, self.x_val, y_train, self.y_val = train_test_split(x, y, test_size=0.2, random_state=2)\n",
    "        self.x_train, self.x_test, self.y_train, self.y_test = train_test_split(x_train, y_train, test_size=0.2, random_state=2)\n",
    "    \n",
    "    def setup(self, stage=None):\n",
    "        scaler = MinMaxScaler((-np.pi, np.pi))\n",
    "        self.x_train = scaler.fit_transform(self.x_train)\n",
    "        self.x_val = scaler.fit_transform(self.x_val)\n",
    "        self.x_test = scaler.fit_transform(self.x_test)\n",
    "        \n",
    "        self.x_train = Tensor(self.x_train)\n",
    "        self.y_train = Tensor(self.y_train).type(LongTensor)\n",
    "        \n",
    "        self.x_val = Tensor(self.x_val)\n",
    "        self.y_val = Tensor(self.y_val).type(LongTensor)\n",
    "        \n",
    "        self.x_test = Tensor(self.x_test)\n",
    "        self.y_test = Tensor(self.y_test).type(LongTensor)\n",
    "        \n",
    "        self.data_train = TensorDataset(self.x_train, self.y_train)\n",
    "        self.data_val = TensorDataset(self.x_val, self.y_val)\n",
    "        self.data_test = TensorDataset(self.x_test, self.y_test)\n",
    "\n",
    "    def train_dataloader(self):\n",
    "        return DataLoader(\n",
    "            self.data_train,\n",
    "            shuffle=True,\n",
    "            batch_size=self.batch_size,\n",
    "            num_workers=self.num_workers,\n",
    "            pin_memory = self.on_gpu\n",
    "        )\n",
    "\n",
    "    def val_dataloader(self):\n",
    "        return DataLoader(\n",
    "            self.data_val,\n",
    "            shuffle=False,\n",
    "            batch_size=self.batch_size,\n",
    "            num_workers=self.num_workers,\n",
    "            pin_memory = self.on_gpu\n",
    "        )\n",
    "\n",
    "    def test_dataloader(self):\n",
    "        return DataLoader(\n",
    "            self.data_test,\n",
    "            shuffle=False,\n",
    "            batch_size=self.batch_size,\n",
    "            num_workers=self.num_workers,\n",
    "            pin_memory = self.on_gpu\n",
    "        )\n",
    "    def __repr__(self):\n",
    "        basic = f\"Iris Dataset\\nNum classes: {len(self.mapping)}\\nMapping: {self.mapping}\\nDims: {self.dims}\\n\"\n",
    "        x, y = next(iter(self.train_dataloader()))\n",
    "        data = (\n",
    "            f\"Train/val/test sizes: {len(self.data_train)}, {len(self.data_val)}, {len(self.data_test)}\\n\"\n",
    "            f\"Batch x stats: {(x.shape, x.dtype, x.min(), x.mean(), x.std(), x.max())}\\n\"\n",
    "            f\"Batch y stats: {(y.shape, y.dtype, y.min(), y.max())}\\n\"\n",
    "        )\n",
    "        return basic + data"
   ]
  },
  {
   "cell_type": "code",
   "execution_count": 51,
   "metadata": {
    "ExecuteTime": {
     "end_time": "2022-06-17T04:58:35.097628Z",
     "start_time": "2022-06-17T04:58:34.765936Z"
    },
    "execution": {
     "iopub.execute_input": "2022-06-14T07:25:53.348852Z",
     "iopub.status.busy": "2022-06-14T07:25:53.348486Z",
     "iopub.status.idle": "2022-06-14T07:25:53.354573Z",
     "shell.execute_reply": "2022-06-14T07:25:53.353873Z",
     "shell.execute_reply.started": "2022-06-14T07:25:53.348794Z"
    }
   },
   "outputs": [],
   "source": [
    "class DeviceDataLoader():\n",
    "    \"\"\"Wrap a dataloader to move data to a device\"\"\"\n",
    "    def __init__(self, dl, device):\n",
    "        self.dl = dl\n",
    "        self.device = device\n",
    "        \n",
    "    def __iter__(self):\n",
    "        \"\"\"Yield a batch of data after moving it to device\"\"\"\n",
    "        for b in self.dl: \n",
    "            yield to_device(b, self.device)\n",
    "\n",
    "    def __len__(self):\n",
    "        \"\"\"Number of batches\"\"\"\n",
    "        return len(self.dl)"
   ]
  },
  {
   "cell_type": "code",
   "execution_count": 52,
   "metadata": {
    "ExecuteTime": {
     "end_time": "2022-06-17T04:58:35.432423Z",
     "start_time": "2022-06-17T04:58:35.102579Z"
    },
    "execution": {
     "iopub.execute_input": "2022-06-14T07:25:54.343571Z",
     "iopub.status.busy": "2022-06-14T07:25:54.343220Z",
     "iopub.status.idle": "2022-06-14T07:25:54.356201Z",
     "shell.execute_reply": "2022-06-14T07:25:54.355300Z",
     "shell.execute_reply.started": "2022-06-14T07:25:54.343542Z"
    }
   },
   "outputs": [],
   "source": [
    "data = IrisDataModule()\n",
    "data.prepare_data()\n",
    "data.setup()"
   ]
  },
  {
   "cell_type": "code",
   "execution_count": 53,
   "metadata": {
    "ExecuteTime": {
     "end_time": "2022-06-17T04:58:35.685159Z",
     "start_time": "2022-06-17T04:58:35.438206Z"
    },
    "execution": {
     "iopub.execute_input": "2022-06-14T07:25:55.249474Z",
     "iopub.status.busy": "2022-06-14T07:25:55.248694Z",
     "iopub.status.idle": "2022-06-14T07:25:55.370843Z",
     "shell.execute_reply": "2022-06-14T07:25:55.369747Z",
     "shell.execute_reply.started": "2022-06-14T07:25:55.249437Z"
    }
   },
   "outputs": [
    {
     "data": {
      "text/plain": [
       "Iris Dataset\n",
       "Num classes: 3\n",
       "Mapping: [0, 1, 2]\n",
       "Dims: (4,)\n",
       "Train/val/test sizes: 96, 30, 24\n",
       "Batch x stats: (torch.Size([8, 4]), torch.float32, tensor(-2.8798), tensor(0.0705), tensor(1.6633), tensor(3.1416))\n",
       "Batch y stats: (torch.Size([8]), torch.int64, tensor(0), tensor(2))"
      ]
     },
     "execution_count": 53,
     "metadata": {},
     "output_type": "execute_result"
    }
   ],
   "source": [
    "data"
   ]
  },
  {
   "cell_type": "code",
   "execution_count": 54,
   "metadata": {
    "ExecuteTime": {
     "end_time": "2022-06-17T04:58:37.120395Z",
     "start_time": "2022-06-17T04:58:35.699624Z"
    }
   },
   "outputs": [
    {
     "data": {
      "image/png": "[encoded data removed]",
      "text/plain": [
       "<Figure size 1152x432 with 2 Axes>"
      ]
     },
     "metadata": {
      "needs_background": "light"
     },
     "output_type": "display_data"
    }
   ],
   "source": [
    "x_train = data.data_train.tensors[0]\n",
    "y_train = data.data_train.tensors[1]\n",
    "\n",
    "fig, (ax1, ax2) = plt.subplots(1, 2, figsize=(16, 6))\n",
    "for target, target_name in enumerate(data.names):\n",
    "    x = x_train[y_train == target]\n",
    "    ax1.plot(x[:, 0], x[:, 1], \n",
    "             linestyle='none', \n",
    "             marker='o', \n",
    "             label=target_name)\n",
    "ax1.set_xlabel(data.feature_names[0])\n",
    "ax1.set_ylabel(data.feature_names[1])\n",
    "ax1.axis('equal')\n",
    "ax1.legend();\n",
    "\n",
    "for target, target_name in enumerate(data.names):\n",
    "    x = x_train[y_train == target]\n",
    "    ax2.plot(x[:, 2], x[:, 3], \n",
    "             linestyle='none', \n",
    "             marker='o', \n",
    "             label=target_name)\n",
    "ax2.set_xlabel(data.feature_names[2])\n",
    "ax2.set_ylabel(data.feature_names[3])\n",
    "ax2.axis('equal')\n",
    "ax2.legend();"
   ]
  },
  {
   "cell_type": "code",
   "execution_count": 55,
   "metadata": {
    "ExecuteTime": {
     "end_time": "2022-06-17T04:58:37.135706Z",
     "start_time": "2022-06-17T04:58:37.125479Z"
    },
    "execution": {
     "iopub.execute_input": "2022-06-14T07:26:15.466970Z",
     "iopub.status.busy": "2022-06-14T07:26:15.466599Z",
     "iopub.status.idle": "2022-06-14T07:26:15.473236Z",
     "shell.execute_reply": "2022-06-14T07:26:15.472441Z",
     "shell.execute_reply.started": "2022-06-14T07:26:15.466939Z"
    }
   },
   "outputs": [],
   "source": [
    "def accuracy(outputs, labels):\n",
    "    _, preds = torch.max(outputs, dim=1)\n",
    "    return torch.tensor(torch.sum(preds == labels).item() / len(preds))"
   ]
  },
  {
   "cell_type": "code",
   "execution_count": 76,
   "metadata": {
    "ExecuteTime": {
     "end_time": "2022-06-17T05:24:56.305615Z",
     "start_time": "2022-06-17T05:24:56.273799Z"
    }
   },
   "outputs": [],
   "source": [
    "# Define and create QNN\n",
    "def create_qcnn(n):\n",
    "    backend = Aer.get_backend(\"aer_simulator_statevector\")\n",
    "    qi = QuantumInstance(backend)\n",
    "    \n",
    "    def last_qubit_prob(x):\n",
    "        res = bin(x)[2:].zfill(2)\n",
    "        return (int(res[0]), int(res[1]))\n",
    "\n",
    "    output_shape = 2  # parity = 0, 1\n",
    "\n",
    "    in_thetas = ParameterVector('x', length=n)\n",
    "    \n",
    "    feature_map = QuantumCircuit(n, name=\"Angle Encoding\")\n",
    "    for i in range(n):\n",
    "        feature_map.rx(in_thetas[i], i)\n",
    "    \n",
    "    thetas = ParameterVector('θ', length=21)\n",
    "    ansatz = QuantumCircuit(n, name=\"QCNN\")\n",
    "    \n",
    "    ansatz.compose(quantum_conv_circuit(n,thetas[0:15]), range(n), inplace=True)\n",
    "    ansatz.compose(quantum_pool_circuit(range(n//2), range(n//2,n), thetas[15:21]), inplace=True)\n",
    "\n",
    "    qc = QuantumCircuit(n)\n",
    "    qc.compose(transpile(cluster_state_circuit(n), backend = backend), range(n),inplace=True)\n",
    "    qc.compose(feature_map, range(n),inplace=True)\n",
    "    qc.compose(ansatz, range(n),inplace=True)\n",
    "\n",
    "    # REMEMBER TO SET input_gradients=True FOR ENABLING HYBRID GRADIENT BACKPROP\n",
    "    qcnn = CircuitQNN(\n",
    "        qc,\n",
    "        input_params = feature_map.parameters,\n",
    "        weight_params=ansatz.parameters,\n",
    "        input_gradients=True,\n",
    "        interpret=last_qubit_prob,\n",
    "        output_shape=output_shape,\n",
    "        quantum_instance=qi,\n",
    "    )\n",
    "    return qcnn"
   ]
  },
  {
   "cell_type": "code",
   "execution_count": 80,
   "metadata": {
    "ExecuteTime": {
     "end_time": "2022-06-17T05:25:10.577315Z",
     "start_time": "2022-06-17T05:25:10.554273Z"
    },
    "execution": {
     "iopub.execute_input": "2022-06-14T07:26:16.470426Z",
     "iopub.status.busy": "2022-06-14T07:26:16.469765Z",
     "iopub.status.idle": "2022-06-14T07:26:16.481636Z",
     "shell.execute_reply": "2022-06-14T07:26:16.480504Z",
     "shell.execute_reply.started": "2022-06-14T07:26:16.470384Z"
    }
   },
   "outputs": [],
   "source": [
    "class QCNN(Module):\n",
    "    def __init__(self,data_config):\n",
    "        super().__init__()\n",
    "        \n",
    "        input_dims = data_config[\"input_dims\"]\n",
    "        num_classes = len(data_config[\"mapping\"])\n",
    "        \n",
    "        self.circuit = create_qcnn(np.prod(input_dims))\n",
    "        self.qcnn = TorchConnector(self.circuit)\n",
    "    \n",
    "    def forward(self, x):\n",
    "        out = self.qcnn(x)  # apply QCNN\n",
    "        print(out)\n",
    "        print(out.shape)\n",
    "        return out\n",
    "    \n",
    "    def training_step(self, batch): \n",
    "        x, y = batch\n",
    "        logits = self(x)\n",
    "        loss = torch.nn.NLLLoss()(logits, y)\n",
    "        acc = accuracy(logits, y)\n",
    "        return {'train_loss': loss, 'train_acc': acc}\n",
    "\n",
    "    def validation_step(self, batch): \n",
    "        x, y = batch\n",
    "        logits = self(x)\n",
    "        loss = torch.nn.NLLLoss()(logits, y)\n",
    "        acc = accuracy(logits, y)\n",
    "        return {'val_loss': loss, 'val_acc': acc}\n",
    "    \n",
    "    def validation_epoch_end(self, outputs):\n",
    "        batch_losses = [x['val_loss'] for x in outputs]\n",
    "        epoch_loss = torch.stack(batch_losses).mean()   # Combine losses\n",
    "        batch_accs = [x['val_acc'] for x in outputs]\n",
    "        epoch_acc = torch.stack(batch_accs).mean()      # Combine accuracies\n",
    "        return {'val_loss': epoch_loss.item(), 'val_acc': epoch_acc.item()}"
   ]
  },
  {
   "cell_type": "code",
   "execution_count": 81,
   "metadata": {
    "ExecuteTime": {
     "end_time": "2022-06-17T05:25:10.985547Z",
     "start_time": "2022-06-17T05:25:10.968603Z"
    },
    "execution": {
     "iopub.execute_input": "2022-06-14T07:26:17.162608Z",
     "iopub.status.busy": "2022-06-14T07:26:17.162252Z",
     "iopub.status.idle": "2022-06-14T07:26:17.167533Z",
     "shell.execute_reply": "2022-06-14T07:26:17.166464Z",
     "shell.execute_reply.started": "2022-06-14T07:26:17.162577Z"
    }
   },
   "outputs": [],
   "source": [
    "def evaluate(model, val_dataloader):\n",
    "    outputs = [model.validation_step(batch) for batch in val_dataloader]\n",
    "    return model.validation_epoch_end(outputs)"
   ]
  },
  {
   "cell_type": "code",
   "execution_count": 82,
   "metadata": {
    "ExecuteTime": {
     "end_time": "2022-06-17T05:25:11.496714Z",
     "start_time": "2022-06-17T05:25:11.480347Z"
    },
    "execution": {
     "iopub.execute_input": "2022-06-14T07:31:21.734898Z",
     "iopub.status.busy": "2022-06-14T07:31:21.734221Z",
     "iopub.status.idle": "2022-06-14T07:31:21.747954Z",
     "shell.execute_reply": "2022-06-14T07:31:21.747019Z",
     "shell.execute_reply.started": "2022-06-14T07:31:21.734864Z"
    }
   },
   "outputs": [],
   "source": [
    "def fit(epochs, lr, model, train_dataloader, val_dataloader,):\n",
    "    history = {\n",
    "        'train_acc':[],\n",
    "        'train_loss':[],\n",
    "        'val_acc':[np.nan],\n",
    "        'val_loss':[np.nan]\n",
    "    }\n",
    "    optimizer = torch.optim.Adam(model.parameters(), lr = lr)\n",
    "    scheduler = torch.optim.lr_scheduler.ReduceLROnPlateau(optimizer, 'min',patience=3)\n",
    "    for epoch in range(epochs):\n",
    "        # Training \n",
    "        with tqdm(train_dataloader, unit=\"batch\") as tepoch:\n",
    "            for batch in tepoch:\n",
    "                tepoch.set_description(f\"Epoch {epoch}\")\n",
    "                \n",
    "                output = model.training_step(batch)\n",
    "                loss , acc = output['train_loss'], output['train_acc']\n",
    "                history['train_loss'].append(loss.item())\n",
    "                history['train_acc'].append(acc.item())\n",
    "                loss.backward()\n",
    "                optimizer.step()\n",
    "                optimizer.zero_grad()\n",
    "                \n",
    "                tepoch.set_postfix(loss=loss.item(), \n",
    "                                   acc=acc.item(),\n",
    "                                   val_loss= history['val_loss'][-1], \n",
    "                                   val_acc =history['val_acc'][-1])\n",
    "                   \n",
    "        # Validation\n",
    "        result = evaluate(model, val_dataloader)\n",
    "        val_loss = result['val_loss']\n",
    "        val_acc = result['val_acc']\n",
    "        history['val_loss'].append(val_loss)\n",
    "        history['val_acc'].append(val_acc)\n",
    "        scheduler.step(val_loss)\n",
    "        \n",
    "    return history"
   ]
  },
  {
   "cell_type": "code",
   "execution_count": 83,
   "metadata": {
    "ExecuteTime": {
     "end_time": "2022-06-17T05:25:12.102286Z",
     "start_time": "2022-06-17T05:25:12.096926Z"
    },
    "execution": {
     "iopub.execute_input": "2022-06-14T07:31:23.435771Z",
     "iopub.status.busy": "2022-06-14T07:31:23.435407Z",
     "iopub.status.idle": "2022-06-14T07:31:23.441178Z",
     "shell.execute_reply": "2022-06-14T07:31:23.440005Z",
     "shell.execute_reply.started": "2022-06-14T07:31:23.435739Z"
    }
   },
   "outputs": [],
   "source": [
    "train_dataloader = DeviceDataLoader(data.train_dataloader(), device)\n",
    "val_dataloader = DeviceDataLoader(data.val_dataloader(), device)"
   ]
  },
  {
   "cell_type": "code",
   "execution_count": 84,
   "metadata": {
    "ExecuteTime": {
     "end_time": "2022-06-17T05:25:47.944306Z",
     "start_time": "2022-06-17T05:25:13.671684Z"
    },
    "execution": {
     "iopub.execute_input": "2022-06-14T07:31:23.713361Z",
     "iopub.status.busy": "2022-06-14T07:31:23.712742Z",
     "iopub.status.idle": "2022-06-14T07:31:26.558442Z",
     "shell.execute_reply": "2022-06-14T07:31:26.557649Z",
     "shell.execute_reply.started": "2022-06-14T07:31:23.713322Z"
    }
   },
   "outputs": [
    {
     "data": {
      "text/plain": [
       "QCNN(\n",
       "  (qcnn): TorchConnector()\n",
       ")"
      ]
     },
     "execution_count": 84,
     "metadata": {},
     "output_type": "execute_result"
    }
   ],
   "source": [
    "model = QCNN(data.config())\n",
    "to_device(model,device)"
   ]
  },
  {
   "cell_type": "code",
   "execution_count": 85,
   "metadata": {
    "ExecuteTime": {
     "end_time": "2022-06-17T05:25:48.238577Z",
     "start_time": "2022-06-17T05:25:47.948492Z"
    },
    "execution": {
     "iopub.execute_input": "2022-06-14T07:31:26.560691Z",
     "iopub.status.busy": "2022-06-14T07:31:26.560307Z",
     "iopub.status.idle": "2022-06-14T07:41:36.739292Z",
     "shell.execute_reply": "2022-06-14T07:41:36.737946Z",
     "shell.execute_reply.started": "2022-06-14T07:31:26.560651Z"
    }
   },
   "outputs": [
    {
     "name": "stderr",
     "output_type": "stream",
     "text": [
      "Epoch 0:   0%|                                                                             | 0/12 [00:00<?, ?batch/s]\n"
     ]
    },
    {
     "ename": "IndexError",
     "evalue": "too many indices for array: array is 2-dimensional, but 3 were indexed",
     "output_type": "error",
     "traceback": [
      "\u001b[0;31m---------------------------------------------------------------------------\u001b[0m",
      "\u001b[0;31mIndexError\u001b[0m                                Traceback (most recent call last)",
      "\u001b[0;32m/tmp/ipykernel_3820/357595664.py\u001b[0m in \u001b[0;36m<module>\u001b[0;34m\u001b[0m\n\u001b[0;32m----> 1\u001b[0;31m \u001b[0mhistory\u001b[0m \u001b[0;34m=\u001b[0m \u001b[0mfit\u001b[0m\u001b[0;34m(\u001b[0m\u001b[0;36m1\u001b[0m\u001b[0;34m,\u001b[0m \u001b[0;36m0.001\u001b[0m\u001b[0;34m,\u001b[0m \u001b[0mmodel\u001b[0m\u001b[0;34m,\u001b[0m \u001b[0mtrain_dataloader\u001b[0m\u001b[0;34m,\u001b[0m \u001b[0mval_dataloader\u001b[0m\u001b[0;34m)\u001b[0m\u001b[0;34m\u001b[0m\u001b[0;34m\u001b[0m\u001b[0m\n\u001b[0m",
      "\u001b[0;32m/tmp/ipykernel_3820/932662164.py\u001b[0m in \u001b[0;36mfit\u001b[0;34m(epochs, lr, model, train_dataloader, val_dataloader)\u001b[0m\n\u001b[1;32m     14\u001b[0m                 \u001b[0mtepoch\u001b[0m\u001b[0;34m.\u001b[0m\u001b[0mset_description\u001b[0m\u001b[0;34m(\u001b[0m\u001b[0;34mf\"Epoch {epoch}\"\u001b[0m\u001b[0;34m)\u001b[0m\u001b[0;34m\u001b[0m\u001b[0;34m\u001b[0m\u001b[0m\n\u001b[1;32m     15\u001b[0m \u001b[0;34m\u001b[0m\u001b[0m\n\u001b[0;32m---> 16\u001b[0;31m                 \u001b[0moutput\u001b[0m \u001b[0;34m=\u001b[0m \u001b[0mmodel\u001b[0m\u001b[0;34m.\u001b[0m\u001b[0mtraining_step\u001b[0m\u001b[0;34m(\u001b[0m\u001b[0mbatch\u001b[0m\u001b[0;34m)\u001b[0m\u001b[0;34m\u001b[0m\u001b[0;34m\u001b[0m\u001b[0m\n\u001b[0m\u001b[1;32m     17\u001b[0m                 \u001b[0mloss\u001b[0m \u001b[0;34m,\u001b[0m \u001b[0macc\u001b[0m \u001b[0;34m=\u001b[0m \u001b[0moutput\u001b[0m\u001b[0;34m[\u001b[0m\u001b[0;34m'train_loss'\u001b[0m\u001b[0;34m]\u001b[0m\u001b[0;34m,\u001b[0m \u001b[0moutput\u001b[0m\u001b[0;34m[\u001b[0m\u001b[0;34m'train_acc'\u001b[0m\u001b[0;34m]\u001b[0m\u001b[0;34m\u001b[0m\u001b[0;34m\u001b[0m\u001b[0m\n\u001b[1;32m     18\u001b[0m                 \u001b[0mhistory\u001b[0m\u001b[0;34m[\u001b[0m\u001b[0;34m'train_loss'\u001b[0m\u001b[0;34m]\u001b[0m\u001b[0;34m.\u001b[0m\u001b[0mappend\u001b[0m\u001b[0;34m(\u001b[0m\u001b[0mloss\u001b[0m\u001b[0;34m.\u001b[0m\u001b[0mitem\u001b[0m\u001b[0;34m(\u001b[0m\u001b[0;34m)\u001b[0m\u001b[0;34m)\u001b[0m\u001b[0;34m\u001b[0m\u001b[0;34m\u001b[0m\u001b[0m\n",
      "\u001b[0;32m/tmp/ipykernel_3820/2173075444.py\u001b[0m in \u001b[0;36mtraining_step\u001b[0;34m(self, batch)\u001b[0m\n\u001b[1;32m     17\u001b[0m     \u001b[0;32mdef\u001b[0m \u001b[0mtraining_step\u001b[0m\u001b[0;34m(\u001b[0m\u001b[0mself\u001b[0m\u001b[0;34m,\u001b[0m \u001b[0mbatch\u001b[0m\u001b[0;34m)\u001b[0m\u001b[0;34m:\u001b[0m\u001b[0;34m\u001b[0m\u001b[0;34m\u001b[0m\u001b[0m\n\u001b[1;32m     18\u001b[0m         \u001b[0mx\u001b[0m\u001b[0;34m,\u001b[0m \u001b[0my\u001b[0m \u001b[0;34m=\u001b[0m \u001b[0mbatch\u001b[0m\u001b[0;34m\u001b[0m\u001b[0;34m\u001b[0m\u001b[0m\n\u001b[0;32m---> 19\u001b[0;31m         \u001b[0mlogits\u001b[0m \u001b[0;34m=\u001b[0m \u001b[0mself\u001b[0m\u001b[0;34m(\u001b[0m\u001b[0mx\u001b[0m\u001b[0;34m)\u001b[0m\u001b[0;34m\u001b[0m\u001b[0;34m\u001b[0m\u001b[0m\n\u001b[0m\u001b[1;32m     20\u001b[0m         \u001b[0mprint\u001b[0m\u001b[0;34m(\u001b[0m\u001b[0;34m'logits'\u001b[0m\u001b[0;34m,\u001b[0m\u001b[0mlogits\u001b[0m\u001b[0;34m)\u001b[0m\u001b[0;34m\u001b[0m\u001b[0;34m\u001b[0m\u001b[0m\n\u001b[1;32m     21\u001b[0m         \u001b[0mloss\u001b[0m \u001b[0;34m=\u001b[0m \u001b[0mtorch\u001b[0m\u001b[0;34m.\u001b[0m\u001b[0mnn\u001b[0m\u001b[0;34m.\u001b[0m\u001b[0mNLLLoss\u001b[0m\u001b[0;34m(\u001b[0m\u001b[0;34m)\u001b[0m\u001b[0;34m(\u001b[0m\u001b[0mlogits\u001b[0m\u001b[0;34m,\u001b[0m \u001b[0my\u001b[0m\u001b[0;34m)\u001b[0m\u001b[0;34m\u001b[0m\u001b[0;34m\u001b[0m\u001b[0m\n",
      "\u001b[0;32m~/Documents/QML-Qiskit/qiskit-qcnn/lib/python3.7/site-packages/torch/nn/modules/module.py\u001b[0m in \u001b[0;36m_call_impl\u001b[0;34m(self, *input, **kwargs)\u001b[0m\n\u001b[1;32m   1108\u001b[0m         if not (self._backward_hooks or self._forward_hooks or self._forward_pre_hooks or _global_backward_hooks\n\u001b[1;32m   1109\u001b[0m                 or _global_forward_hooks or _global_forward_pre_hooks):\n\u001b[0;32m-> 1110\u001b[0;31m             \u001b[0;32mreturn\u001b[0m \u001b[0mforward_call\u001b[0m\u001b[0;34m(\u001b[0m\u001b[0;34m*\u001b[0m\u001b[0minput\u001b[0m\u001b[0;34m,\u001b[0m \u001b[0;34m**\u001b[0m\u001b[0mkwargs\u001b[0m\u001b[0;34m)\u001b[0m\u001b[0;34m\u001b[0m\u001b[0;34m\u001b[0m\u001b[0m\n\u001b[0m\u001b[1;32m   1111\u001b[0m         \u001b[0;31m# Do not call functions when jit is used\u001b[0m\u001b[0;34m\u001b[0m\u001b[0;34m\u001b[0m\u001b[0;34m\u001b[0m\u001b[0m\n\u001b[1;32m   1112\u001b[0m         \u001b[0mfull_backward_hooks\u001b[0m\u001b[0;34m,\u001b[0m \u001b[0mnon_full_backward_hooks\u001b[0m \u001b[0;34m=\u001b[0m \u001b[0;34m[\u001b[0m\u001b[0;34m]\u001b[0m\u001b[0;34m,\u001b[0m \u001b[0;34m[\u001b[0m\u001b[0;34m]\u001b[0m\u001b[0;34m\u001b[0m\u001b[0;34m\u001b[0m\u001b[0m\n",
      "\u001b[0;32m/tmp/ipykernel_3820/2173075444.py\u001b[0m in \u001b[0;36mforward\u001b[0;34m(self, x)\u001b[0m\n\u001b[1;32m     10\u001b[0m \u001b[0;34m\u001b[0m\u001b[0m\n\u001b[1;32m     11\u001b[0m     \u001b[0;32mdef\u001b[0m \u001b[0mforward\u001b[0m\u001b[0;34m(\u001b[0m\u001b[0mself\u001b[0m\u001b[0;34m,\u001b[0m \u001b[0mx\u001b[0m\u001b[0;34m)\u001b[0m\u001b[0;34m:\u001b[0m\u001b[0;34m\u001b[0m\u001b[0;34m\u001b[0m\u001b[0m\n\u001b[0;32m---> 12\u001b[0;31m         \u001b[0mout\u001b[0m \u001b[0;34m=\u001b[0m \u001b[0mself\u001b[0m\u001b[0;34m.\u001b[0m\u001b[0mqcnn\u001b[0m\u001b[0;34m(\u001b[0m\u001b[0mx\u001b[0m\u001b[0;34m)\u001b[0m  \u001b[0;31m# apply QCNN\u001b[0m\u001b[0;34m\u001b[0m\u001b[0;34m\u001b[0m\u001b[0m\n\u001b[0m\u001b[1;32m     13\u001b[0m         \u001b[0mprint\u001b[0m\u001b[0;34m(\u001b[0m\u001b[0mout\u001b[0m\u001b[0;34m)\u001b[0m\u001b[0;34m\u001b[0m\u001b[0;34m\u001b[0m\u001b[0m\n\u001b[1;32m     14\u001b[0m         \u001b[0mprint\u001b[0m\u001b[0;34m(\u001b[0m\u001b[0mout\u001b[0m\u001b[0;34m.\u001b[0m\u001b[0mshape\u001b[0m\u001b[0;34m)\u001b[0m\u001b[0;34m\u001b[0m\u001b[0;34m\u001b[0m\u001b[0m\n",
      "\u001b[0;32m~/Documents/QML-Qiskit/qiskit-qcnn/lib/python3.7/site-packages/torch/nn/modules/module.py\u001b[0m in \u001b[0;36m_call_impl\u001b[0;34m(self, *input, **kwargs)\u001b[0m\n\u001b[1;32m   1108\u001b[0m         if not (self._backward_hooks or self._forward_hooks or self._forward_pre_hooks or _global_backward_hooks\n\u001b[1;32m   1109\u001b[0m                 or _global_forward_hooks or _global_forward_pre_hooks):\n\u001b[0;32m-> 1110\u001b[0;31m             \u001b[0;32mreturn\u001b[0m \u001b[0mforward_call\u001b[0m\u001b[0;34m(\u001b[0m\u001b[0;34m*\u001b[0m\u001b[0minput\u001b[0m\u001b[0;34m,\u001b[0m \u001b[0;34m**\u001b[0m\u001b[0mkwargs\u001b[0m\u001b[0;34m)\u001b[0m\u001b[0;34m\u001b[0m\u001b[0;34m\u001b[0m\u001b[0m\n\u001b[0m\u001b[1;32m   1111\u001b[0m         \u001b[0;31m# Do not call functions when jit is used\u001b[0m\u001b[0;34m\u001b[0m\u001b[0;34m\u001b[0m\u001b[0;34m\u001b[0m\u001b[0m\n\u001b[1;32m   1112\u001b[0m         \u001b[0mfull_backward_hooks\u001b[0m\u001b[0;34m,\u001b[0m \u001b[0mnon_full_backward_hooks\u001b[0m \u001b[0;34m=\u001b[0m \u001b[0;34m[\u001b[0m\u001b[0;34m]\u001b[0m\u001b[0;34m,\u001b[0m \u001b[0;34m[\u001b[0m\u001b[0;34m]\u001b[0m\u001b[0;34m\u001b[0m\u001b[0;34m\u001b[0m\u001b[0m\n",
      "\u001b[0;32m~/Documents/QML-Qiskit/qiskit-qcnn/lib/python3.7/site-packages/qiskit_machine_learning/connectors/torch_connector.py\u001b[0m in \u001b[0;36mforward\u001b[0;34m(self, input_data)\u001b[0m\n\u001b[1;32m    266\u001b[0m         \u001b[0minput_\u001b[0m \u001b[0;34m=\u001b[0m \u001b[0minput_data\u001b[0m \u001b[0;32mif\u001b[0m \u001b[0minput_data\u001b[0m \u001b[0;32mis\u001b[0m \u001b[0;32mnot\u001b[0m \u001b[0;32mNone\u001b[0m \u001b[0;32melse\u001b[0m \u001b[0mTensor\u001b[0m\u001b[0;34m(\u001b[0m\u001b[0;34m[\u001b[0m\u001b[0;34m]\u001b[0m\u001b[0;34m)\u001b[0m\u001b[0;34m\u001b[0m\u001b[0;34m\u001b[0m\u001b[0m\n\u001b[1;32m    267\u001b[0m         return TorchConnector._TorchNNFunction.apply(\n\u001b[0;32m--> 268\u001b[0;31m             \u001b[0minput_\u001b[0m\u001b[0;34m,\u001b[0m \u001b[0mself\u001b[0m\u001b[0;34m.\u001b[0m\u001b[0m_weights\u001b[0m\u001b[0;34m,\u001b[0m \u001b[0mself\u001b[0m\u001b[0;34m.\u001b[0m\u001b[0m_neural_network\u001b[0m\u001b[0;34m,\u001b[0m \u001b[0mself\u001b[0m\u001b[0;34m.\u001b[0m\u001b[0m_sparse\u001b[0m\u001b[0;34m\u001b[0m\u001b[0;34m\u001b[0m\u001b[0m\n\u001b[0m\u001b[1;32m    269\u001b[0m         )\n",
      "\u001b[0;32m~/Documents/QML-Qiskit/qiskit-qcnn/lib/python3.7/site-packages/qiskit_machine_learning/connectors/torch_connector.py\u001b[0m in \u001b[0;36mforward\u001b[0;34m(ctx, input_data, weights, neural_network, sparse)\u001b[0m\n\u001b[1;32m     93\u001b[0m             \u001b[0;31m# Some other tensors down below are also moved to CPU for computations.\u001b[0m\u001b[0;34m\u001b[0m\u001b[0;34m\u001b[0m\u001b[0;34m\u001b[0m\u001b[0m\n\u001b[1;32m     94\u001b[0m             result = neural_network.forward(\n\u001b[0;32m---> 95\u001b[0;31m                 \u001b[0minput_data\u001b[0m\u001b[0;34m.\u001b[0m\u001b[0mdetach\u001b[0m\u001b[0;34m(\u001b[0m\u001b[0;34m)\u001b[0m\u001b[0;34m.\u001b[0m\u001b[0mcpu\u001b[0m\u001b[0;34m(\u001b[0m\u001b[0;34m)\u001b[0m\u001b[0;34m.\u001b[0m\u001b[0mnumpy\u001b[0m\u001b[0;34m(\u001b[0m\u001b[0;34m)\u001b[0m\u001b[0;34m,\u001b[0m \u001b[0mweights\u001b[0m\u001b[0;34m.\u001b[0m\u001b[0mdetach\u001b[0m\u001b[0;34m(\u001b[0m\u001b[0;34m)\u001b[0m\u001b[0;34m.\u001b[0m\u001b[0mcpu\u001b[0m\u001b[0;34m(\u001b[0m\u001b[0;34m)\u001b[0m\u001b[0;34m.\u001b[0m\u001b[0mnumpy\u001b[0m\u001b[0;34m(\u001b[0m\u001b[0;34m)\u001b[0m\u001b[0;34m\u001b[0m\u001b[0;34m\u001b[0m\u001b[0m\n\u001b[0m\u001b[1;32m     96\u001b[0m             )\n\u001b[1;32m     97\u001b[0m             \u001b[0;32mif\u001b[0m \u001b[0mneural_network\u001b[0m\u001b[0;34m.\u001b[0m\u001b[0msparse\u001b[0m \u001b[0;32mand\u001b[0m \u001b[0msparse\u001b[0m\u001b[0;34m:\u001b[0m\u001b[0;34m\u001b[0m\u001b[0;34m\u001b[0m\u001b[0m\n",
      "\u001b[0;32m~/Documents/QML-Qiskit/qiskit-qcnn/lib/python3.7/site-packages/qiskit_machine_learning/neural_networks/neural_network.py\u001b[0m in \u001b[0;36mforward\u001b[0;34m(self, input_data, weights)\u001b[0m\n\u001b[1;32m    199\u001b[0m         \u001b[0minput_\u001b[0m\u001b[0;34m,\u001b[0m \u001b[0mshape\u001b[0m \u001b[0;34m=\u001b[0m \u001b[0mself\u001b[0m\u001b[0;34m.\u001b[0m\u001b[0m_validate_input\u001b[0m\u001b[0;34m(\u001b[0m\u001b[0minput_data\u001b[0m\u001b[0;34m)\u001b[0m\u001b[0;34m\u001b[0m\u001b[0;34m\u001b[0m\u001b[0m\n\u001b[1;32m    200\u001b[0m         \u001b[0mweights_\u001b[0m \u001b[0;34m=\u001b[0m \u001b[0mself\u001b[0m\u001b[0;34m.\u001b[0m\u001b[0m_validate_weights\u001b[0m\u001b[0;34m(\u001b[0m\u001b[0mweights\u001b[0m\u001b[0;34m)\u001b[0m\u001b[0;34m\u001b[0m\u001b[0;34m\u001b[0m\u001b[0m\n\u001b[0;32m--> 201\u001b[0;31m         \u001b[0moutput_data\u001b[0m \u001b[0;34m=\u001b[0m \u001b[0mself\u001b[0m\u001b[0;34m.\u001b[0m\u001b[0m_forward\u001b[0m\u001b[0;34m(\u001b[0m\u001b[0minput_\u001b[0m\u001b[0;34m,\u001b[0m \u001b[0mweights_\u001b[0m\u001b[0;34m)\u001b[0m\u001b[0;34m\u001b[0m\u001b[0;34m\u001b[0m\u001b[0m\n\u001b[0m\u001b[1;32m    202\u001b[0m         \u001b[0;32mreturn\u001b[0m \u001b[0mself\u001b[0m\u001b[0;34m.\u001b[0m\u001b[0m_validate_forward_output\u001b[0m\u001b[0;34m(\u001b[0m\u001b[0moutput_data\u001b[0m\u001b[0;34m,\u001b[0m \u001b[0mshape\u001b[0m\u001b[0;34m)\u001b[0m\u001b[0;34m\u001b[0m\u001b[0;34m\u001b[0m\u001b[0m\n\u001b[1;32m    203\u001b[0m \u001b[0;34m\u001b[0m\u001b[0m\n",
      "\u001b[0;32m~/Documents/QML-Qiskit/qiskit-qcnn/lib/python3.7/site-packages/qiskit_machine_learning/neural_networks/sampling_neural_network.py\u001b[0m in \u001b[0;36m_forward\u001b[0;34m(self, input_data, weights)\u001b[0m\n\u001b[1;32m     87\u001b[0m             \u001b[0;32mreturn\u001b[0m \u001b[0mself\u001b[0m\u001b[0;34m.\u001b[0m\u001b[0m_sample\u001b[0m\u001b[0;34m(\u001b[0m\u001b[0minput_data\u001b[0m\u001b[0;34m,\u001b[0m \u001b[0mweights\u001b[0m\u001b[0;34m)\u001b[0m\u001b[0;34m\u001b[0m\u001b[0;34m\u001b[0m\u001b[0m\n\u001b[1;32m     88\u001b[0m         \u001b[0;32melse\u001b[0m\u001b[0;34m:\u001b[0m\u001b[0;34m\u001b[0m\u001b[0;34m\u001b[0m\u001b[0m\n\u001b[0;32m---> 89\u001b[0;31m             \u001b[0;32mreturn\u001b[0m \u001b[0mself\u001b[0m\u001b[0;34m.\u001b[0m\u001b[0m_probabilities\u001b[0m\u001b[0;34m(\u001b[0m\u001b[0minput_data\u001b[0m\u001b[0;34m,\u001b[0m \u001b[0mweights\u001b[0m\u001b[0;34m)\u001b[0m\u001b[0;34m\u001b[0m\u001b[0;34m\u001b[0m\u001b[0m\n\u001b[0m\u001b[1;32m     90\u001b[0m \u001b[0;34m\u001b[0m\u001b[0m\n\u001b[1;32m     91\u001b[0m     def _backward(\n",
      "\u001b[0;32m~/Documents/QML-Qiskit/qiskit-qcnn/lib/python3.7/site-packages/qiskit_machine_learning/neural_networks/circuit_qnn.py\u001b[0m in \u001b[0;36m_probabilities\u001b[0;34m(self, input_data, weights)\u001b[0m\n\u001b[1;32m    418\u001b[0m                     \u001b[0mkey\u001b[0m \u001b[0;34m=\u001b[0m \u001b[0;34m(\u001b[0m\u001b[0mcast\u001b[0m\u001b[0;34m(\u001b[0m\u001b[0mint\u001b[0m\u001b[0;34m,\u001b[0m \u001b[0mkey\u001b[0m\u001b[0;34m)\u001b[0m\u001b[0;34m,\u001b[0m\u001b[0;34m)\u001b[0m\u001b[0;34m\u001b[0m\u001b[0;34m\u001b[0m\u001b[0m\n\u001b[1;32m    419\u001b[0m                 \u001b[0mkey\u001b[0m \u001b[0;34m=\u001b[0m \u001b[0;34m(\u001b[0m\u001b[0mi\u001b[0m\u001b[0;34m,\u001b[0m \u001b[0;34m*\u001b[0m\u001b[0mkey\u001b[0m\u001b[0;34m)\u001b[0m  \u001b[0;31m# type: ignore\u001b[0m\u001b[0;34m\u001b[0m\u001b[0;34m\u001b[0m\u001b[0m\n\u001b[0;32m--> 420\u001b[0;31m                 \u001b[0mprob\u001b[0m\u001b[0;34m[\u001b[0m\u001b[0mkey\u001b[0m\u001b[0;34m]\u001b[0m \u001b[0;34m+=\u001b[0m \u001b[0mv\u001b[0m \u001b[0;34m/\u001b[0m \u001b[0mshots\u001b[0m\u001b[0;34m\u001b[0m\u001b[0;34m\u001b[0m\u001b[0m\n\u001b[0m\u001b[1;32m    421\u001b[0m \u001b[0;34m\u001b[0m\u001b[0m\n\u001b[1;32m    422\u001b[0m         \u001b[0;32mif\u001b[0m \u001b[0mself\u001b[0m\u001b[0;34m.\u001b[0m\u001b[0m_sparse\u001b[0m\u001b[0;34m:\u001b[0m\u001b[0;34m\u001b[0m\u001b[0;34m\u001b[0m\u001b[0m\n",
      "\u001b[0;31mIndexError\u001b[0m: too many indices for array: array is 2-dimensional, but 3 were indexed"
     ]
    }
   ],
   "source": [
    "history = fit(1, 0.001, model, train_dataloader, val_dataloader)"
   ]
  },
  {
   "cell_type": "code",
   "execution_count": null,
   "metadata": {
    "ExecuteTime": {
     "end_time": "2022-06-17T05:00:10.087506Z",
     "start_time": "2022-06-17T05:00:10.087471Z"
    },
    "execution": {
     "iopub.execute_input": "2022-06-14T07:42:01.188498Z",
     "iopub.status.busy": "2022-06-14T07:42:01.187698Z",
     "iopub.status.idle": "2022-06-14T07:42:01.193769Z",
     "shell.execute_reply": "2022-06-14T07:42:01.192584Z",
     "shell.execute_reply.started": "2022-06-14T07:42:01.188456Z"
    }
   },
   "outputs": [],
   "source": [
    "train_losses = history['train_loss']\n",
    "val_losses = history['val_loss']\n",
    "train_accs = history['train_acc']\n",
    "val_accs = history['val_acc']"
   ]
  },
  {
   "cell_type": "code",
   "execution_count": 52,
   "metadata": {
    "ExecuteTime": {
     "start_time": "2022-06-14T06:55:13.181Z"
    },
    "execution": {
     "iopub.execute_input": "2022-06-14T07:42:03.886295Z",
     "iopub.status.busy": "2022-06-14T07:42:03.885943Z",
     "iopub.status.idle": "2022-06-14T07:42:04.094862Z",
     "shell.execute_reply": "2022-06-14T07:42:04.094115Z",
     "shell.execute_reply.started": "2022-06-14T07:42:03.886265Z"
    }
   },
   "outputs": [],
   "source": [
    "plt.plot(train_losses, color='r', label='train loss')\n",
    "plt.plot(train_accs, color='g', label='train accs')\n",
    "plt.legend()"
   ]
  },
  {
   "cell_type": "code",
   "execution_count": 53,
   "metadata": {
    "ExecuteTime": {
     "start_time": "2022-06-14T06:55:13.759Z"
    },
    "execution": {
     "iopub.execute_input": "2022-06-14T07:42:08.088375Z",
     "iopub.status.busy": "2022-06-14T07:42:08.088022Z",
     "iopub.status.idle": "2022-06-14T07:42:08.287627Z",
     "shell.execute_reply": "2022-06-14T07:42:08.286856Z",
     "shell.execute_reply.started": "2022-06-14T07:42:08.088345Z"
    }
   },
   "outputs": [],
   "source": [
    "plt.plot(val_losses, color='b', label='=val loss')\n",
    "plt.plot(val_accs, color='y', label='val accs')\n",
    "plt.legend()"
   ]
  },
  {
   "cell_type": "code",
   "execution_count": 54,
   "metadata": {
    "execution": {
     "iopub.execute_input": "2022-06-14T07:42:11.718319Z",
     "iopub.status.busy": "2022-06-14T07:42:11.717646Z",
     "iopub.status.idle": "2022-06-14T07:42:11.728134Z",
     "shell.execute_reply": "2022-06-14T07:42:11.727286Z",
     "shell.execute_reply.started": "2022-06-14T07:42:11.718280Z"
    }
   },
   "outputs": [],
   "source": [
    "torch.save(model.state_dict(), \"model.pt\")"
   ]
  },
  {
   "cell_type": "code",
   "execution_count": 55,
   "metadata": {
    "execution": {
     "iopub.execute_input": "2022-06-14T07:42:12.760012Z",
     "iopub.status.busy": "2022-06-14T07:42:12.759654Z",
     "iopub.status.idle": "2022-06-14T07:42:15.581879Z",
     "shell.execute_reply": "2022-06-14T07:42:15.580982Z",
     "shell.execute_reply.started": "2022-06-14T07:42:12.759983Z"
    }
   },
   "outputs": [],
   "source": [
    "model = QCNN(data.config())\n",
    "model.load_state_dict(torch.load(\"model.pt\"))"
   ]
  },
  {
   "cell_type": "code",
   "execution_count": 56,
   "metadata": {
    "execution": {
     "iopub.execute_input": "2022-06-14T07:42:16.808718Z",
     "iopub.status.busy": "2022-06-14T07:42:16.807983Z",
     "iopub.status.idle": "2022-06-14T07:42:16.815469Z",
     "shell.execute_reply": "2022-06-14T07:42:16.814645Z",
     "shell.execute_reply.started": "2022-06-14T07:42:16.808682Z"
    }
   },
   "outputs": [],
   "source": [
    "test_dataloader = DeviceDataLoader(data.test_dataloader(), device)\n",
    "to_device(model, device)"
   ]
  },
  {
   "cell_type": "code",
   "execution_count": 57,
   "metadata": {
    "execution": {
     "iopub.execute_input": "2022-06-14T07:42:18.377277Z",
     "iopub.status.busy": "2022-06-14T07:42:18.376627Z",
     "iopub.status.idle": "2022-06-14T07:42:18.719185Z",
     "shell.execute_reply": "2022-06-14T07:42:18.717383Z",
     "shell.execute_reply.started": "2022-06-14T07:42:18.377240Z"
    }
   },
   "outputs": [],
   "source": [
    "result = evaluate(model, test_dataloader)\n",
    "print('test_loss: {:.4f}'.format(result['val_loss']) )\n",
    "print('test_acc: {:.4f}'.format(result['val_acc']))"
   ]
  },
  {
   "cell_type": "code",
   "execution_count": 61,
   "metadata": {
    "execution": {
     "iopub.execute_input": "2022-06-14T07:43:02.871839Z",
     "iopub.status.busy": "2022-06-14T07:43:02.871219Z",
     "iopub.status.idle": "2022-06-14T07:43:04.106373Z",
     "shell.execute_reply": "2022-06-14T07:43:04.104977Z",
     "shell.execute_reply.started": "2022-06-14T07:43:02.871773Z"
    }
   },
   "outputs": [],
   "source": [
    "# Evaluate model and compute accuracy\n",
    "y_predict = []\n",
    "x_test = []\n",
    "y_test = []\n",
    "for data, target in test_dataloader:\n",
    "    x_test += list(data.cpu().detach().numpy())\n",
    "    output = model(data).cpu().detach().numpy()\n",
    "    preds = np.array([0 if out[0] >= out[1] else 1 for out in output])\n",
    "    y_predict = np.append(y_predict, preds)\n",
    "    y_test = np.append(y_test, target.cpu().detach().numpy())\n",
    "print(\"Accuracy:\", np.sum(np.equal(y_predict , y_test)) / len(y_test))\n",
    "\n",
    "# Plot results\n",
    "# red == wrongly classified\n",
    "for x, y_target, y_p in zip(x_test, y_test, y_predict):\n",
    "    if y_target == 1.0:\n",
    "        plt.plot(x[0], x[1], \"bo\")\n",
    "    else:\n",
    "        plt.plot(x[0], x[1], \"go\")\n",
    "    if y_target != y_p:\n",
    "        plt.scatter(x[0], x[1], s=200, facecolors=\"none\", edgecolors=\"r\", linewidths=2)\n",
    "plt.plot([-3,3],[-3,3], \"--\", color=\"black\")\n",
    "plt.title(\"Predictions\")\n",
    "plt.show()"
   ]
  },
  {
   "cell_type": "code",
   "execution_count": null,
   "metadata": {},
   "outputs": [],
   "source": []
  }
 ],
 "metadata": {
  "kernelspec": {
   "display_name": "Python (qiskit-qcnn)",
   "language": "python",
   "name": "qiskit-qcnn"
  },
  "language_info": {
   "codemirror_mode": {
    "name": "ipython",
    "version": 3
   },
   "file_extension": ".py",
   "mimetype": "text/x-python",
   "name": "python",
   "nbconvert_exporter": "python",
   "pygments_lexer": "ipython3",
   "version": "3.7.13"
  },
  "latex_envs": {
   "LaTeX_envs_menu_present": true,
   "autoclose": false,
   "autocomplete": true,
   "bibliofile": "biblio.bib",
   "cite_by": "apalike",
   "current_citInitial": 1,
   "eqLabelWithNumbers": true,
   "eqNumInitial": 1,
   "hotkeys": {
    "equation": "Ctrl-E",
    "itemize": "Ctrl-I"
   },
   "labels_anchors": false,
   "latex_user_defs": false,
   "report_style_numbering": false,
   "user_envs_cfg": false
  },
  "toc": {
   "base_numbering": 1,
   "nav_menu": {},
   "number_sections": true,
   "sideBar": true,
   "skip_h1_title": false,
   "title_cell": "Table of Contents",
   "title_sidebar": "Contents",
   "toc_cell": false,
   "toc_position": {},
   "toc_section_display": true,
   "toc_window_display": false
  }
 },
 "nbformat": 4,
 "nbformat_minor": 4
}
