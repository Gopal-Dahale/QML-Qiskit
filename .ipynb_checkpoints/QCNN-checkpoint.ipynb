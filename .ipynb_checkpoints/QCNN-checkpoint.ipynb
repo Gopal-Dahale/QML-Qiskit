{
 "cells": [
  {
   "cell_type": "code",
   "execution_count": 2,
   "id": "00a617b7",
   "metadata": {
    "ExecuteTime": {
     "end_time": "2022-06-06T17:39:03.429644Z",
     "start_time": "2022-06-06T17:39:03.420824Z"
    }
   },
   "outputs": [],
   "source": [
    "from qiskit import *\n",
    "from torchvision import datasets, transforms\n",
    "import numpy as np\n",
    "import torch\n",
    "import matplotlib.pyplot as plt\n",
    "from sklearn.utils import shuffle\n",
    "from sklearn.preprocessing import StandardScaler, normalize\n",
    "from qiskit.circuit import ParameterVector, Parameter\n",
    "from qiskit.algorithms.optimizers import SPSA, ADAM, COBYLA\n",
    "from qiskit import execute\n",
    "from qiskit.providers.aer import AerSimulator\n",
    "from qiskit.quantum_info import Statevector\n",
    "from sklearn.decomposition import PCA\n",
    "from sklearn.datasets import make_blobs"
   ]
  },
  {
   "cell_type": "code",
   "execution_count": 66,
   "id": "0765b536",
   "metadata": {
    "ExecuteTime": {
     "end_time": "2022-06-03T05:34:26.028674Z",
     "start_time": "2022-06-03T05:34:25.899507Z"
    }
   },
   "outputs": [],
   "source": [
    "# Concentrating on the first 100 samples\n",
    "n_samples = 50\n",
    "\n",
    "X_train = datasets.MNIST(root='./data', train=True, download=True,\n",
    "                         transform=transforms.Compose([transforms.ToTensor()]))\n",
    "# Leaving only labels 0 and 1\n",
    "idx = np.append(np.where(X_train.targets == 0)[0][:n_samples],\n",
    "                np.where(X_train.targets == 1)[0][:n_samples])\n",
    "\n",
    "x_train = np.array([X_train[i][0].numpy() for i in idx])\n",
    "y_train = np.array([X_train[i][1] for i in idx])\n",
    "\n",
    "x_train, y_train = shuffle(x_train, y_train, random_state=42)"
   ]
  },
  {
   "cell_type": "code",
   "execution_count": 67,
   "id": "9046dcff",
   "metadata": {
    "ExecuteTime": {
     "end_time": "2022-06-03T05:34:28.174126Z",
     "start_time": "2022-06-03T05:34:28.138108Z"
    }
   },
   "outputs": [],
   "source": [
    "n_samples = 10\n",
    "\n",
    "X_test = datasets.MNIST(root='./data', train=False, download=True,\n",
    "                        transform=transforms.Compose([transforms.ToTensor()]))\n",
    "\n",
    "idx = np.append(np.where(X_test.targets == 0)[0][:n_samples], \n",
    "                np.where(X_test.targets == 1)[0][:n_samples])\n",
    "\n",
    "x_test = np.array([X_test[i][0].numpy() for i in idx])\n",
    "y_test = np.array([X_test[i][1] for i in idx])\n",
    "\n",
    "x_test, y_test = shuffle(x_test, y_test, random_state=42)"
   ]
  },
  {
   "cell_type": "code",
   "execution_count": 68,
   "id": "6f0c2919",
   "metadata": {
    "ExecuteTime": {
     "end_time": "2022-06-03T05:34:29.138513Z",
     "start_time": "2022-06-03T05:34:29.121170Z"
    }
   },
   "outputs": [
    {
     "name": "stdout",
     "output_type": "stream",
     "text": [
      "(100, 1, 28, 28)\n",
      "(20, 1, 28, 28)\n",
      "(100, 28, 28)\n",
      "(20, 28, 28)\n"
     ]
    }
   ],
   "source": [
    "print(x_train.shape)\n",
    "print(x_test.shape)\n",
    "\n",
    "h = x_train.shape[2]\n",
    "w = x_train.shape[3]\n",
    "\n",
    "x_train = x_train.reshape(-1,h,w)\n",
    "x_test = x_test.reshape(-1,h,w)\n",
    "\n",
    "print(x_train.shape)\n",
    "print(x_test.shape)"
   ]
  },
  {
   "cell_type": "code",
   "execution_count": 69,
   "id": "d60b0461",
   "metadata": {
    "ExecuteTime": {
     "end_time": "2022-06-03T05:34:30.561595Z",
     "start_time": "2022-06-03T05:34:30.541915Z"
    }
   },
   "outputs": [],
   "source": [
    "def display_images(x, y):\n",
    "    n_samples_show = 10\n",
    "    fig, axes = plt.subplots(nrows=1, ncols=n_samples_show, figsize=(10, 3))\n",
    "\n",
    "    while n_samples_show > 0:\n",
    "        image, target = x[n_samples_show], y[n_samples_show]\n",
    "\n",
    "        axes[n_samples_show - 1].imshow(image, cmap='gray')\n",
    "        axes[n_samples_show - 1].set_xticks([])\n",
    "        axes[n_samples_show - 1].set_yticks([])\n",
    "        axes[n_samples_show - 1].set_title(format(target))\n",
    "\n",
    "        n_samples_show -= 1"
   ]
  },
  {
   "cell_type": "code",
   "execution_count": 70,
   "id": "2093836f",
   "metadata": {
    "ExecuteTime": {
     "end_time": "2022-06-03T05:34:32.030846Z",
     "start_time": "2022-06-03T05:34:31.502608Z"
    }
   },
   "outputs": [
    {
     "data": {
      "image/png": "[encoded data removed]",
      "text/plain": [
       "<Figure size 720x216 with 10 Axes>"
      ]
     },
     "metadata": {},
     "output_type": "display_data"
    }
   ],
   "source": [
    "display_images(x_train, y_train)"
   ]
  },
  {
   "cell_type": "code",
   "execution_count": 71,
   "id": "8543beba",
   "metadata": {
    "ExecuteTime": {
     "end_time": "2022-06-03T05:34:32.780206Z",
     "start_time": "2022-06-03T05:34:32.772230Z"
    }
   },
   "outputs": [],
   "source": [
    "x_train = x_train.reshape(-1,h*w)\n",
    "x_test = x_test.reshape(-1,h*w)"
   ]
  },
  {
   "cell_type": "code",
   "execution_count": 72,
   "id": "0897c149",
   "metadata": {
    "ExecuteTime": {
     "end_time": "2022-06-03T05:34:33.887835Z",
     "start_time": "2022-06-03T05:34:33.806825Z"
    }
   },
   "outputs": [
    {
     "name": "stdout",
     "output_type": "stream",
     "text": [
      "Cumulative sum for train: 83.05244\n",
      "Cumulative sum for test: 98.82273\n"
     ]
    }
   ],
   "source": [
    "n_components = 16\n",
    "pca = PCA(n_components)\n",
    "pca.fit(x_train)\n",
    "print(\"Cumulative sum for train:\", np.cumsum(pca.explained_variance_ratio_ * 100)[-1])\n",
    "x_train = pca.transform(x_train)\n",
    "\n",
    "pca.fit(x_test)\n",
    "print(\"Cumulative sum for test:\", np.cumsum(pca.explained_variance_ratio_ * 100)[-1])\n",
    "x_test = pca.transform(x_test)"
   ]
  },
  {
   "cell_type": "code",
   "execution_count": 73,
   "id": "58334b64",
   "metadata": {
    "ExecuteTime": {
     "end_time": "2022-06-03T05:34:34.871998Z",
     "start_time": "2022-06-03T05:34:34.858803Z"
    }
   },
   "outputs": [
    {
     "name": "stdout",
     "output_type": "stream",
     "text": [
      "(100, 16)\n",
      "(20, 16)\n"
     ]
    }
   ],
   "source": [
    "print(x_train.shape)\n",
    "print(x_test.shape)"
   ]
  },
  {
   "cell_type": "code",
   "execution_count": 74,
   "id": "cddcd802",
   "metadata": {
    "ExecuteTime": {
     "end_time": "2022-06-03T05:34:36.123515Z",
     "start_time": "2022-06-03T05:34:36.106236Z"
    }
   },
   "outputs": [],
   "source": [
    "x_train = normalize(x_train)\n",
    "x_test = normalize(x_test)"
   ]
  },
  {
   "cell_type": "code",
   "execution_count": 75,
   "id": "514be067",
   "metadata": {
    "ExecuteTime": {
     "end_time": "2022-06-03T05:34:37.527339Z",
     "start_time": "2022-06-03T05:34:37.519916Z"
    }
   },
   "outputs": [],
   "source": [
    "# threshold = 0\n",
    "\n",
    "# x_train = np.array(x_train > threshold, dtype=np.float32)\n",
    "# x_test = np.array(x_test > threshold, dtype=np.float32)"
   ]
  },
  {
   "cell_type": "code",
   "execution_count": 76,
   "id": "5e6f40e7",
   "metadata": {
    "ExecuteTime": {
     "end_time": "2022-06-03T05:34:38.347642Z",
     "start_time": "2022-06-03T05:34:37.852702Z"
    }
   },
   "outputs": [
    {
     "data": {
      "image/png": "[encoded data removed]",
      "text/plain": [
       "<Figure size 720x216 with 10 Axes>"
      ]
     },
     "metadata": {},
     "output_type": "display_data"
    }
   ],
   "source": [
    "display_images(x_train.reshape(-1,4,4),y_train)"
   ]
  },
  {
   "cell_type": "code",
   "execution_count": 17,
   "id": "f3a30532",
   "metadata": {
    "ExecuteTime": {
     "end_time": "2022-06-03T04:29:27.127309Z",
     "start_time": "2022-06-03T04:29:27.115326Z"
    }
   },
   "outputs": [
    {
     "name": "stdout",
     "output_type": "stream",
     "text": [
      "0.86018723 -0.89008534\n"
     ]
    }
   ],
   "source": [
    "print(x_train.max(),x_train.min())"
   ]
  },
  {
   "cell_type": "code",
   "execution_count": 91,
   "id": "1c4e46e9",
   "metadata": {
    "ExecuteTime": {
     "end_time": "2022-06-06T18:20:34.911549Z",
     "start_time": "2022-06-06T18:20:34.894369Z"
    }
   },
   "outputs": [],
   "source": [
    "X,y = make_blobs(n_samples=200,n_features=2,centers=2,random_state=42)"
   ]
  },
  {
   "cell_type": "code",
   "execution_count": 92,
   "id": "a9b26915",
   "metadata": {
    "ExecuteTime": {
     "end_time": "2022-06-06T18:20:35.576251Z",
     "start_time": "2022-06-06T18:20:35.352488Z"
    }
   },
   "outputs": [
    {
     "data": {
      "text/plain": [
       "<matplotlib.collections.PathCollection at 0x7f34e31a8950>"
      ]
     },
     "execution_count": 92,
     "metadata": {},
     "output_type": "execute_result"
    },
    {
     "data": {
      "image/png": "[encoded data removed]",
      "text/plain": [
       "<Figure size 432x288 with 1 Axes>"
      ]
     },
     "metadata": {
      "needs_background": "light"
     },
     "output_type": "display_data"
    }
   ],
   "source": [
    "plt.scatter(X[:,0], X[:,1], s = 50)"
   ]
  },
  {
   "cell_type": "code",
   "execution_count": 93,
   "id": "04226cf1",
   "metadata": {
    "ExecuteTime": {
     "end_time": "2022-06-06T18:20:37.018585Z",
     "start_time": "2022-06-06T18:20:36.760225Z"
    }
   },
   "outputs": [
    {
     "data": {
      "text/plain": [
       "<matplotlib.collections.PathCollection at 0x7f34e07bef50>"
      ]
     },
     "execution_count": 93,
     "metadata": {},
     "output_type": "execute_result"
    },
    {
     "data": {
      "image/png": "[encoded data removed]",
      "text/plain": [
       "<Figure size 432x288 with 1 Axes>"
      ]
     },
     "metadata": {
      "needs_background": "light"
     },
     "output_type": "display_data"
    }
   ],
   "source": [
    "X = normalize(X)\n",
    "plt.scatter(X[:,0], X[:,1], s = 50)"
   ]
  },
  {
   "cell_type": "code",
   "execution_count": 64,
   "id": "b491d531",
   "metadata": {
    "ExecuteTime": {
     "end_time": "2022-06-06T17:58:30.314358Z",
     "start_time": "2022-06-06T17:58:30.298406Z"
    }
   },
   "outputs": [
    {
     "data": {
      "text/plain": [
       "(0.9955601455315285, -0.4623547112297095)"
      ]
     },
     "execution_count": 64,
     "metadata": {},
     "output_type": "execute_result"
    }
   ],
   "source": [
    "X.max(),X.min()"
   ]
  },
  {
   "cell_type": "code",
   "execution_count": 16,
   "id": "0f75739e",
   "metadata": {
    "ExecuteTime": {
     "end_time": "2022-06-06T17:42:06.691366Z",
     "start_time": "2022-06-06T17:42:06.685358Z"
    }
   },
   "outputs": [],
   "source": [
    "def cirq_layer(qc, readout, data_qubits, gate_name):\n",
    "    theta_list = ParameterVector('θ' + gate_name, length=len(data_qubits))\n",
    "    if gate_name == 'xx':\n",
    "        for i in data_qubits:\n",
    "            qc.rxx(theta_list[i-1], i, readout)\n",
    "    elif gate_name == 'zz':\n",
    "        for i in data_qubits:\n",
    "            qc.rzz(theta_list[i-1], i, readout)\n",
    "    else:\n",
    "        raise ValueError(\"gate name must be either xx or zz\")\n",
    "    return qc"
   ]
  },
  {
   "cell_type": "code",
   "execution_count": 41,
   "id": "b1b1ee87",
   "metadata": {
    "ExecuteTime": {
     "end_time": "2022-06-06T17:48:16.149045Z",
     "start_time": "2022-06-06T17:48:16.141905Z"
    }
   },
   "outputs": [],
   "source": [
    "# cluster state\n",
    "def cluster_state_circuit(bits):\n",
    "    qc = QuantumCircuit(bits)\n",
    "    bits = list(range(bits))\n",
    "    qc.h(bits)\n",
    "    for this_bit, next_bit in zip(bits, bits[1:]):\n",
    "        qc.cz(this_bit, next_bit)\n",
    "    if(len(bits)!= 2):\n",
    "        qc.cz(bits[0], bits[-1])\n",
    "    return qc"
   ]
  },
  {
   "cell_type": "code",
   "execution_count": 43,
   "id": "9d7483ee",
   "metadata": {
    "ExecuteTime": {
     "end_time": "2022-06-06T17:48:30.876853Z",
     "start_time": "2022-06-06T17:48:30.522274Z"
    }
   },
   "outputs": [
    {
     "data": {
      "image/png": "[encoded data removed]",
      "text/plain": [
       "<Figure size 447.797x325.08 with 1 Axes>"
      ]
     },
     "execution_count": 43,
     "metadata": {},
     "output_type": "execute_result"
    }
   ],
   "source": [
    "cluster_state_circuit(5).draw('mpl')"
   ]
  },
  {
   "cell_type": "code",
   "execution_count": 19,
   "id": "c2203134",
   "metadata": {
    "ExecuteTime": {
     "end_time": "2022-06-06T17:42:09.154484Z",
     "start_time": "2022-06-06T17:42:09.144200Z"
    }
   },
   "outputs": [],
   "source": [
    "def one_qubit_unitary(thetas):\n",
    "    qc = QuantumCircuit(1)\n",
    "    qc.rx(thetas[0], 0)\n",
    "    qc.ry(thetas[1], 0)\n",
    "    qc.rz(thetas[2], 0)\n",
    "    return qc\n",
    "\n",
    "def two_qubit_unitary(thetas):\n",
    "    qc = QuantumCircuit(2)\n",
    "    qc = qc.compose(one_qubit_unitary(thetas[0:3]), [0])\n",
    "    qc = qc.compose(one_qubit_unitary(thetas[3:6]), [1])\n",
    "    qc.rzz(thetas[6],0, 1)\n",
    "    qc.ryy(thetas[7],0, 1)\n",
    "    qc.rxx(thetas[8],0, 1)\n",
    "    qc = qc.compose(one_qubit_unitary(thetas[9:12]), [0])\n",
    "    qc = qc.compose(one_qubit_unitary(thetas[12:]), [1])\n",
    "    return qc\n",
    "\n",
    "\n",
    "def two_qubit_pool(thetas):\n",
    "    qc = QuantumCircuit(2)\n",
    "    qc = qc.compose(one_qubit_unitary(thetas[0:3]), [1])\n",
    "    qc = qc.compose(one_qubit_unitary(thetas[3:6]), [0])\n",
    "    qc.cnot(0,1)\n",
    "    qc = qc.compose(one_qubit_unitary(thetas[0:3]).inverse(), [1])\n",
    "    return qc"
   ]
  },
  {
   "cell_type": "code",
   "execution_count": 20,
   "id": "652c47d2",
   "metadata": {
    "ExecuteTime": {
     "end_time": "2022-06-06T17:42:13.135070Z",
     "start_time": "2022-06-06T17:42:09.840957Z"
    }
   },
   "outputs": [
    {
     "data": {
      "image/png": "[encoded data removed]",
      "text/plain": [
       "<Figure size 253.926x84.28 with 1 Axes>"
      ]
     },
     "execution_count": 20,
     "metadata": {},
     "output_type": "execute_result"
    }
   ],
   "source": [
    "one_qubit_unitary(ParameterVector('θ', length=3)).draw('mpl')"
   ]
  },
  {
   "cell_type": "code",
   "execution_count": 21,
   "id": "1f092ef2",
   "metadata": {
    "ExecuteTime": {
     "end_time": "2022-06-06T17:42:13.521580Z",
     "start_time": "2022-06-06T17:42:13.139608Z"
    }
   },
   "outputs": [
    {
     "data": {
      "image/png": "[encoded data removed]",
      "text/plain": [
       "<Figure size 688.452x144.48 with 1 Axes>"
      ]
     },
     "execution_count": 21,
     "metadata": {},
     "output_type": "execute_result"
    }
   ],
   "source": [
    "two_qubit_unitary(ParameterVector('θ', length=15)).draw('mpl')"
   ]
  },
  {
   "cell_type": "code",
   "execution_count": 22,
   "id": "2e8de384",
   "metadata": {
    "ExecuteTime": {
     "end_time": "2022-06-06T17:42:13.895428Z",
     "start_time": "2022-06-06T17:42:13.525197Z"
    }
   },
   "outputs": [
    {
     "data": {
      "image/png": "[encoded data removed]",
      "text/plain": [
       "<Figure size 507.852x144.48 with 1 Axes>"
      ]
     },
     "execution_count": 22,
     "metadata": {},
     "output_type": "execute_result"
    }
   ],
   "source": [
    "two_qubit_pool(ParameterVector('θ', length=6)).draw('mpl')"
   ]
  },
  {
   "cell_type": "code",
   "execution_count": 23,
   "id": "f9f73990",
   "metadata": {
    "ExecuteTime": {
     "end_time": "2022-06-06T17:42:13.908887Z",
     "start_time": "2022-06-06T17:42:13.900196Z"
    }
   },
   "outputs": [],
   "source": [
    "def quantum_conv_circuit(bits, thetas):\n",
    "    qc = QuantumCircuit(bits)\n",
    "    bits = list(range(bits))\n",
    "    for first, second in zip(bits[0::2], bits[1::2]):\n",
    "        qc = qc.compose(two_qubit_unitary(thetas), [first,second])\n",
    "    for first, second in zip(bits[1::2], bits[2::2] + [bits[0]]):\n",
    "        qc = qc.compose(two_qubit_unitary(thetas), [first, second])\n",
    "    return qc"
   ]
  },
  {
   "cell_type": "code",
   "execution_count": 46,
   "id": "e182b6a5",
   "metadata": {
    "ExecuteTime": {
     "end_time": "2022-06-06T17:49:55.632189Z",
     "start_time": "2022-06-06T17:49:55.087174Z"
    }
   },
   "outputs": [
    {
     "data": {
      "image/png": "[encoded data removed]",
      "text/plain": [
       "<Figure size 1290.45x144.48 with 1 Axes>"
      ]
     },
     "execution_count": 46,
     "metadata": {},
     "output_type": "execute_result"
    }
   ],
   "source": [
    "quantum_conv_circuit(2, ParameterVector('θ', length=15)).draw('mpl')"
   ]
  },
  {
   "cell_type": "code",
   "execution_count": 25,
   "id": "ef155ab6",
   "metadata": {
    "ExecuteTime": {
     "end_time": "2022-06-06T17:42:15.995448Z",
     "start_time": "2022-06-06T17:42:15.988872Z"
    }
   },
   "outputs": [],
   "source": [
    "def quantum_pool_circuit(sources, sinks, thetas):\n",
    "    qc = QuantumCircuit(len(sources) + len(sinks))\n",
    "    for source, sink in zip(sources, sinks):\n",
    "        qc = qc.compose(two_qubit_pool(thetas), [source, sink])\n",
    "    return qc"
   ]
  },
  {
   "cell_type": "code",
   "execution_count": 49,
   "id": "405b9224",
   "metadata": {
    "ExecuteTime": {
     "end_time": "2022-06-06T17:51:06.105622Z",
     "start_time": "2022-06-06T17:51:05.801941Z"
    }
   },
   "outputs": [
    {
     "data": {
      "image/png": "[encoded data removed]",
      "text/plain": [
       "<Figure size 507.852x144.48 with 1 Axes>"
      ]
     },
     "execution_count": 49,
     "metadata": {},
     "output_type": "execute_result"
    }
   ],
   "source": [
    "quantum_pool_circuit(list(range(1)), list(range(1,2)), ParameterVector('θ', length=6)).draw('mpl')"
   ]
  },
  {
   "cell_type": "code",
   "execution_count": 30,
   "id": "c53f0967",
   "metadata": {
    "ExecuteTime": {
     "end_time": "2022-06-06T17:45:16.411973Z",
     "start_time": "2022-06-06T17:45:16.186506Z"
    }
   },
   "outputs": [
    {
     "data": {
      "image/png": "[encoded data removed]",
      "text/plain": [
       "<Figure size 146.652x204.68 with 1 Axes>"
      ]
     },
     "execution_count": 30,
     "metadata": {},
     "output_type": "execute_result"
    }
   ],
   "source": [
    "n = 2\n",
    "backend = AerSimulator()\n",
    "\n",
    "# Data encoding\n",
    "in_thetas = ParameterVector('θ_in', length=n)\n",
    "feature_map = QuantumCircuit(n,1)\n",
    "for i in range(n):\n",
    "    feature_map.rx(in_thetas[i], i)\n",
    "feature_map.draw('mpl')"
   ]
  },
  {
   "cell_type": "code",
   "execution_count": 44,
   "id": "51a610b3",
   "metadata": {
    "ExecuteTime": {
     "end_time": "2022-06-06T17:48:39.430778Z",
     "start_time": "2022-06-06T17:48:39.236658Z"
    }
   },
   "outputs": [
    {
     "data": {
      "image/png": "[encoded data removed]",
      "text/plain": [
       "<Figure size 206.852x144.48 with 1 Axes>"
      ]
     },
     "execution_count": 44,
     "metadata": {},
     "output_type": "execute_result"
    }
   ],
   "source": [
    "# cluster state\n",
    "cluster_qc = cluster_state_circuit(n)\n",
    "cluster_qc.draw('mpl')"
   ]
  },
  {
   "cell_type": "code",
   "execution_count": 54,
   "id": "83e8a890",
   "metadata": {
    "ExecuteTime": {
     "end_time": "2022-06-06T17:51:55.510319Z",
     "start_time": "2022-06-06T17:51:54.784504Z"
    }
   },
   "outputs": [
    {
     "data": {
      "image/png": "[encoded data removed]",
      "text/plain": [
       "<Figure size 1591.45x445.48 with 1 Axes>"
      ]
     },
     "execution_count": 54,
     "metadata": {},
     "output_type": "execute_result"
    }
   ],
   "source": [
    "# variational circuit\n",
    "thetas = ParameterVector('θ', length=21)\n",
    "var_form = QuantumCircuit(n,1)\n",
    "var_form = var_form.compose(quantum_conv_circuit(n,thetas[0:15]), [0,1])\n",
    "var_form.barrier()\n",
    "var_form = var_form.compose(quantum_pool_circuit([0], [1], thetas[15:21]))\n",
    "var_form.draw('mpl')"
   ]
  },
  {
   "cell_type": "code",
   "execution_count": 56,
   "id": "0c596dc9",
   "metadata": {
    "ExecuteTime": {
     "end_time": "2022-06-06T17:53:25.835264Z",
     "start_time": "2022-06-06T17:53:25.043129Z"
    }
   },
   "outputs": [
    {
     "data": {
      "image/png": "[encoded data removed]",
      "text/plain": [
       "<Figure size 1591.45x445.48 with 1 Axes>"
      ]
     },
     "execution_count": 56,
     "metadata": {},
     "output_type": "execute_result"
    }
   ],
   "source": [
    "circuit = QuantumCircuit(n,1)\n",
    "circuit = circuit.compose(cluster_qc)\n",
    "circuit.barrier()\n",
    "circuit = circuit.compose(feature_map)\n",
    "circuit.barrier()\n",
    "circuit = circuit.compose(var_form)\n",
    "circuit.barrier()\n",
    "circuit.measure(1,0)\n",
    "circuit.draw('mpl')"
   ]
  },
  {
   "cell_type": "code",
   "execution_count": 137,
   "id": "bd2b13f1",
   "metadata": {
    "ExecuteTime": {
     "end_time": "2022-06-03T06:37:03.544476Z",
     "start_time": "2022-06-03T06:37:03.331263Z"
    }
   },
   "outputs": [
    {
     "data": {
      "text/plain": [
       "<qiskit.circuit.instructionset.InstructionSet at 0x7fc3185aea50>"
      ]
     },
     "execution_count": 137,
     "metadata": {},
     "output_type": "execute_result"
    }
   ],
   "source": [
    "# n = n_components\n",
    "# backend = AerSimulator()\n",
    "\n",
    "# # Data encoding\n",
    "# in_thetas = ParameterVector('θ_in', length=n)\n",
    "# feature_map = QuantumCircuit(n,1)\n",
    "# for i in range(n):\n",
    "#     feature_map.rx(in_thetas[i], i)\n",
    "\n",
    "# # cluster state\n",
    "# cluster_qc = cluster_state_circuit(n)\n",
    "\n",
    "# # variational circuit\n",
    "# thetas = ParameterVector('θ', length=64)\n",
    "# Range = list(range(n))\n",
    "# var_form = QuantumCircuit(n,1)\n",
    "# var_form = var_form.compose(quantum_conv_circuit(n,thetas[0:15]), Range)\n",
    "# var_form = var_form.compose(quantum_pool_circuit(Range[:8], Range[8:], thetas[15:21]), Range)\n",
    "# var_form = var_form.compose(quantum_conv_circuit(n//2,thetas[21:36]), Range[8:])\n",
    "# var_form = var_form.compose(quantum_pool_circuit(Range[:4], Range[4:8], thetas[36:42]), Range[8:])\n",
    "# var_form = var_form.compose(quantum_conv_circuit(n//4,thetas[42:57]), Range[12:])\n",
    "# var_form = var_form.compose(quantum_pool_circuit(Range[:3], [Range[3]], thetas[57:63]), Range[12:])\n",
    "\n",
    "# circuit = QuantumCircuit(n,1)\n",
    "# circuit = circuit.compose(cluster_qc)\n",
    "# circuit = circuit.compose(feature_map)\n",
    "# circuit = circuit.compose(var_form)\n",
    "# circuit.measure(15, 0)"
   ]
  },
  {
   "cell_type": "code",
   "execution_count": 27,
   "id": "8495c88e",
   "metadata": {
    "ExecuteTime": {
     "end_time": "2022-06-06T17:42:22.576946Z",
     "start_time": "2022-06-06T17:42:22.573335Z"
    }
   },
   "outputs": [],
   "source": [
    "# circuit.draw('mpl')"
   ]
  },
  {
   "cell_type": "code",
   "execution_count": 57,
   "id": "adb6e3e6",
   "metadata": {
    "ExecuteTime": {
     "end_time": "2022-06-06T17:53:34.816919Z",
     "start_time": "2022-06-06T17:53:34.806627Z"
    }
   },
   "outputs": [
    {
     "data": {
      "text/plain": [
       "23"
      ]
     },
     "execution_count": 57,
     "metadata": {},
     "output_type": "execute_result"
    }
   ],
   "source": [
    "circuit.num_parameters"
   ]
  },
  {
   "cell_type": "code",
   "execution_count": 65,
   "id": "05d589cf",
   "metadata": {
    "ExecuteTime": {
     "end_time": "2022-06-06T17:58:36.446271Z",
     "start_time": "2022-06-06T17:58:36.441097Z"
    }
   },
   "outputs": [],
   "source": [
    "def circuit_parameters(x, variational):\n",
    "    parameters = {}\n",
    "    for i, p in enumerate(feature_map.parameters):\n",
    "        parameters[p] = x[i]\n",
    "    for i, p in enumerate(var_form.parameters):\n",
    "        parameters[p] = variational[i]\n",
    "    return parameters"
   ]
  },
  {
   "cell_type": "code",
   "execution_count": 66,
   "id": "056addd9",
   "metadata": {
    "ExecuteTime": {
     "end_time": "2022-06-06T17:58:36.754327Z",
     "start_time": "2022-06-06T17:58:36.747639Z"
    }
   },
   "outputs": [],
   "source": [
    "def assign_label(bitstring):\n",
    "    hamming_weight = sum([int(k) for k in list(bitstring)])\n",
    "    odd = hamming_weight & 1\n",
    "    if odd:\n",
    "        return 1\n",
    "    else:\n",
    "        return 0"
   ]
  },
  {
   "cell_type": "code",
   "execution_count": 67,
   "id": "287034d9",
   "metadata": {
    "ExecuteTime": {
     "end_time": "2022-06-06T17:58:38.208154Z",
     "start_time": "2022-06-06T17:58:38.196569Z"
    }
   },
   "outputs": [],
   "source": [
    "def label_probability(results):\n",
    "    shots = sum(results.values())\n",
    "    probabilities = {0: 0, 1: 0}\n",
    "    for bitstring, counts in results.items():\n",
    "        label = assign_label(bitstring)\n",
    "        probabilities[label] += counts / shots\n",
    "    return probabilities"
   ]
  },
  {
   "cell_type": "code",
   "execution_count": 68,
   "id": "337f64f1",
   "metadata": {
    "ExecuteTime": {
     "end_time": "2022-06-06T17:58:40.990668Z",
     "start_time": "2022-06-06T17:58:40.982708Z"
    }
   },
   "outputs": [],
   "source": [
    "def classification_probability(data, variational):\n",
    "    qc_list = [circuit.assign_parameters(circuit_parameters(d,variational)) for d in data]\n",
    "    results =  execute(qc_list, backend).result()\n",
    "    classification = [label_probability(results.get_counts(c)) for c in qc_list]\n",
    "    return classification"
   ]
  },
  {
   "cell_type": "code",
   "execution_count": 69,
   "id": "71c0f7a1",
   "metadata": {
    "ExecuteTime": {
     "end_time": "2022-06-06T17:58:45.220350Z",
     "start_time": "2022-06-06T17:58:45.211009Z"
    }
   },
   "outputs": [],
   "source": [
    "costs = []\n",
    "accuracies = []"
   ]
  },
  {
   "cell_type": "code",
   "execution_count": 70,
   "id": "92cbb3ea",
   "metadata": {
    "ExecuteTime": {
     "end_time": "2022-06-06T17:58:52.175870Z",
     "start_time": "2022-06-06T17:58:52.162982Z"
    }
   },
   "outputs": [],
   "source": [
    "def cross_entropy_loss(predictions, expected):\n",
    "    p = predictions.get(expected)\n",
    "    return -(expected*np.log(p)+(1-expected)*np.log(1-p))\n",
    "\n",
    "def cost_function(data, labels, variational):\n",
    "    classifications = classification_probability(data, variational)\n",
    "    cost = 0\n",
    "    acc = 0\n",
    "    for i, classification in enumerate(classifications):\n",
    "        cost += cross_entropy_loss(classification, labels[i])\n",
    "        if (classification[0] >= classification[1]) and labels[i] == 0:\n",
    "            acc +=1\n",
    "        elif (classification[1]) >= classification[0] and (labels[i] == 1):\n",
    "            acc += 1\n",
    "    cost /= len(data)\n",
    "    costs.append(cost)\n",
    "    acc /= len(labels)\n",
    "    accuracies.append(acc)\n",
    "    print('cost:', np.around(cost,4), 'acc: ',np.around(acc, 4))\n",
    "    return cost"
   ]
  },
  {
   "cell_type": "code",
   "execution_count": 94,
   "id": "17b465d0",
   "metadata": {
    "ExecuteTime": {
     "end_time": "2022-06-06T18:20:46.862826Z",
     "start_time": "2022-06-06T18:20:46.848825Z"
    }
   },
   "outputs": [],
   "source": [
    "optimizer = SPSA(maxiter=20)\n",
    "initial_point = np.random.uniform(-np.pi, np.pi, circuit.num_parameters)\n",
    "objective_function = lambda variational: cost_function(X,\n",
    "                                                       y,\n",
    "                                                       variational)"
   ]
  },
  {
   "cell_type": "code",
   "execution_count": null,
   "id": "eb1c5b11",
   "metadata": {
    "ExecuteTime": {
     "start_time": "2022-06-06T18:20:47.262Z"
    },
    "scrolled": true
   },
   "outputs": [
    {
     "name": "stdout",
     "output_type": "stream",
     "text": [
      "cost: 1.2373 acc:  0.965\n",
      "cost: 0.9309 acc:  0.085\n",
      "cost: 1.7219 acc:  0.5\n",
      "cost: 1.0589 acc:  0.5\n",
      "cost: 1.1982 acc:  0.5\n",
      "cost: 0.7384 acc:  0.565\n",
      "cost: 2.2052 acc:  0.5\n",
      "cost: 0.8727 acc:  0.0\n",
      "cost: 1.564 acc:  0.5\n",
      "cost: 1.4479 acc:  0.5\n",
      "cost: 1.1361 acc:  0.91\n",
      "cost: 1.6731 acc:  0.5\n",
      "cost: 1.36 acc:  0.5\n",
      "cost: 1.4527 acc:  0.5\n",
      "cost: 1.0848 acc:  0.5\n",
      "cost: 2.3126 acc:  0.5\n",
      "cost: 1.1864 acc:  0.5\n",
      "cost: 1.7945 acc:  0.5\n"
     ]
    }
   ],
   "source": [
    "# Run the optimization\n",
    "opt_var, opt_value, _ = optimizer.optimize(len(initial_point), objective_function, initial_point=initial_point)"
   ]
  },
  {
   "cell_type": "code",
   "execution_count": null,
   "id": "ff031176",
   "metadata": {
    "ExecuteTime": {
     "start_time": "2022-06-06T18:23:12.856Z"
    }
   },
   "outputs": [],
   "source": [
    "fig = plt.figure()\n",
    "plt.plot(costs)\n",
    "plt.plot(accuracies)\n",
    "plt.xlabel('Steps')\n",
    "plt.ylabel('Cost')\n",
    "plt.show()"
   ]
  },
  {
   "cell_type": "code",
   "execution_count": 87,
   "id": "83e86f18",
   "metadata": {
    "ExecuteTime": {
     "end_time": "2022-06-06T18:07:49.118070Z",
     "start_time": "2022-06-06T18:07:49.098918Z"
    }
   },
   "outputs": [
    {
     "data": {
      "text/plain": [
       "ParameterVectorElement(θ[0])"
      ]
     },
     "execution_count": 87,
     "metadata": {},
     "output_type": "execute_result"
    }
   ],
   "source": [
    "circuit.parameters.data[0]"
   ]
  },
  {
   "cell_type": "code",
   "execution_count": 435,
   "id": "c1b646cb",
   "metadata": {
    "ExecuteTime": {
     "end_time": "2022-06-02T17:04:31.607911Z",
     "start_time": "2022-06-02T17:04:30.559613Z"
    }
   },
   "outputs": [
    {
     "data": {
      "text/plain": [
       "0.5"
      ]
     },
     "execution_count": 435,
     "metadata": {},
     "output_type": "execute_result"
    }
   ],
   "source": [
    "def score_classifier(data, labels, variational):\n",
    "    probability = classification_probability(data, variational)\n",
    "\n",
    "    prediction = [0 if p[0] >= p[1] else 1 for p in probability]\n",
    "    \n",
    "    accuracy = 0\n",
    "    for i, p in enumerate(probability):\n",
    "        if (p[0] >= p[1]) and (labels[i] == 0):\n",
    "            accuracy += 1\n",
    "        elif (p[1]) >= p[0] and (labels[i] == 1):\n",
    "            accuracy += 1\n",
    "    accuracy /= len(labels)\n",
    "    return accuracy, prediction\n",
    "\n",
    "accuracy, prediction = score_classifier(x_test, y_test, opt_var)\n",
    "accuracy"
   ]
  },
  {
   "cell_type": "code",
   "execution_count": null,
   "id": "caeae6fd",
   "metadata": {},
   "outputs": [],
   "source": []
  }
 ],
 "metadata": {
  "kernelspec": {
   "display_name": "Python 3 (ipykernel)",
   "language": "python",
   "name": "python3"
  },
  "language_info": {
   "codemirror_mode": {
    "name": "ipython",
    "version": 3
   },
   "file_extension": ".py",
   "mimetype": "text/x-python",
   "name": "python",
   "nbconvert_exporter": "python",
   "pygments_lexer": "ipython3",
   "version": "3.7.13"
  },
  "latex_envs": {
   "LaTeX_envs_menu_present": true,
   "autoclose": false,
   "autocomplete": true,
   "bibliofile": "biblio.bib",
   "cite_by": "apalike",
   "current_citInitial": 1,
   "eqLabelWithNumbers": true,
   "eqNumInitial": 1,
   "hotkeys": {
    "equation": "Ctrl-E",
    "itemize": "Ctrl-I"
   },
   "labels_anchors": false,
   "latex_user_defs": false,
   "report_style_numbering": false,
   "user_envs_cfg": false
  },
  "toc": {
   "base_numbering": 1,
   "nav_menu": {},
   "number_sections": true,
   "sideBar": true,
   "skip_h1_title": false,
   "title_cell": "Table of Contents",
   "title_sidebar": "Contents",
   "toc_cell": false,
   "toc_position": {},
   "toc_section_display": true,
   "toc_window_display": false
  }
 },
 "nbformat": 4,
 "nbformat_minor": 5
}
