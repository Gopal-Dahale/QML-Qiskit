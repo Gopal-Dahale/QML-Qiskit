{
 "cells": [
  {
   "cell_type": "code",
   "execution_count": 31,
   "id": "eff983e5",
   "metadata": {
    "ExecuteTime": {
     "end_time": "2022-06-07T17:51:00.528242Z",
     "start_time": "2022-06-07T17:51:00.509073Z"
    }
   },
   "outputs": [],
   "source": [
    "import pytorch_lightning as pl\n",
    "from sklearn.datasets import make_blobs\n",
    "from sklearn.preprocessing import normalize\n",
    "import numpy as np\n",
    "from torch.utils.data import TensorDataset, DataLoader\n",
    "from torch import Tensor, LongTensor\n",
    "from torch.nn import Module\n",
    "import matplotlib.pyplot as plt\n",
    "from torchmetrics import Accuracy\n",
    "from qiskit import QuantumCircuit, Aer, transpile\n",
    "from pytorch_lightning.callbacks import EarlyStopping, ModelCheckpoint, ModelSummary\n",
    "from pytorch_lightning import Trainer\n",
    "from qiskit_machine_learning.neural_networks import CircuitQNN\n",
    "from qiskit_machine_learning.connectors import TorchConnector\n",
    "from qiskit.circuit import ParameterVector\n",
    "from qiskit.utils import QuantumInstance\n",
    "import torch\n",
    "\n",
    "import warnings\n",
    "warnings.filterwarnings(\"ignore\")"
   ]
  },
  {
   "cell_type": "code",
   "execution_count": 4,
   "id": "bb4b304e",
   "metadata": {
    "ExecuteTime": {
     "end_time": "2022-06-07T17:47:54.525847Z",
     "start_time": "2022-06-07T17:47:54.508099Z"
    }
   },
   "outputs": [],
   "source": [
    "# cluster state\n",
    "def cluster_state_circuit(bits):\n",
    "    qc = QuantumCircuit(bits)\n",
    "    bits = list(range(bits))\n",
    "    qc.h(bits)\n",
    "    for this_bit, next_bit in zip(bits, bits[1:]):\n",
    "        qc.cz(this_bit, next_bit)\n",
    "    if(len(bits)!= 2):\n",
    "        qc.cz(bits[0], bits[-1])\n",
    "    return qc"
   ]
  },
  {
   "cell_type": "code",
   "execution_count": 5,
   "id": "46ab5bfc",
   "metadata": {
    "ExecuteTime": {
     "end_time": "2022-06-07T17:47:54.660506Z",
     "start_time": "2022-06-07T17:47:54.649421Z"
    }
   },
   "outputs": [],
   "source": [
    "def one_qubit_unitary(thetas):\n",
    "    qc = QuantumCircuit(1)\n",
    "    qc.rx(thetas[0], 0)\n",
    "    qc.ry(thetas[1], 0)\n",
    "    qc.rz(thetas[2], 0)\n",
    "    return qc\n",
    "\n",
    "def two_qubit_unitary(thetas):\n",
    "    qc = QuantumCircuit(2)\n",
    "    qc = qc.compose(one_qubit_unitary(thetas[0:3]), [0])\n",
    "    qc = qc.compose(one_qubit_unitary(thetas[3:6]), [1])\n",
    "    qc.rzz(thetas[6],0, 1)\n",
    "    qc.ryy(thetas[7],0, 1)\n",
    "    qc.rxx(thetas[8],0, 1)\n",
    "    qc = qc.compose(one_qubit_unitary(thetas[9:12]), [0])\n",
    "    qc = qc.compose(one_qubit_unitary(thetas[12:]), [1])\n",
    "    return qc\n",
    "\n",
    "\n",
    "def two_qubit_pool(thetas):\n",
    "    qc = QuantumCircuit(2)\n",
    "    qc = qc.compose(one_qubit_unitary(thetas[0:3]), [1])\n",
    "    qc = qc.compose(one_qubit_unitary(thetas[3:6]), [0])\n",
    "    qc.cnot(0,1)\n",
    "    qc = qc.compose(one_qubit_unitary(thetas[0:3]).inverse(), [1])\n",
    "    return qc"
   ]
  },
  {
   "cell_type": "code",
   "execution_count": 6,
   "id": "2d45b6fb",
   "metadata": {
    "ExecuteTime": {
     "end_time": "2022-06-07T17:47:54.879211Z",
     "start_time": "2022-06-07T17:47:54.858027Z"
    }
   },
   "outputs": [],
   "source": [
    "def quantum_conv_circuit(bits, thetas):\n",
    "    qc = QuantumCircuit(bits)\n",
    "    bits = list(range(bits))\n",
    "    for first, second in zip(bits[0::2], bits[1::2]):\n",
    "        qc = qc.compose(two_qubit_unitary(thetas), [first,second])\n",
    "    for first, second in zip(bits[1::2], bits[2::2] + [bits[0]]):\n",
    "        qc = qc.compose(two_qubit_unitary(thetas), [first, second])\n",
    "    return qc"
   ]
  },
  {
   "cell_type": "code",
   "execution_count": 7,
   "id": "2aac6d6a",
   "metadata": {
    "ExecuteTime": {
     "end_time": "2022-06-07T17:47:55.045765Z",
     "start_time": "2022-06-07T17:47:55.027788Z"
    }
   },
   "outputs": [],
   "source": [
    "def quantum_pool_circuit(sources, sinks, thetas):\n",
    "    qc = QuantumCircuit(len(sources) + len(sinks))\n",
    "    for source, sink in zip(sources, sinks):\n",
    "        qc = qc.compose(two_qubit_pool(thetas), [source, sink])\n",
    "    return qc"
   ]
  },
  {
   "cell_type": "code",
   "execution_count": 8,
   "id": "6f09b929",
   "metadata": {
    "ExecuteTime": {
     "end_time": "2022-06-07T17:47:55.191243Z",
     "start_time": "2022-06-07T17:47:55.174154Z"
    }
   },
   "outputs": [],
   "source": [
    "# Define and create QNN\n",
    "def create_qcnn(n):\n",
    "    qi = QuantumInstance(Aer.get_backend(\"aer_simulator_statevector\"))\n",
    "    backend = Aer.get_backend('qasm_simulator')\n",
    "    def last_qubit_prob(x):\n",
    "        res = bin(x)[2:].zfill(2)\n",
    "        return int(res[0])\n",
    "\n",
    "    output_shape = 2  # parity = 0, 1\n",
    "\n",
    "    in_thetas = ParameterVector('x', length=n)\n",
    "    feature_map = QuantumCircuit(n, name=\"Angle Encoding\")\n",
    "    for i in range(n):\n",
    "        feature_map.rx(in_thetas[i], i)\n",
    "    feature_map = transpile(feature_map, backend = backend)\n",
    "    thetas = ParameterVector('θ', length=21)\n",
    "    var_form = QuantumCircuit(n, name=\"QCNN\")\n",
    "    var_form = var_form.compose(quantum_conv_circuit(n,thetas[0:15]), range(n))\n",
    "    var_form = var_form.compose(quantum_pool_circuit(range(n//2), range(n//2,n), thetas[15:21]))\n",
    "    ansatz = var_form\n",
    "    ansatz = transpile(ansatz, backend = backend)\n",
    "\n",
    "    qc = QuantumCircuit(n)\n",
    "    qc = qc.compose(transpile(cluster_state_circuit(n), backend = backend), range(n))\n",
    "    qc = qc.compose(feature_map, range(n))\n",
    "    qc = qc.compose(ansatz, range(n))\n",
    "\n",
    "    # REMEMBER TO SET input_gradients=True FOR ENABLING HYBRID GRADIENT BACKPROP\n",
    "    qcnn = CircuitQNN(\n",
    "        qc,\n",
    "        input_params = feature_map.parameters,\n",
    "        weight_params=ansatz.parameters,\n",
    "        input_gradients=True,\n",
    "        interpret=last_qubit_prob,\n",
    "        output_shape=output_shape,\n",
    "        quantum_instance=qi,\n",
    "    )\n",
    "    return qcnn"
   ]
  },
  {
   "cell_type": "code",
   "execution_count": 19,
   "id": "fbbf78cd",
   "metadata": {
    "ExecuteTime": {
     "end_time": "2022-06-07T17:48:39.827056Z",
     "start_time": "2022-06-07T17:48:39.794654Z"
    }
   },
   "outputs": [],
   "source": [
    "class BlobsDataModule(pl.LightningDataModule):\n",
    "    def __init__(self, n_features = 2):\n",
    "        super().__init__()\n",
    "        self.batch_size = 8\n",
    "        self.num_workers = 4\n",
    "        \n",
    "        self._dims = (n_features)\n",
    "        self.output_dims = (1,)\n",
    "        self.mapping = list(range(2))\n",
    "        self.n_features = n_features\n",
    "    def config(self):\n",
    "        \"\"\"Return important settings of the dataset, which will be passed to instantiate models.\"\"\"\n",
    "        return {\"input_dims\": self._dims, \"output_dims\": self.output_dims, \"mapping\": self.mapping}\n",
    "    \n",
    "    def prepare_data(self):\n",
    "        self.x_train, self.y_train = make_blobs(n_samples=100,n_features=self.n_features,centers=2,random_state=42)\n",
    "        self.x_val, self.y_val = make_blobs(n_samples=50,n_features=self.n_features,centers=2,random_state=42)\n",
    "        self.x_test, self.y_test = make_blobs(n_samples=50,n_features=self.n_features,centers=2,random_state=42)\n",
    "    \n",
    "    def setup(self, stage=None):\n",
    "        self.x_train = normalize(self.x_train)\n",
    "        self.x_val = normalize(self.x_val)\n",
    "        self.x_test = normalize(self.x_test)\n",
    "        \n",
    "        self.x_train = Tensor(self.x_train)\n",
    "        self.y_train = Tensor(self.y_train).type(LongTensor)\n",
    "        \n",
    "        self.x_val = Tensor(self.x_val)\n",
    "        self.y_val = Tensor(self.y_val).type(LongTensor)\n",
    "        \n",
    "        self.x_test = Tensor(self.x_test)\n",
    "        self.y_test = Tensor(self.y_test).type(LongTensor)\n",
    "        \n",
    "        self.data_train = TensorDataset(self.x_train, self.y_train)\n",
    "        self.data_val = TensorDataset(self.x_val, self.y_val)\n",
    "        self.data_test = TensorDataset(self.x_test, self.y_test)\n",
    "\n",
    "    def train_dataloader(self):\n",
    "        return DataLoader(\n",
    "            self.data_train,\n",
    "            shuffle=True,\n",
    "            batch_size=self.batch_size,\n",
    "            num_workers=self.num_workers,\n",
    "        )\n",
    "\n",
    "    def val_dataloader(self):\n",
    "        return DataLoader(\n",
    "            self.data_val,\n",
    "            shuffle=False,\n",
    "            batch_size=self.batch_size,\n",
    "            num_workers=self.num_workers,\n",
    "        )\n",
    "\n",
    "    def test_dataloader(self):\n",
    "        return DataLoader(\n",
    "            self.data_test,\n",
    "            shuffle=False,\n",
    "            batch_size=self.batch_size,\n",
    "            num_workers=self.num_workers,\n",
    "        )"
   ]
  },
  {
   "cell_type": "code",
   "execution_count": 20,
   "id": "aafcc3da",
   "metadata": {
    "ExecuteTime": {
     "end_time": "2022-06-07T17:48:40.465375Z",
     "start_time": "2022-06-07T17:48:40.445816Z"
    }
   },
   "outputs": [],
   "source": [
    "data = BlobsDataModule()\n",
    "data.prepare_data()\n",
    "data.setup()"
   ]
  },
  {
   "cell_type": "code",
   "execution_count": 21,
   "id": "35c71177",
   "metadata": {
    "ExecuteTime": {
     "end_time": "2022-06-07T17:48:40.908825Z",
     "start_time": "2022-06-07T17:48:40.646659Z"
    }
   },
   "outputs": [
    {
     "data": {
      "text/plain": [
       "<matplotlib.collections.PathCollection at 0x7fe531048a90>"
      ]
     },
     "execution_count": 21,
     "metadata": {},
     "output_type": "execute_result"
    },
    {
     "data": {
      "image/png": "[encoded data removed]",
      "text/plain": [
       "<Figure size 432x288 with 1 Axes>"
      ]
     },
     "metadata": {
      "needs_background": "light"
     },
     "output_type": "display_data"
    }
   ],
   "source": [
    "x_train = data.data_train.tensors[0]\n",
    "plt.scatter(x_train[:,0], x_train[:,1], s = 50)"
   ]
  },
  {
   "cell_type": "code",
   "execution_count": 22,
   "id": "62943da3",
   "metadata": {
    "ExecuteTime": {
     "end_time": "2022-06-07T17:48:41.163141Z",
     "start_time": "2022-06-07T17:48:40.913962Z"
    }
   },
   "outputs": [
    {
     "data": {
      "text/plain": [
       "<matplotlib.collections.PathCollection at 0x7fe530d5a890>"
      ]
     },
     "execution_count": 22,
     "metadata": {},
     "output_type": "execute_result"
    },
    {
     "data": {
      "image/png": "[encoded data removed]",
      "text/plain": [
       "<Figure size 432x288 with 1 Axes>"
      ]
     },
     "metadata": {
      "needs_background": "light"
     },
     "output_type": "display_data"
    }
   ],
   "source": [
    "x_test = data.data_test.tensors[0]\n",
    "plt.scatter(x_test[:,0], x_test[:,1], s = 50)"
   ]
  },
  {
   "cell_type": "code",
   "execution_count": 23,
   "id": "0f597b3b",
   "metadata": {
    "ExecuteTime": {
     "end_time": "2022-06-07T17:48:41.178260Z",
     "start_time": "2022-06-07T17:48:41.169523Z"
    }
   },
   "outputs": [
    {
     "name": "stdout",
     "output_type": "stream",
     "text": [
      "tensor(0.9956) tensor(-0.4624)\n",
      "tensor(1.0000) tensor(-0.4479)\n"
     ]
    }
   ],
   "source": [
    "print(x_train.max(),x_train.min())\n",
    "print(x_test.max(),x_test.min())"
   ]
  },
  {
   "cell_type": "code",
   "execution_count": 24,
   "id": "55517431",
   "metadata": {
    "ExecuteTime": {
     "end_time": "2022-06-07T17:48:41.250267Z",
     "start_time": "2022-06-07T17:48:41.182175Z"
    }
   },
   "outputs": [],
   "source": [
    "class Accuracy(Accuracy):\n",
    "    def __init__(self):\n",
    "        super().__init__()\n",
    "        self.add_state(\"correct\", default=torch.tensor(0), dist_reduce_fx=\"sum\")\n",
    "        self.add_state(\"total\", default=torch.tensor(0), dist_reduce_fx=\"sum\")\n",
    "\n",
    "    def update(self, preds, target):\n",
    "        preds, target = self._input_format(preds, target)\n",
    "        assert preds.shape == target.shape\n",
    "        \n",
    "        _, self.correct = torch.max(preds, dim=1)\n",
    "\n",
    "    def compute(self):\n",
    "        return torch.tensor(torch.sum(self.correct == target).item() / len(target))"
   ]
  },
  {
   "cell_type": "code",
   "execution_count": 58,
   "id": "0404368a",
   "metadata": {
    "ExecuteTime": {
     "end_time": "2022-06-07T18:08:28.639290Z",
     "start_time": "2022-06-07T18:08:28.603803Z"
    }
   },
   "outputs": [],
   "source": [
    "class BaseModel(pl.LightningModule):\n",
    "    def __init__(self,model):\n",
    "        super().__init__()\n",
    "        self.model = model\n",
    "        optimizer = 'Adam'\n",
    "        self.optimizer_class = getattr(torch.optim, optimizer)\n",
    "        self.lr = 1e-3\n",
    "        self.loss_fn = torch.nn.NLLLoss()\n",
    "        self.one_cycle_total_steps = 100\n",
    "        self.one_cycle_max_lr = None\n",
    "        \n",
    "        self.train_acc = Accuracy()\n",
    "        self.val_acc = Accuracy()\n",
    "        self.test_acc = Accuracy()\n",
    "    \n",
    "    def configure_optimizers(self):\n",
    "        optimizer = self.optimizer_class(self.parameters(), lr=self.lr)\n",
    "        if self.one_cycle_max_lr is None:\n",
    "            return optimizer\n",
    "        scheduler = torch.optim.lr_scheduler.OneCycleLR(\n",
    "            optimizer=optimizer, max_lr=self.one_cycle_max_lr, total_steps=self.one_cycle_total_steps\n",
    "        )\n",
    "        return {\"optimizer\": optimizer, \"lr_scheduler\": scheduler, \"monitor\": \"val_acc\"}\n",
    "    \n",
    "    def forward(self, x):\n",
    "        return self.model(x)\n",
    "    \n",
    "    def training_step(self, batch, batch_idx): \n",
    "        x, y = batch\n",
    "        logits = self(x)\n",
    "        loss = self.loss_fn(logits, y)\n",
    "        self.log(\"train_loss\", loss)\n",
    "        self.train_acc(logits, y)\n",
    "        self.log(\"train_acc\", self.train_acc)\n",
    "        return loss\n",
    "\n",
    "    def validation_step(self, batch, batch_idx): \n",
    "        x, y = batch\n",
    "        logits = self(x)\n",
    "        loss = self.loss_fn(logits, y)\n",
    "        self.log(\"val_loss\", loss, prog_bar=True)\n",
    "        self.val_acc(logits, y)\n",
    "        self.log(\"val_acc\", self.val_acc, on_step=False, on_epoch=True, prog_bar=True)\n",
    "\n",
    "    def test_step(self, batch, batch_idx): \n",
    "        x, y = batch\n",
    "        logits = self(x)\n",
    "        self.test_acc(logits, y)\n",
    "        self.log(\"test_acc\", self.test_acc, on_step=False, on_epoch=True)"
   ]
  },
  {
   "cell_type": "code",
   "execution_count": 59,
   "id": "85bc9c27",
   "metadata": {
    "ExecuteTime": {
     "end_time": "2022-06-07T18:08:29.380520Z",
     "start_time": "2022-06-07T18:08:29.363949Z"
    }
   },
   "outputs": [],
   "source": [
    "class QCNN(Module):\n",
    "    def __init__(self, data_config):\n",
    "        super().__init__()\n",
    "        \n",
    "        input_dims = data_config[\"input_dims\"]\n",
    "        num_classes = len(data_config[\"mapping\"])\n",
    "        \n",
    "        self.qcnn = TorchConnector(create_qcnn(input_dims))\n",
    "        \n",
    "    def forward(self,x):\n",
    "        out = self.qcnn(x)  # apply QCNN\n",
    "        return out"
   ]
  },
  {
   "cell_type": "code",
   "execution_count": 65,
   "id": "6401a75e",
   "metadata": {
    "ExecuteTime": {
     "end_time": "2022-06-07T18:12:34.375987Z",
     "start_time": "2022-06-07T18:12:34.351303Z"
    }
   },
   "outputs": [],
   "source": [
    "class MetricTracker(pl.Callback):\n",
    "    def __init__(self):\n",
    "        self.collection = {\n",
    "            'train_loss': [],\n",
    "            'val_loss': [],\n",
    "            'val_acc': [],\n",
    "            'train_acc': []\n",
    "        }\n",
    "\n",
    "    def on_train_batch_end(self, *args, **kwargs):\n",
    "        metrics = trainer.logged_metrics\n",
    "        self.collection['train_loss'].append(metrics['train_loss'].item())\n",
    "        self.collection['train_acc'].append(metrics['train_acc'].item())\n",
    "    \n",
    "    def on_val_batch_end(self, *args, **kwargs):\n",
    "        self.collection['val_loss'].append(metrics['val_loss'].item())\n",
    "        self.collection['val_acc'].append(metrics['val_acc'].item())"
   ]
  },
  {
   "cell_type": "code",
   "execution_count": 66,
   "id": "a5faa1b4",
   "metadata": {
    "ExecuteTime": {
     "end_time": "2022-06-07T18:12:39.643660Z",
     "start_time": "2022-06-07T18:12:35.503969Z"
    }
   },
   "outputs": [],
   "source": [
    "data = BlobsDataModule()\n",
    "model = QCNN(data.config())\n",
    "lit_model = BaseModel(model)\n",
    "\n",
    "early_stopping_callback = EarlyStopping(monitor=\"val_acc\", \n",
    "                                        mode=\"max\", \n",
    "                                        patience=10, \n",
    "                                        stopping_threshold = 0.90)\n",
    "model_checkpoint_callback = ModelCheckpoint(filename=\"{epoch:03d}-{val_loss:.3f}-{val_acc:.3f}\", \n",
    "                                            monitor=\"val_acc\", \n",
    "                                            mode=\"max\", \n",
    "                                            dirpath='./logs/')\n",
    "model_summary_callback = ModelSummary(max_depth=1)\n",
    "metric_tracker_callback = MetricTracker()\n",
    "\n",
    "callbacks = [early_stopping_callback, model_checkpoint_callback, model_summary_callback, metric_tracker_callback]\n",
    "\n",
    "gpus = -1 if torch.cuda.is_available() else None"
   ]
  },
  {
   "cell_type": "code",
   "execution_count": 67,
   "id": "54daaf2c",
   "metadata": {
    "ExecuteTime": {
     "end_time": "2022-06-07T18:14:30.258117Z",
     "start_time": "2022-06-07T18:12:44.658003Z"
    },
    "scrolled": false
   },
   "outputs": [
    {
     "name": "stderr",
     "output_type": "stream",
     "text": [
      "Trainer already configured with model summary callbacks: [<class 'pytorch_lightning.callbacks.model_summary.ModelSummary'>]. Skipping setting a default `ModelSummary` callback.\n",
      "GPU available: False, used: False\n",
      "TPU available: False, using: 0 TPU cores\n",
      "IPU available: False, using: 0 IPUs\n",
      "HPU available: False, using: 0 HPUs\n",
      "/home/gopald/Documents/QML-Qiskit/qiskit-qcnn/lib/python3.7/site-packages/pytorch_lightning/callbacks/model_checkpoint.py:611: UserWarning: Checkpoint directory /home/gopald/Documents/QML-Qiskit/logs exists and is not empty.\n",
      "  rank_zero_warn(f\"Checkpoint directory {dirpath} exists and is not empty.\")\n",
      "\n",
      "  | Name      | Type     | Params\n",
      "---------------------------------------\n",
      "0 | model     | QCNN     | 21    \n",
      "1 | loss_fn   | NLLLoss  | 0     \n",
      "2 | train_acc | Accuracy | 0     \n",
      "3 | val_acc   | Accuracy | 0     \n",
      "4 | test_acc  | Accuracy | 0     \n",
      "---------------------------------------\n",
      "21        Trainable params\n",
      "0         Non-trainable params\n",
      "21        Total params\n",
      "0.000     Total estimated model params size (MB)\n"
     ]
    },
    {
     "data": {
      "application/vnd.jupyter.widget-view+json": {
       "model_id": "",
       "version_major": 2,
       "version_minor": 0
      },
      "text/plain": [
       "Sanity Checking: 0it [00:00, ?it/s]"
      ]
     },
     "metadata": {},
     "output_type": "display_data"
    },
    {
     "name": "stderr",
     "output_type": "stream",
     "text": [
      "/home/gopald/Documents/QML-Qiskit/qiskit-qcnn/lib/python3.7/site-packages/torchmetrics/utilities/prints.py:36: UserWarning: Torchmetrics v0.9 introduced a new argument class property called `full_state_update` that has\n",
      "                not been set for this class (_ResultMetric). The property determines if `update` by\n",
      "                default needs access to the full metric state. If this is not the case, significant speedups can be\n",
      "                achieved and we recommend setting this to `False`.\n",
      "                We provide an checking function\n",
      "                `from torchmetrics.utilities import check_forward_no_full_state`\n",
      "                that can be used to check if the `full_state_update=True` (old and potential slower behaviour,\n",
      "                default for now) or if `full_state_update=False` can be used safely.\n",
      "                \n",
      "  warnings.warn(*args, **kwargs)\n",
      "/home/gopald/Documents/QML-Qiskit/qiskit-qcnn/lib/python3.7/site-packages/pytorch_lightning/trainer/trainer.py:1937: PossibleUserWarning: The number of training batches (13) is smaller than the logging interval Trainer(log_every_n_steps=50). Set a lower value for log_every_n_steps if you want to see logs for the training epoch.\n",
      "  category=PossibleUserWarning,\n"
     ]
    },
    {
     "data": {
      "application/vnd.jupyter.widget-view+json": {
       "model_id": "f501ed199d18490e91bb84d8f52d883b",
       "version_major": 2,
       "version_minor": 0
      },
      "text/plain": [
       "Training: 0it [00:00, ?it/s]"
      ]
     },
     "metadata": {},
     "output_type": "display_data"
    },
    {
     "data": {
      "application/vnd.jupyter.widget-view+json": {
       "model_id": "",
       "version_major": 2,
       "version_minor": 0
      },
      "text/plain": [
       "Validation: 0it [00:00, ?it/s]"
      ]
     },
     "metadata": {},
     "output_type": "display_data"
    }
   ],
   "source": [
    "trainer = Trainer(gpus = gpus, \n",
    "                callbacks=callbacks, \n",
    "                fast_dev_run=False,\n",
    "                max_epochs=1,\n",
    "                )\n",
    "\n",
    "# trainer.tune(lit_model, datamodule=data)\n",
    "\n",
    "trainer.fit(lit_model, datamodule=data)\n",
    "# trainer.test(lit_model, datamodule=data)"
   ]
  },
  {
   "cell_type": "code",
   "execution_count": 70,
   "id": "80744b8a",
   "metadata": {
    "ExecuteTime": {
     "end_time": "2022-06-07T18:16:15.580683Z",
     "start_time": "2022-06-07T18:16:15.562397Z"
    }
   },
   "outputs": [],
   "source": [
    "train_losses = metric_tracker_callback.collection['train_loss']\n",
    "val_losses = metric_tracker_callback.collection['val_loss']\n",
    "train_accs = metric_tracker_callback.collection['train_acc']\n",
    "val_accs = metric_tracker_callback.collection['val_acc']"
   ]
  },
  {
   "cell_type": "code",
   "execution_count": 77,
   "id": "e8bcfb53",
   "metadata": {
    "ExecuteTime": {
     "end_time": "2022-06-07T18:19:02.942878Z",
     "start_time": "2022-06-07T18:19:02.684816Z"
    }
   },
   "outputs": [
    {
     "data": {
      "text/plain": [
       "<matplotlib.legend.Legend at 0x7fe50c6d2e50>"
      ]
     },
     "execution_count": 77,
     "metadata": {},
     "output_type": "execute_result"
    },
    {
     "data": {
      "image/png": "[encoded data removed]",
      "text/plain": [
       "<Figure size 432x288 with 1 Axes>"
      ]
     },
     "metadata": {
      "needs_background": "light"
     },
     "output_type": "display_data"
    }
   ],
   "source": [
    "plt.plot(train_losses, color='r', label='train loss')\n",
    "plt.plot(train_accs, color='g', label='train accs')\n",
    "plt.legend()\n"
   ]
  },
  {
   "cell_type": "code",
   "execution_count": 78,
   "id": "7988a8fe",
   "metadata": {
    "ExecuteTime": {
     "end_time": "2022-06-07T18:19:03.549741Z",
     "start_time": "2022-06-07T18:19:03.282998Z"
    }
   },
   "outputs": [
    {
     "data": {
      "text/plain": [
       "<matplotlib.legend.Legend at 0x7fe50f84dad0>"
      ]
     },
     "execution_count": 78,
     "metadata": {},
     "output_type": "execute_result"
    },
    {
     "data": {
      "image/png": "[encoded data removed]",
      "text/plain": [
       "<Figure size 432x288 with 1 Axes>"
      ]
     },
     "metadata": {
      "needs_background": "light"
     },
     "output_type": "display_data"
    }
   ],
   "source": [
    "plt.plot(val_losses, color='b', label='=val loss')\n",
    "plt.plot(val_accs, color='y', label='val accs')\n",
    "plt.legend()"
   ]
  },
  {
   "cell_type": "code",
   "execution_count": null,
   "id": "12637b4c",
   "metadata": {},
   "outputs": [],
   "source": []
  }
 ],
 "metadata": {
  "kernelspec": {
   "display_name": "Python (qiskit-qcnn)",
   "language": "python",
   "name": "qiskit-qcnn"
  },
  "language_info": {
   "codemirror_mode": {
    "name": "ipython",
    "version": 3
   },
   "file_extension": ".py",
   "mimetype": "text/x-python",
   "name": "python",
   "nbconvert_exporter": "python",
   "pygments_lexer": "ipython3",
   "version": "3.7.13"
  },
  "latex_envs": {
   "LaTeX_envs_menu_present": true,
   "autoclose": false,
   "autocomplete": true,
   "bibliofile": "biblio.bib",
   "cite_by": "apalike",
   "current_citInitial": 1,
   "eqLabelWithNumbers": true,
   "eqNumInitial": 1,
   "hotkeys": {
    "equation": "Ctrl-E",
    "itemize": "Ctrl-I"
   },
   "labels_anchors": false,
   "latex_user_defs": false,
   "report_style_numbering": false,
   "user_envs_cfg": false
  },
  "toc": {
   "base_numbering": 1,
   "nav_menu": {},
   "number_sections": true,
   "sideBar": true,
   "skip_h1_title": false,
   "title_cell": "Table of Contents",
   "title_sidebar": "Contents",
   "toc_cell": false,
   "toc_position": {},
   "toc_section_display": true,
   "toc_window_display": false
  }
 },
 "nbformat": 4,
 "nbformat_minor": 5
}
