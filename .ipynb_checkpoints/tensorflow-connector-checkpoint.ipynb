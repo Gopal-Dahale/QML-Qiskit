{
 "cells": [
  {
   "cell_type": "code",
   "execution_count": 1,
   "id": "f696af9f",
   "metadata": {
    "ExecuteTime": {
     "end_time": "2022-07-17T09:00:04.524738Z",
     "start_time": "2022-07-17T09:00:03.280583Z"
    }
   },
   "outputs": [],
   "source": [
    "from qiskit.opflow import Z, ListOp,I\n",
    "from qiskit.circuit import ParameterVector\n",
    "from qiskit.utils import QuantumInstance\n",
    "from qiskit.opflow import StateFn\n",
    "from qiskit import QuantumCircuit, Aer\n",
    "from qiskit_machine_learning.neural_networks import OpflowQNN\n",
    "from qiskit.opflow import AerPauliExpectation\n",
    "from qiskit_machine_learning.connectors import TorchConnector\n",
    "import torch"
   ]
  },
  {
   "cell_type": "code",
   "execution_count": 2,
   "id": "84f25b3a",
   "metadata": {
    "ExecuteTime": {
     "end_time": "2022-07-17T09:00:06.852202Z",
     "start_time": "2022-07-17T09:00:04.528521Z"
    }
   },
   "outputs": [
    {
     "name": "stderr",
     "output_type": "stream",
     "text": [
      "2022-07-17 14:30:04.732521: W tensorflow/stream_executor/platform/default/dso_loader.cc:64] Could not load dynamic library 'libcudart.so.11.0'; dlerror: libcudart.so.11.0: cannot open shared object file: No such file or directory\n",
      "2022-07-17 14:30:04.732575: I tensorflow/stream_executor/cuda/cudart_stub.cc:29] Ignore above cudart dlerror if you do not have a GPU set up on your machine.\n"
     ]
    }
   ],
   "source": [
    "from typing import Tuple, Any, Optional, cast, Union\n",
    "import numpy as np\n",
    "\n",
    "import qiskit_machine_learning.optionals as _optionals\n",
    "from qiskit_machine_learning.exceptions import QiskitMachineLearningError\n",
    "from qiskit_machine_learning.neural_networks import NeuralNetwork\n",
    "\n",
    "from tensorflow.keras.layers import Layer\n",
    "from tensorflow import Variable, Tensor, random_uniform_initializer\n",
    "import tensorflow as tf"
   ]
  },
  {
   "cell_type": "code",
   "execution_count": 3,
   "id": "be28f2c2",
   "metadata": {
    "ExecuteTime": {
     "end_time": "2022-07-17T09:00:06.862981Z",
     "start_time": "2022-07-17T09:00:06.856746Z"
    }
   },
   "outputs": [],
   "source": [
    "init_w = [ 0.8398695 ,  0.7691705 ,  0.5015192 ,  0.6829698 , -0.3278048 ,\n",
    "          -0.76280355, -0.29375863,  0.9769585 , -0.17744184]"
   ]
  },
  {
   "cell_type": "code",
   "execution_count": 4,
   "id": "4de14dd4",
   "metadata": {
    "ExecuteTime": {
     "end_time": "2022-07-17T09:00:08.904810Z",
     "start_time": "2022-07-17T09:00:06.869468Z"
    }
   },
   "outputs": [],
   "source": [
    "# cluster state\n",
    "def cluster_state_circuit(bits):\n",
    "    qc = QuantumCircuit(bits)\n",
    "    bits = list(range(bits))\n",
    "    qc.h(bits)\n",
    "    for this_bit, next_bit in zip(bits, bits[1:]):\n",
    "        qc.cz(this_bit, next_bit)\n",
    "    if(len(bits)!= 2):\n",
    "        qc.cz(bits[0], bits[-1])\n",
    "    return qc\n",
    "\n",
    "def one_qubit_unitary(thetas):\n",
    "    qc = QuantumCircuit(1)\n",
    "    qc.rx(thetas[0], 0)\n",
    "    qc.ry(thetas[1], 0)\n",
    "    qc.rz(thetas[2], 0)\n",
    "    return qc\n",
    "\n",
    "def quantum_conv_circuit(bits, thetas):\n",
    "    assert 3*bits == len(thetas)\n",
    "    qc = QuantumCircuit(bits)\n",
    "    bits = list(range(bits))\n",
    "    for this_bit, next_bit in zip(bits, bits[1:]):\n",
    "        qc.cnot(this_bit, next_bit)\n",
    "    if(len(bits)!= 2):\n",
    "        qc.cnot(bits[-1], bits[0])\n",
    "    for i in bits:\n",
    "        qc = qc.compose(one_qubit_unitary(thetas[3*i: 3*i + 3]),[i])\n",
    "    return qc\n",
    "\n",
    "# Define and create QNN\n",
    "def create_qcnn(n, n_layers, observables):\n",
    "    \n",
    "    qi = QuantumInstance(Aer.get_backend(\"aer_simulator_statevector\"))\n",
    "    in_thetas = ParameterVector('x', length=n)\n",
    "    \n",
    "    cluster_map = cluster_state_circuit(n)\n",
    "    feature_map = QuantumCircuit(n, name=\"Angle Encoding\")\n",
    "    \n",
    "    for i in range(n):\n",
    "        feature_map.rx(np.arctan(in_thetas[i]), i)\n",
    "    \n",
    "    ansatz = QuantumCircuit(n, name=\"Ansatz\")\n",
    "    \n",
    "    # Alternating conv and pool layers\n",
    "    i = 1\n",
    "    thetas = ParameterVector('θ', length=3*n*n_layers)\n",
    "    for i in range(n_layers):\n",
    "        ansatz.compose(quantum_conv_circuit(n,thetas[3*n*i: 3*n*i + 3*n]) ,inplace=True)\n",
    "        \n",
    "    qc = QuantumCircuit(n)\n",
    "    qc.compose(cluster_map, range(n),inplace=True)\n",
    "    qc.compose(feature_map, range(n),inplace=True)\n",
    "    qc.compose(ansatz, range(n),inplace=True)\n",
    "    \n",
    "    operator = ~StateFn(observables) @ StateFn(qc)\n",
    "    \n",
    "    # REMEMBER TO SET input_gradients=True FOR ENABLING HYBRID GRADIENT BACKPROP\n",
    "    qcnn_operator = OpflowQNN( operator,\n",
    "                      input_params= in_thetas,\n",
    "                      weight_params= thetas,\n",
    "                      input_gradients=True,\n",
    "                      exp_val = AerPauliExpectation(),\n",
    "                      quantum_instance=qi)\n",
    "    return qcnn_operator, qc\n",
    "\n",
    "observables = ListOp([I^I^Z])\n",
    "operator, circuit = create_qcnn(3,1,observables)\n",
    "a = TorchConnector(operator, init_w)"
   ]
  },
  {
   "cell_type": "code",
   "execution_count": 131,
   "id": "7ffc6f6f",
   "metadata": {
    "ExecuteTime": {
     "end_time": "2022-07-17T09:56:39.091088Z",
     "start_time": "2022-07-17T09:56:39.066059Z"
    }
   },
   "outputs": [],
   "source": [
    "class TensorflowConnector(Layer):\n",
    "    \n",
    "    class _TfGradient:\n",
    "\n",
    "        def __init__(self, neural_network):\n",
    "            self.neural_network = neural_network\n",
    "            self.custom_op = tf.custom_gradient(lambda x,y:TensorflowConnector._TfGradient._custom_op(self,x,y))\n",
    "\n",
    "        @staticmethod\n",
    "        def _custom_op(self,input_data,weights):\n",
    "            \n",
    "            if input_data.shape[-1] != self.neural_network.num_inputs:\n",
    "                raise QiskitMachineLearningError(\n",
    "                    f\"Invalid input dimension! Received {input_data.shape} and \"\n",
    "                    + f\"expected input compatible to {self.neural_network.num_inputs}\"\n",
    "                )\n",
    "                \n",
    "            result = tf.numpy_function(self.neural_network.forward, [input_data, weights],tf.float32)\n",
    "            result = result.to(input_data.device)\n",
    "           \n",
    "            def grad_fn(upstream):\n",
    "                \n",
    "                if input_data.shape[-1] != self.neural_network.num_inputs:\n",
    "                    raise QiskitMachineLearningError(\n",
    "                        f\"Invalid input dimension! Received {input_data.shape} and \"\n",
    "                        + f\" expected input compatible to {self.neural_network.num_inputs}\"\n",
    "                    )\n",
    "                \n",
    "                # ensure same shape for single observations and batch mode\n",
    "                if len(upstream.shape) == 1:\n",
    "                    upstream = upstream.view(1, -1)\n",
    "                \n",
    "                # evaluate QNN gradient\n",
    "                input_grad, weights_grad = self.neural_network.backward(\n",
    "                    input_data.numpy(), weights.numpy()\n",
    "                )\n",
    "                \n",
    "                if input_grad is not None:\n",
    "                    input_grad = Tensor(input_grad).to(upstream.dtype)\n",
    "                    input_grad = tf.einsum(\"ij,ijk->ik\", upstream, input_grad)\n",
    "\n",
    "                    # place the resulting tensor to the device where they were stored\n",
    "                    input_grad = input_grad.to(input_data.device)\n",
    "\n",
    "                if weights_grad is not None:\n",
    "                    weights_grad = Tensor(weights_grad).to(upstream.dtype)\n",
    "                    weights_grad = tf.einsum(\"ij,ijk->k\", upstream, weights_grad)\n",
    "\n",
    "                    # place the resulting tensor to the device where they were stored\n",
    "                    weights_grad = weights_grad.to(weights.device)\n",
    "\n",
    "                # return gradients for the first two arguments and None for the others (i.e. qnn/sparse)\n",
    "                return input_grad, weights_grad\n",
    "\n",
    "            return result, grad_fn\n",
    "\n",
    "    def __init__(\n",
    "        self,\n",
    "        neural_network: NeuralNetwork,\n",
    "        initial_weights: Optional[Union[np.ndarray, Tensor]] = None,\n",
    "    ):\n",
    "        super().__init__()\n",
    "        self._neural_network = neural_network\n",
    "        \n",
    "        if initial_weights is None:\n",
    "            var_init = random_uniform_initializer(minval=-1, maxval=1)\n",
    "            self._weights = Variable(initial_value=var_init(shape=(neural_network.num_weights,), \n",
    "                                                            dtype=\"float32\"),trainable=True)\n",
    "        else:\n",
    "            self._weights = Variable(initial_value=tf.constant(initial_weights, dtype=\"float32\"),trainable=True)\n",
    "    \n",
    "    @property\n",
    "    def neural_network(self) -> NeuralNetwork:\n",
    "        \"\"\"Returns the underlying neural network.\"\"\"\n",
    "        return self._neural_network\n",
    "\n",
    "    @property\n",
    "    def weight(self) -> Tensor:\n",
    "        \"\"\"Returns the weights of the underlying network.\"\"\"\n",
    "        return self._weights\n",
    "    \n",
    "    def call(self, input_tensor: Optional[Tensor] = None) -> Tensor:\n",
    "        \"\"\"Forward pass.\n",
    "        Args:\n",
    "            input_data: data to be evaluated.\n",
    "        Returns:\n",
    "            Result of forward pass of this model.\n",
    "        \"\"\"\n",
    "        input_ = input_tensor if input_tensor is not None else Tensor([])\n",
    "        return tf.keras.layers.Reshape((-1,))(TensorflowConnector._TfGradient(self._neural_network).custom_op(input_,self._weights))\n",
    "    \n",
    "b = TensorflowConnector(operator)"
   ]
  },
  {
   "cell_type": "code",
   "execution_count": 132,
   "id": "d0e2e561",
   "metadata": {
    "ExecuteTime": {
     "end_time": "2022-07-17T09:56:39.383694Z",
     "start_time": "2022-07-17T09:56:39.298681Z"
    }
   },
   "outputs": [
    {
     "data": {
      "text/plain": [
       "tensor([[-0.0277],\n",
       "        [-0.0371]], grad_fn=<_TorchNNFunctionBackward>)"
      ]
     },
     "execution_count": 132,
     "metadata": {},
     "output_type": "execute_result"
    }
   ],
   "source": [
    "x = tf.constant([[1.,1.,1.],[1.,3.,1.]])\n",
    "a.forward(torch.Tensor(x.numpy()))"
   ]
  },
  {
   "cell_type": "code",
   "execution_count": 133,
   "id": "955b43bd",
   "metadata": {
    "ExecuteTime": {
     "end_time": "2022-07-17T09:56:40.715379Z",
     "start_time": "2022-07-17T09:56:40.527384Z"
    }
   },
   "outputs": [
    {
     "ename": "AttributeError",
     "evalue": "'tensorflow.python.framework.ops.EagerTensor' object has no attribute 'to'",
     "output_type": "error",
     "traceback": [
      "\u001b[0;31m---------------------------------------------------------------------------\u001b[0m",
      "\u001b[0;31mAttributeError\u001b[0m                            Traceback (most recent call last)",
      "\u001b[0;32m/tmp/ipykernel_13162/1796643868.py\u001b[0m in \u001b[0;36m<module>\u001b[0;34m\u001b[0m\n\u001b[1;32m      1\u001b[0m \u001b[0mb\u001b[0m \u001b[0;34m=\u001b[0m \u001b[0mTensorflowConnector\u001b[0m\u001b[0;34m(\u001b[0m\u001b[0moperator\u001b[0m\u001b[0;34m,\u001b[0m \u001b[0minit_w\u001b[0m\u001b[0;34m)\u001b[0m\u001b[0;34m\u001b[0m\u001b[0;34m\u001b[0m\u001b[0m\n\u001b[0;32m----> 2\u001b[0;31m \u001b[0mb\u001b[0m\u001b[0;34m.\u001b[0m\u001b[0mcall\u001b[0m\u001b[0;34m(\u001b[0m\u001b[0mx\u001b[0m\u001b[0;34m)\u001b[0m\u001b[0;34m\u001b[0m\u001b[0;34m\u001b[0m\u001b[0m\n\u001b[0m",
      "\u001b[0;32m/tmp/ipykernel_13162/1572378161.py\u001b[0m in \u001b[0;36mcall\u001b[0;34m(self, input_tensor)\u001b[0m\n\u001b[1;32m     88\u001b[0m         \"\"\"\n\u001b[1;32m     89\u001b[0m         \u001b[0minput_\u001b[0m \u001b[0;34m=\u001b[0m \u001b[0minput_tensor\u001b[0m \u001b[0;32mif\u001b[0m \u001b[0minput_tensor\u001b[0m \u001b[0;32mis\u001b[0m \u001b[0;32mnot\u001b[0m \u001b[0;32mNone\u001b[0m \u001b[0;32melse\u001b[0m \u001b[0mTensor\u001b[0m\u001b[0;34m(\u001b[0m\u001b[0;34m[\u001b[0m\u001b[0;34m]\u001b[0m\u001b[0;34m)\u001b[0m\u001b[0;34m\u001b[0m\u001b[0;34m\u001b[0m\u001b[0m\n\u001b[0;32m---> 90\u001b[0;31m         \u001b[0;32mreturn\u001b[0m \u001b[0mtf\u001b[0m\u001b[0;34m.\u001b[0m\u001b[0mkeras\u001b[0m\u001b[0;34m.\u001b[0m\u001b[0mlayers\u001b[0m\u001b[0;34m.\u001b[0m\u001b[0mReshape\u001b[0m\u001b[0;34m(\u001b[0m\u001b[0;34m(\u001b[0m\u001b[0;34m-\u001b[0m\u001b[0;36m1\u001b[0m\u001b[0;34m,\u001b[0m\u001b[0;34m)\u001b[0m\u001b[0;34m)\u001b[0m\u001b[0;34m(\u001b[0m\u001b[0mTensorflowConnector\u001b[0m\u001b[0;34m.\u001b[0m\u001b[0m_TfGradient\u001b[0m\u001b[0;34m(\u001b[0m\u001b[0mself\u001b[0m\u001b[0;34m.\u001b[0m\u001b[0m_neural_network\u001b[0m\u001b[0;34m)\u001b[0m\u001b[0;34m.\u001b[0m\u001b[0mcustom_op\u001b[0m\u001b[0;34m(\u001b[0m\u001b[0minput_\u001b[0m\u001b[0;34m,\u001b[0m\u001b[0mself\u001b[0m\u001b[0;34m.\u001b[0m\u001b[0m_weights\u001b[0m\u001b[0;34m)\u001b[0m\u001b[0;34m)\u001b[0m\u001b[0;34m\u001b[0m\u001b[0;34m\u001b[0m\u001b[0m\n\u001b[0m\u001b[1;32m     91\u001b[0m \u001b[0;34m\u001b[0m\u001b[0m\n\u001b[1;32m     92\u001b[0m \u001b[0mb\u001b[0m \u001b[0;34m=\u001b[0m \u001b[0mTensorflowConnector\u001b[0m\u001b[0;34m(\u001b[0m\u001b[0moperator\u001b[0m\u001b[0;34m)\u001b[0m\u001b[0;34m\u001b[0m\u001b[0;34m\u001b[0m\u001b[0m\n",
      "\u001b[0;32m~/Documents/QML-Qiskit/qiskit-qcnn/lib/python3.7/site-packages/tensorflow/python/ops/custom_gradient.py\u001b[0m in \u001b[0;36m__call__\u001b[0;34m(self, *a, **k)\u001b[0m\n\u001b[1;32m    340\u001b[0m \u001b[0;34m\u001b[0m\u001b[0m\n\u001b[1;32m    341\u001b[0m   \u001b[0;32mdef\u001b[0m \u001b[0m__call__\u001b[0m\u001b[0;34m(\u001b[0m\u001b[0mself\u001b[0m\u001b[0;34m,\u001b[0m \u001b[0;34m*\u001b[0m\u001b[0ma\u001b[0m\u001b[0;34m,\u001b[0m \u001b[0;34m**\u001b[0m\u001b[0mk\u001b[0m\u001b[0;34m)\u001b[0m\u001b[0;34m:\u001b[0m\u001b[0;34m\u001b[0m\u001b[0;34m\u001b[0m\u001b[0m\n\u001b[0;32m--> 342\u001b[0;31m     \u001b[0;32mreturn\u001b[0m \u001b[0mself\u001b[0m\u001b[0;34m.\u001b[0m\u001b[0m_d\u001b[0m\u001b[0;34m(\u001b[0m\u001b[0mself\u001b[0m\u001b[0;34m.\u001b[0m\u001b[0m_f\u001b[0m\u001b[0;34m,\u001b[0m \u001b[0ma\u001b[0m\u001b[0;34m,\u001b[0m \u001b[0mk\u001b[0m\u001b[0;34m)\u001b[0m\u001b[0;34m\u001b[0m\u001b[0;34m\u001b[0m\u001b[0m\n\u001b[0m\u001b[1;32m    343\u001b[0m \u001b[0;34m\u001b[0m\u001b[0m\n\u001b[1;32m    344\u001b[0m \u001b[0;34m\u001b[0m\u001b[0m\n",
      "\u001b[0;32m~/Documents/QML-Qiskit/qiskit-qcnn/lib/python3.7/site-packages/tensorflow/python/ops/custom_gradient.py\u001b[0m in \u001b[0;36mdecorated\u001b[0;34m(wrapped, args, kwargs)\u001b[0m\n\u001b[1;32m    294\u001b[0m     \u001b[0;34m\"\"\"Decorated function with custom gradient.\"\"\"\u001b[0m\u001b[0;34m\u001b[0m\u001b[0;34m\u001b[0m\u001b[0m\n\u001b[1;32m    295\u001b[0m     \u001b[0;32mif\u001b[0m \u001b[0mcontext\u001b[0m\u001b[0;34m.\u001b[0m\u001b[0mexecuting_eagerly\u001b[0m\u001b[0;34m(\u001b[0m\u001b[0;34m)\u001b[0m\u001b[0;34m:\u001b[0m\u001b[0;34m\u001b[0m\u001b[0;34m\u001b[0m\u001b[0m\n\u001b[0;32m--> 296\u001b[0;31m       \u001b[0;32mreturn\u001b[0m \u001b[0m_eager_mode_decorator\u001b[0m\u001b[0;34m(\u001b[0m\u001b[0mwrapped\u001b[0m\u001b[0;34m,\u001b[0m \u001b[0margs\u001b[0m\u001b[0;34m,\u001b[0m \u001b[0mkwargs\u001b[0m\u001b[0;34m)\u001b[0m\u001b[0;34m\u001b[0m\u001b[0;34m\u001b[0m\u001b[0m\n\u001b[0m\u001b[1;32m    297\u001b[0m     \u001b[0;32melse\u001b[0m\u001b[0;34m:\u001b[0m\u001b[0;34m\u001b[0m\u001b[0;34m\u001b[0m\u001b[0m\n\u001b[1;32m    298\u001b[0m       \u001b[0;32mreturn\u001b[0m \u001b[0m_graph_mode_decorator\u001b[0m\u001b[0;34m(\u001b[0m\u001b[0mwrapped\u001b[0m\u001b[0;34m,\u001b[0m \u001b[0margs\u001b[0m\u001b[0;34m,\u001b[0m \u001b[0mkwargs\u001b[0m\u001b[0;34m)\u001b[0m\u001b[0;34m\u001b[0m\u001b[0;34m\u001b[0m\u001b[0m\n",
      "\u001b[0;32m~/Documents/QML-Qiskit/qiskit-qcnn/lib/python3.7/site-packages/tensorflow/python/ops/custom_gradient.py\u001b[0m in \u001b[0;36m_eager_mode_decorator\u001b[0;34m(f, args, kwargs)\u001b[0m\n\u001b[1;32m    531\u001b[0m   \u001b[0;34m\"\"\"Implement custom gradient decorator for eager mode.\"\"\"\u001b[0m\u001b[0;34m\u001b[0m\u001b[0;34m\u001b[0m\u001b[0m\n\u001b[1;32m    532\u001b[0m   \u001b[0;32mwith\u001b[0m \u001b[0mtape_lib\u001b[0m\u001b[0;34m.\u001b[0m\u001b[0mVariableWatcher\u001b[0m\u001b[0;34m(\u001b[0m\u001b[0;34m)\u001b[0m \u001b[0;32mas\u001b[0m \u001b[0mvariable_watcher\u001b[0m\u001b[0;34m:\u001b[0m\u001b[0;34m\u001b[0m\u001b[0;34m\u001b[0m\u001b[0m\n\u001b[0;32m--> 533\u001b[0;31m     \u001b[0mresult\u001b[0m\u001b[0;34m,\u001b[0m \u001b[0mgrad_fn\u001b[0m \u001b[0;34m=\u001b[0m \u001b[0mf\u001b[0m\u001b[0;34m(\u001b[0m\u001b[0;34m*\u001b[0m\u001b[0margs\u001b[0m\u001b[0;34m,\u001b[0m \u001b[0;34m**\u001b[0m\u001b[0mkwargs\u001b[0m\u001b[0;34m)\u001b[0m\u001b[0;34m\u001b[0m\u001b[0;34m\u001b[0m\u001b[0m\n\u001b[0m\u001b[1;32m    534\u001b[0m   \u001b[0margs\u001b[0m \u001b[0;34m=\u001b[0m \u001b[0mnest\u001b[0m\u001b[0;34m.\u001b[0m\u001b[0mflatten\u001b[0m\u001b[0;34m(\u001b[0m\u001b[0margs\u001b[0m\u001b[0;34m)\u001b[0m\u001b[0;34m\u001b[0m\u001b[0;34m\u001b[0m\u001b[0m\n\u001b[1;32m    535\u001b[0m   \u001b[0mall_inputs\u001b[0m \u001b[0;34m=\u001b[0m \u001b[0mlist\u001b[0m\u001b[0;34m(\u001b[0m\u001b[0margs\u001b[0m\u001b[0;34m)\u001b[0m \u001b[0;34m+\u001b[0m \u001b[0mlist\u001b[0m\u001b[0;34m(\u001b[0m\u001b[0mkwargs\u001b[0m\u001b[0;34m.\u001b[0m\u001b[0mvalues\u001b[0m\u001b[0;34m(\u001b[0m\u001b[0;34m)\u001b[0m\u001b[0;34m)\u001b[0m\u001b[0;34m\u001b[0m\u001b[0;34m\u001b[0m\u001b[0m\n",
      "\u001b[0;32m/tmp/ipykernel_13162/1572378161.py\u001b[0m in \u001b[0;36m<lambda>\u001b[0;34m(x, y)\u001b[0m\n\u001b[1;32m      5\u001b[0m         \u001b[0;32mdef\u001b[0m \u001b[0m__init__\u001b[0m\u001b[0;34m(\u001b[0m\u001b[0mself\u001b[0m\u001b[0;34m,\u001b[0m \u001b[0mneural_network\u001b[0m\u001b[0;34m)\u001b[0m\u001b[0;34m:\u001b[0m\u001b[0;34m\u001b[0m\u001b[0;34m\u001b[0m\u001b[0m\n\u001b[1;32m      6\u001b[0m             \u001b[0mself\u001b[0m\u001b[0;34m.\u001b[0m\u001b[0mneural_network\u001b[0m \u001b[0;34m=\u001b[0m \u001b[0mneural_network\u001b[0m\u001b[0;34m\u001b[0m\u001b[0;34m\u001b[0m\u001b[0m\n\u001b[0;32m----> 7\u001b[0;31m             \u001b[0mself\u001b[0m\u001b[0;34m.\u001b[0m\u001b[0mcustom_op\u001b[0m \u001b[0;34m=\u001b[0m \u001b[0mtf\u001b[0m\u001b[0;34m.\u001b[0m\u001b[0mcustom_gradient\u001b[0m\u001b[0;34m(\u001b[0m\u001b[0;32mlambda\u001b[0m \u001b[0mx\u001b[0m\u001b[0;34m,\u001b[0m\u001b[0my\u001b[0m\u001b[0;34m:\u001b[0m\u001b[0mTensorflowConnector\u001b[0m\u001b[0;34m.\u001b[0m\u001b[0m_TfGradient\u001b[0m\u001b[0;34m.\u001b[0m\u001b[0m_custom_op\u001b[0m\u001b[0;34m(\u001b[0m\u001b[0mself\u001b[0m\u001b[0;34m,\u001b[0m\u001b[0mx\u001b[0m\u001b[0;34m,\u001b[0m\u001b[0my\u001b[0m\u001b[0;34m)\u001b[0m\u001b[0;34m)\u001b[0m\u001b[0;34m\u001b[0m\u001b[0;34m\u001b[0m\u001b[0m\n\u001b[0m\u001b[1;32m      8\u001b[0m \u001b[0;34m\u001b[0m\u001b[0m\n\u001b[1;32m      9\u001b[0m         \u001b[0;34m@\u001b[0m\u001b[0mstaticmethod\u001b[0m\u001b[0;34m\u001b[0m\u001b[0;34m\u001b[0m\u001b[0m\n",
      "\u001b[0;32m/tmp/ipykernel_13162/1572378161.py\u001b[0m in \u001b[0;36m_custom_op\u001b[0;34m(self, input_data, weights)\u001b[0m\n\u001b[1;32m     17\u001b[0m \u001b[0;34m\u001b[0m\u001b[0m\n\u001b[1;32m     18\u001b[0m             \u001b[0mresult\u001b[0m \u001b[0;34m=\u001b[0m \u001b[0mtf\u001b[0m\u001b[0;34m.\u001b[0m\u001b[0mnumpy_function\u001b[0m\u001b[0;34m(\u001b[0m\u001b[0mself\u001b[0m\u001b[0;34m.\u001b[0m\u001b[0mneural_network\u001b[0m\u001b[0;34m.\u001b[0m\u001b[0mforward\u001b[0m\u001b[0;34m,\u001b[0m \u001b[0;34m[\u001b[0m\u001b[0minput_data\u001b[0m\u001b[0;34m,\u001b[0m \u001b[0mweights\u001b[0m\u001b[0;34m]\u001b[0m\u001b[0;34m,\u001b[0m\u001b[0mtf\u001b[0m\u001b[0;34m.\u001b[0m\u001b[0mfloat32\u001b[0m\u001b[0;34m)\u001b[0m\u001b[0;34m\u001b[0m\u001b[0;34m\u001b[0m\u001b[0m\n\u001b[0;32m---> 19\u001b[0;31m             \u001b[0mresult\u001b[0m \u001b[0;34m=\u001b[0m \u001b[0mresult\u001b[0m\u001b[0;34m.\u001b[0m\u001b[0mto\u001b[0m\u001b[0;34m(\u001b[0m\u001b[0minput_data\u001b[0m\u001b[0;34m.\u001b[0m\u001b[0mdevice\u001b[0m\u001b[0;34m)\u001b[0m\u001b[0;34m\u001b[0m\u001b[0;34m\u001b[0m\u001b[0m\n\u001b[0m\u001b[1;32m     20\u001b[0m \u001b[0;34m\u001b[0m\u001b[0m\n\u001b[1;32m     21\u001b[0m             \u001b[0;32mdef\u001b[0m \u001b[0mgrad_fn\u001b[0m\u001b[0;34m(\u001b[0m\u001b[0mupstream\u001b[0m\u001b[0;34m)\u001b[0m\u001b[0;34m:\u001b[0m\u001b[0;34m\u001b[0m\u001b[0;34m\u001b[0m\u001b[0m\n",
      "\u001b[0;32m~/Documents/QML-Qiskit/qiskit-qcnn/lib/python3.7/site-packages/tensorflow/python/framework/ops.py\u001b[0m in \u001b[0;36m__getattr__\u001b[0;34m(self, name)\u001b[0m\n\u001b[1;32m    440\u001b[0m         \u001b[0;32mfrom\u001b[0m \u001b[0mtensorflow\u001b[0m\u001b[0;34m.\u001b[0m\u001b[0mpython\u001b[0m\u001b[0;34m.\u001b[0m\u001b[0mops\u001b[0m\u001b[0;34m.\u001b[0m\u001b[0mnumpy_ops\u001b[0m \u001b[0;32mimport\u001b[0m \u001b[0mnp_config\u001b[0m\u001b[0;34m\u001b[0m\u001b[0;34m\u001b[0m\u001b[0m\n\u001b[1;32m    441\u001b[0m         np_config.enable_numpy_behavior()\"\"\".format(type(self).__name__, name))\n\u001b[0;32m--> 442\u001b[0;31m     \u001b[0mself\u001b[0m\u001b[0;34m.\u001b[0m\u001b[0m__getattribute__\u001b[0m\u001b[0;34m(\u001b[0m\u001b[0mname\u001b[0m\u001b[0;34m)\u001b[0m\u001b[0;34m\u001b[0m\u001b[0;34m\u001b[0m\u001b[0m\n\u001b[0m\u001b[1;32m    443\u001b[0m \u001b[0;34m\u001b[0m\u001b[0m\n\u001b[1;32m    444\u001b[0m   \u001b[0;34m@\u001b[0m\u001b[0mstaticmethod\u001b[0m\u001b[0;34m\u001b[0m\u001b[0;34m\u001b[0m\u001b[0m\n",
      "\u001b[0;31mAttributeError\u001b[0m: 'tensorflow.python.framework.ops.EagerTensor' object has no attribute 'to'"
     ]
    }
   ],
   "source": [
    "b = TensorflowConnector(operator, init_w)\n",
    "b.call(x)"
   ]
  },
  {
   "cell_type": "code",
   "execution_count": 129,
   "id": "3f44197f",
   "metadata": {
    "ExecuteTime": {
     "end_time": "2022-07-17T09:55:39.088028Z",
     "start_time": "2022-07-17T09:55:39.078973Z"
    }
   },
   "outputs": [],
   "source": [
    "x = tf.random.uniform(shape=(20,8,8))\n",
    "y = tf.random.uniform(shape=(20,1)) >= 0.5"
   ]
  },
  {
   "cell_type": "code",
   "execution_count": 130,
   "id": "f958f3a8",
   "metadata": {
    "ExecuteTime": {
     "end_time": "2022-07-17T09:55:39.505707Z",
     "start_time": "2022-07-17T09:55:39.339638Z"
    }
   },
   "outputs": [
    {
     "name": "stdout",
     "output_type": "stream",
     "text": [
      "Tensor(\"Placeholder:0\", shape=(None, 3), dtype=float32)\n",
      "Tensor(\"tensorflow_connector_69/ReadVariableOp:0\", shape=(9,), dtype=float32)\n",
      "<class 'tensorflow.python.framework.ops.Tensor'>\n"
     ]
    },
    {
     "ename": "ValueError",
     "evalue": "Exception encountered when calling layer \"tensorflow_connector_69\" (type TensorflowConnector).\n\nin user code:\n\n    File \"/tmp/ipykernel_13162/57240596.py\", line 93, in call  *\n        return tf.keras.layers.Reshape((-1,))(TensorflowConnector._TfGradient(self._neural_network).custom_op(input_,self._weights))\n    File \"/tmp/ipykernel_13162/779578440.py\", line 7, in <lambda>\n        self.custom_op = tf.custom_gradient(lambda x,y:TensorflowConnector._TfGradient._custom_op(self,x,y))\n    File \"/tmp/ipykernel_13162/779578440.py\", line 22, in _custom_op\n        print(tf.cast(tf.keras.layers.Reshape((-1,))(result),dtype=tf.float64))\n    File \"/home/gopald/Documents/QML-Qiskit/qiskit-qcnn/lib/python3.7/site-packages/keras/utils/traceback_utils.py\", line 67, in error_handler\n        raise e.with_traceback(filtered_tb) from None\n\n    ValueError: Exception encountered when calling layer \"reshape_1\" (type Reshape).\n    \n    as_list() is not defined on an unknown TensorShape.\n    \n    Call arguments received:\n      • inputs=tf.Tensor(shape=<unknown>, dtype=float32)\n\n\nCall arguments received:\n  • input_tensor=tf.Tensor(shape=(None, 3), dtype=float32)",
     "output_type": "error",
     "traceback": [
      "\u001b[0;31m---------------------------------------------------------------------------\u001b[0m",
      "\u001b[0;31mValueError\u001b[0m                                Traceback (most recent call last)",
      "\u001b[0;32m/tmp/ipykernel_13162/750799579.py\u001b[0m in \u001b[0;36m<module>\u001b[0;34m\u001b[0m\n\u001b[1;32m      3\u001b[0m     \u001b[0mtf\u001b[0m\u001b[0;34m.\u001b[0m\u001b[0mkeras\u001b[0m\u001b[0;34m.\u001b[0m\u001b[0mlayers\u001b[0m\u001b[0;34m.\u001b[0m\u001b[0mDense\u001b[0m\u001b[0;34m(\u001b[0m\u001b[0;36m3\u001b[0m\u001b[0;34m,\u001b[0m \u001b[0mactivation\u001b[0m\u001b[0;34m=\u001b[0m\u001b[0;34m'relu'\u001b[0m\u001b[0;34m)\u001b[0m\u001b[0;34m,\u001b[0m\u001b[0;34m\u001b[0m\u001b[0;34m\u001b[0m\u001b[0m\n\u001b[1;32m      4\u001b[0m     \u001b[0mTensorflowConnector\u001b[0m\u001b[0;34m(\u001b[0m\u001b[0moperator\u001b[0m\u001b[0;34m)\u001b[0m\u001b[0;34m,\u001b[0m\u001b[0;34m\u001b[0m\u001b[0;34m\u001b[0m\u001b[0m\n\u001b[0;32m----> 5\u001b[0;31m     \u001b[0mtf\u001b[0m\u001b[0;34m.\u001b[0m\u001b[0mkeras\u001b[0m\u001b[0;34m.\u001b[0m\u001b[0mlayers\u001b[0m\u001b[0;34m.\u001b[0m\u001b[0mDense\u001b[0m\u001b[0;34m(\u001b[0m\u001b[0minput_shape\u001b[0m \u001b[0;34m=\u001b[0m \u001b[0;34m(\u001b[0m\u001b[0;36m1\u001b[0m\u001b[0;34m,\u001b[0m\u001b[0;34m)\u001b[0m\u001b[0;34m,\u001b[0m \u001b[0munits\u001b[0m\u001b[0;34m=\u001b[0m\u001b[0;36m2\u001b[0m\u001b[0;34m)\u001b[0m\u001b[0;34m\u001b[0m\u001b[0;34m\u001b[0m\u001b[0m\n\u001b[0m\u001b[1;32m      6\u001b[0m ])\n",
      "\u001b[0;32m~/Documents/QML-Qiskit/qiskit-qcnn/lib/python3.7/site-packages/tensorflow/python/training/tracking/base.py\u001b[0m in \u001b[0;36m_method_wrapper\u001b[0;34m(self, *args, **kwargs)\u001b[0m\n\u001b[1;32m    528\u001b[0m     \u001b[0mself\u001b[0m\u001b[0;34m.\u001b[0m\u001b[0m_self_setattr_tracking\u001b[0m \u001b[0;34m=\u001b[0m \u001b[0;32mFalse\u001b[0m  \u001b[0;31m# pylint: disable=protected-access\u001b[0m\u001b[0;34m\u001b[0m\u001b[0;34m\u001b[0m\u001b[0m\n\u001b[1;32m    529\u001b[0m     \u001b[0;32mtry\u001b[0m\u001b[0;34m:\u001b[0m\u001b[0;34m\u001b[0m\u001b[0;34m\u001b[0m\u001b[0m\n\u001b[0;32m--> 530\u001b[0;31m       \u001b[0mresult\u001b[0m \u001b[0;34m=\u001b[0m \u001b[0mmethod\u001b[0m\u001b[0;34m(\u001b[0m\u001b[0mself\u001b[0m\u001b[0;34m,\u001b[0m \u001b[0;34m*\u001b[0m\u001b[0margs\u001b[0m\u001b[0;34m,\u001b[0m \u001b[0;34m**\u001b[0m\u001b[0mkwargs\u001b[0m\u001b[0;34m)\u001b[0m\u001b[0;34m\u001b[0m\u001b[0;34m\u001b[0m\u001b[0m\n\u001b[0m\u001b[1;32m    531\u001b[0m     \u001b[0;32mfinally\u001b[0m\u001b[0;34m:\u001b[0m\u001b[0;34m\u001b[0m\u001b[0;34m\u001b[0m\u001b[0m\n\u001b[1;32m    532\u001b[0m       \u001b[0mself\u001b[0m\u001b[0;34m.\u001b[0m\u001b[0m_self_setattr_tracking\u001b[0m \u001b[0;34m=\u001b[0m \u001b[0mprevious_value\u001b[0m  \u001b[0;31m# pylint: disable=protected-access\u001b[0m\u001b[0;34m\u001b[0m\u001b[0;34m\u001b[0m\u001b[0m\n",
      "\u001b[0;32m~/Documents/QML-Qiskit/qiskit-qcnn/lib/python3.7/site-packages/keras/utils/traceback_utils.py\u001b[0m in \u001b[0;36merror_handler\u001b[0;34m(*args, **kwargs)\u001b[0m\n\u001b[1;32m     65\u001b[0m     \u001b[0;32mexcept\u001b[0m \u001b[0mException\u001b[0m \u001b[0;32mas\u001b[0m \u001b[0me\u001b[0m\u001b[0;34m:\u001b[0m  \u001b[0;31m# pylint: disable=broad-except\u001b[0m\u001b[0;34m\u001b[0m\u001b[0;34m\u001b[0m\u001b[0m\n\u001b[1;32m     66\u001b[0m       \u001b[0mfiltered_tb\u001b[0m \u001b[0;34m=\u001b[0m \u001b[0m_process_traceback_frames\u001b[0m\u001b[0;34m(\u001b[0m\u001b[0me\u001b[0m\u001b[0;34m.\u001b[0m\u001b[0m__traceback__\u001b[0m\u001b[0;34m)\u001b[0m\u001b[0;34m\u001b[0m\u001b[0;34m\u001b[0m\u001b[0m\n\u001b[0;32m---> 67\u001b[0;31m       \u001b[0;32mraise\u001b[0m \u001b[0me\u001b[0m\u001b[0;34m.\u001b[0m\u001b[0mwith_traceback\u001b[0m\u001b[0;34m(\u001b[0m\u001b[0mfiltered_tb\u001b[0m\u001b[0;34m)\u001b[0m \u001b[0;32mfrom\u001b[0m \u001b[0;32mNone\u001b[0m\u001b[0;34m\u001b[0m\u001b[0;34m\u001b[0m\u001b[0m\n\u001b[0m\u001b[1;32m     68\u001b[0m     \u001b[0;32mfinally\u001b[0m\u001b[0;34m:\u001b[0m\u001b[0;34m\u001b[0m\u001b[0;34m\u001b[0m\u001b[0m\n\u001b[1;32m     69\u001b[0m       \u001b[0;32mdel\u001b[0m \u001b[0mfiltered_tb\u001b[0m\u001b[0;34m\u001b[0m\u001b[0;34m\u001b[0m\u001b[0m\n",
      "\u001b[0;32m~/Documents/QML-Qiskit/qiskit-qcnn/lib/python3.7/site-packages/tensorflow/python/autograph/impl/api.py\u001b[0m in \u001b[0;36mwrapper\u001b[0;34m(*args, **kwargs)\u001b[0m\n\u001b[1;32m    697\u001b[0m       \u001b[0;32mexcept\u001b[0m \u001b[0mException\u001b[0m \u001b[0;32mas\u001b[0m \u001b[0me\u001b[0m\u001b[0;34m:\u001b[0m  \u001b[0;31m# pylint:disable=broad-except\u001b[0m\u001b[0;34m\u001b[0m\u001b[0;34m\u001b[0m\u001b[0m\n\u001b[1;32m    698\u001b[0m         \u001b[0;32mif\u001b[0m \u001b[0mhasattr\u001b[0m\u001b[0;34m(\u001b[0m\u001b[0me\u001b[0m\u001b[0;34m,\u001b[0m \u001b[0;34m'ag_error_metadata'\u001b[0m\u001b[0;34m)\u001b[0m\u001b[0;34m:\u001b[0m\u001b[0;34m\u001b[0m\u001b[0;34m\u001b[0m\u001b[0m\n\u001b[0;32m--> 699\u001b[0;31m           \u001b[0;32mraise\u001b[0m \u001b[0me\u001b[0m\u001b[0;34m.\u001b[0m\u001b[0mag_error_metadata\u001b[0m\u001b[0;34m.\u001b[0m\u001b[0mto_exception\u001b[0m\u001b[0;34m(\u001b[0m\u001b[0me\u001b[0m\u001b[0;34m)\u001b[0m\u001b[0;34m\u001b[0m\u001b[0;34m\u001b[0m\u001b[0m\n\u001b[0m\u001b[1;32m    700\u001b[0m         \u001b[0;32melse\u001b[0m\u001b[0;34m:\u001b[0m\u001b[0;34m\u001b[0m\u001b[0;34m\u001b[0m\u001b[0m\n\u001b[1;32m    701\u001b[0m           \u001b[0;32mraise\u001b[0m\u001b[0;34m\u001b[0m\u001b[0;34m\u001b[0m\u001b[0m\n",
      "\u001b[0;31mValueError\u001b[0m: Exception encountered when calling layer \"tensorflow_connector_69\" (type TensorflowConnector).\n\nin user code:\n\n    File \"/tmp/ipykernel_13162/57240596.py\", line 93, in call  *\n        return tf.keras.layers.Reshape((-1,))(TensorflowConnector._TfGradient(self._neural_network).custom_op(input_,self._weights))\n    File \"/tmp/ipykernel_13162/779578440.py\", line 7, in <lambda>\n        self.custom_op = tf.custom_gradient(lambda x,y:TensorflowConnector._TfGradient._custom_op(self,x,y))\n    File \"/tmp/ipykernel_13162/779578440.py\", line 22, in _custom_op\n        print(tf.cast(tf.keras.layers.Reshape((-1,))(result),dtype=tf.float64))\n    File \"/home/gopald/Documents/QML-Qiskit/qiskit-qcnn/lib/python3.7/site-packages/keras/utils/traceback_utils.py\", line 67, in error_handler\n        raise e.with_traceback(filtered_tb) from None\n\n    ValueError: Exception encountered when calling layer \"reshape_1\" (type Reshape).\n    \n    as_list() is not defined on an unknown TensorShape.\n    \n    Call arguments received:\n      • inputs=tf.Tensor(shape=<unknown>, dtype=float32)\n\n\nCall arguments received:\n  • input_tensor=tf.Tensor(shape=(None, 3), dtype=float32)"
     ]
    }
   ],
   "source": [
    "model = tf.keras.Sequential([\n",
    "    tf.keras.layers.Flatten(input_shape=(8, 8)),\n",
    "    tf.keras.layers.Dense(3, activation='relu'),\n",
    "    TensorflowConnector(operator),\n",
    "    tf.keras.layers.Dense(input_shape = (1,), units=2)\n",
    "])"
   ]
  },
  {
   "cell_type": "code",
   "execution_count": null,
   "id": "188ddc89",
   "metadata": {
    "ExecuteTime": {
     "end_time": "2022-07-17T08:42:40.616293Z",
     "start_time": "2022-07-17T08:42:40.616264Z"
    }
   },
   "outputs": [],
   "source": [
    "model.compile(optimizer=tf.keras.optimizers.Adam(learning_rate=0.02),\n",
    "                   loss=tf.losses.mse,\n",
    "                   metrics=['accuracy'], run_eagerly=True)"
   ]
  },
  {
   "cell_type": "code",
   "execution_count": null,
   "id": "ca8535f7",
   "metadata": {
    "ExecuteTime": {
     "end_time": "2022-07-17T08:42:40.618711Z",
     "start_time": "2022-07-17T08:42:40.618687Z"
    }
   },
   "outputs": [],
   "source": [
    "model.fit(x,y,batch_size=16, epochs=50, validation_split=0.2)"
   ]
  },
  {
   "cell_type": "code",
   "execution_count": null,
   "id": "12b0ec8e",
   "metadata": {},
   "outputs": [],
   "source": []
  }
 ],
 "metadata": {
  "kernelspec": {
   "display_name": "Python (qiskit-qcnn)",
   "language": "python",
   "name": "qiskit-qcnn"
  },
  "language_info": {
   "codemirror_mode": {
    "name": "ipython",
    "version": 3
   },
   "file_extension": ".py",
   "mimetype": "text/x-python",
   "name": "python",
   "nbconvert_exporter": "python",
   "pygments_lexer": "ipython3",
   "version": "3.7.13"
  },
  "latex_envs": {
   "LaTeX_envs_menu_present": true,
   "autoclose": false,
   "autocomplete": true,
   "bibliofile": "biblio.bib",
   "cite_by": "apalike",
   "current_citInitial": 1,
   "eqLabelWithNumbers": true,
   "eqNumInitial": 1,
   "hotkeys": {
    "equation": "Ctrl-E",
    "itemize": "Ctrl-I"
   },
   "labels_anchors": false,
   "latex_user_defs": false,
   "report_style_numbering": false,
   "user_envs_cfg": false
  },
  "toc": {
   "base_numbering": 1,
   "nav_menu": {},
   "number_sections": true,
   "sideBar": true,
   "skip_h1_title": false,
   "title_cell": "Table of Contents",
   "title_sidebar": "Contents",
   "toc_cell": false,
   "toc_position": {},
   "toc_section_display": true,
   "toc_window_display": false
  }
 },
 "nbformat": 4,
 "nbformat_minor": 5
}
