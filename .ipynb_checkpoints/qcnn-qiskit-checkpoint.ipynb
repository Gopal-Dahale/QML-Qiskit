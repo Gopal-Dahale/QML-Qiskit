{
 "cells": [
  {
   "cell_type": "code",
   "execution_count": 206,
   "metadata": {
    "ExecuteTime": {
     "end_time": "2022-06-14T06:31:22.256266Z",
     "start_time": "2022-06-14T06:31:22.236483Z"
    },
    "execution": {
     "iopub.execute_input": "2022-06-07T18:39:38.995723Z",
     "iopub.status.busy": "2022-06-07T18:39:38.995341Z",
     "iopub.status.idle": "2022-06-07T18:39:39.003105Z",
     "shell.execute_reply": "2022-06-07T18:39:39.002366Z",
     "shell.execute_reply.started": "2022-06-07T18:39:38.995685Z"
    }
   },
   "outputs": [],
   "source": [
    "import numpy as np\n",
    "import matplotlib.pyplot as plt\n",
    "from tqdm import tqdm\n",
    "\n",
    "import torch\n",
    "from torch import Tensor, LongTensor\n",
    "from torch.utils.data import TensorDataset, DataLoader\n",
    "from torch.nn import Module\n",
    "\n",
    "from sklearn.datasets import make_blobs\n",
    "from sklearn.preprocessing import MinMaxScaler\n",
    "\n",
    "from qiskit import QuantumCircuit, Aer, transpile\n",
    "from qiskit_machine_learning.neural_networks import CircuitQNN\n",
    "from qiskit_machine_learning.connectors import TorchConnector\n",
    "from qiskit.circuit import ParameterVector\n",
    "from qiskit.utils import QuantumInstance"
   ]
  },
  {
   "cell_type": "code",
   "execution_count": 106,
   "metadata": {
    "ExecuteTime": {
     "end_time": "2022-06-14T05:44:38.128021Z",
     "start_time": "2022-06-14T05:44:38.111292Z"
    }
   },
   "outputs": [],
   "source": [
    "def get_default_device():\n",
    "    \"\"\"Pick GPU if available, else CPU\"\"\"\n",
    "    if torch.cuda.is_available():\n",
    "        return torch.device('cuda')\n",
    "    else:\n",
    "        return torch.device('cpu')"
   ]
  },
  {
   "cell_type": "code",
   "execution_count": 110,
   "metadata": {
    "ExecuteTime": {
     "end_time": "2022-06-14T05:46:20.386703Z",
     "start_time": "2022-06-14T05:46:19.555386Z"
    }
   },
   "outputs": [
    {
     "data": {
      "text/plain": [
       "device(type='cpu')"
      ]
     },
     "execution_count": 110,
     "metadata": {},
     "output_type": "execute_result"
    }
   ],
   "source": [
    "device = get_default_device()\n",
    "device"
   ]
  },
  {
   "cell_type": "code",
   "execution_count": 107,
   "metadata": {
    "ExecuteTime": {
     "end_time": "2022-06-14T05:44:44.175097Z",
     "start_time": "2022-06-14T05:44:44.149576Z"
    }
   },
   "outputs": [],
   "source": [
    "def to_device(data, device):\n",
    "    \"\"\"Move tensor(s) to chosen device\"\"\"\n",
    "    if isinstance(data, (list,tuple)):\n",
    "        return [to_device(x, device) for x in data]\n",
    "    return data.to(device, non_blocking=True)"
   ]
  },
  {
   "cell_type": "code",
   "execution_count": 3,
   "metadata": {
    "ExecuteTime": {
     "end_time": "2022-06-14T04:42:41.426508Z",
     "start_time": "2022-06-14T04:42:41.419779Z"
    },
    "execution": {
     "iopub.execute_input": "2022-06-07T18:39:40.431646Z",
     "iopub.status.busy": "2022-06-07T18:39:40.431261Z",
     "iopub.status.idle": "2022-06-07T18:39:40.438123Z",
     "shell.execute_reply": "2022-06-07T18:39:40.437347Z",
     "shell.execute_reply.started": "2022-06-07T18:39:40.431614Z"
    }
   },
   "outputs": [],
   "source": [
    "# cluster state\n",
    "def cluster_state_circuit(bits):\n",
    "    qc = QuantumCircuit(bits)\n",
    "    bits = list(range(bits))\n",
    "    qc.h(bits)\n",
    "    for this_bit, next_bit in zip(bits, bits[1:]):\n",
    "        qc.cz(this_bit, next_bit)\n",
    "    if(len(bits)!= 2):\n",
    "        qc.cz(bits[0], bits[-1])\n",
    "    return qc"
   ]
  },
  {
   "cell_type": "code",
   "execution_count": 4,
   "metadata": {
    "ExecuteTime": {
     "end_time": "2022-06-14T04:43:03.049435Z",
     "start_time": "2022-06-14T04:43:01.758048Z"
    }
   },
   "outputs": [
    {
     "data": {
      "image/png": "[encoded data removed]",
      "text/plain": [
       "<Figure size 387.597x264.88 with 1 Axes>"
      ]
     },
     "execution_count": 4,
     "metadata": {},
     "output_type": "execute_result"
    }
   ],
   "source": [
    "circuit = cluster_state_circuit(4)\n",
    "circuit.draw('mpl')"
   ]
  },
  {
   "cell_type": "code",
   "execution_count": 5,
   "metadata": {
    "ExecuteTime": {
     "end_time": "2022-06-14T04:43:21.567106Z",
     "start_time": "2022-06-14T04:43:21.554835Z"
    },
    "execution": {
     "iopub.execute_input": "2022-06-07T18:39:40.599169Z",
     "iopub.status.busy": "2022-06-07T18:39:40.598319Z",
     "iopub.status.idle": "2022-06-07T18:39:40.609055Z",
     "shell.execute_reply": "2022-06-07T18:39:40.608162Z",
     "shell.execute_reply.started": "2022-06-07T18:39:40.599129Z"
    }
   },
   "outputs": [],
   "source": [
    "def one_qubit_unitary(thetas):\n",
    "    qc = QuantumCircuit(1)\n",
    "    qc.rx(thetas[0], 0)\n",
    "    qc.ry(thetas[1], 0)\n",
    "    qc.rz(thetas[2], 0)\n",
    "    return qc"
   ]
  },
  {
   "cell_type": "code",
   "execution_count": 6,
   "metadata": {
    "ExecuteTime": {
     "end_time": "2022-06-14T04:45:30.439632Z",
     "start_time": "2022-06-14T04:45:25.283695Z"
    }
   },
   "outputs": [
    {
     "data": {
      "image/png": "[encoded data removed]",
      "text/plain": [
       "<Figure size 253.926x84.28 with 1 Axes>"
      ]
     },
     "execution_count": 6,
     "metadata": {},
     "output_type": "execute_result"
    }
   ],
   "source": [
    "thetas = ParameterVector('θ', length=3)\n",
    "circuit = one_qubit_unitary(thetas)\n",
    "circuit.draw('mpl')"
   ]
  },
  {
   "cell_type": "code",
   "execution_count": null,
   "metadata": {},
   "outputs": [],
   "source": [
    "def two_qubit_unitary(thetas):\n",
    "    qc = QuantumCircuit(2)\n",
    "    qc = qc.compose(one_qubit_unitary(thetas[0:3]), [0])\n",
    "    qc = qc.compose(one_qubit_unitary(thetas[3:6]), [1])\n",
    "    qc.rzz(thetas[6],0, 1)\n",
    "    qc.ryy(thetas[7],0, 1)\n",
    "    qc.rxx(thetas[8],0, 1)\n",
    "    qc = qc.compose(one_qubit_unitary(thetas[9:12]), [0])\n",
    "    qc = qc.compose(one_qubit_unitary(thetas[12:]), [1])\n",
    "    return qc"
   ]
  },
  {
   "cell_type": "code",
   "execution_count": 11,
   "metadata": {
    "ExecuteTime": {
     "end_time": "2022-06-14T04:46:08.982052Z",
     "start_time": "2022-06-14T04:46:08.641262Z"
    }
   },
   "outputs": [
    {
     "data": {
      "image/png": "[encoded data removed]",
      "text/plain": [
       "<Figure size 688.452x144.48 with 1 Axes>"
      ]
     },
     "execution_count": 11,
     "metadata": {},
     "output_type": "execute_result"
    }
   ],
   "source": [
    "thetas = ParameterVector('θ', length=15)\n",
    "circuit = two_qubit_unitary(thetas)\n",
    "circuit.draw('mpl')"
   ]
  },
  {
   "cell_type": "code",
   "execution_count": null,
   "metadata": {},
   "outputs": [],
   "source": [
    "def two_qubit_pool(thetas):\n",
    "    qc = QuantumCircuit(2)\n",
    "    qc = qc.compose(one_qubit_unitary(thetas[0:3]), [1])\n",
    "    qc = qc.compose(one_qubit_unitary(thetas[3:6]), [0])\n",
    "    qc.cnot(0,1)\n",
    "    qc = qc.compose(one_qubit_unitary(thetas[0:3]).inverse(), [1])\n",
    "    return qc"
   ]
  },
  {
   "cell_type": "code",
   "execution_count": 13,
   "metadata": {
    "ExecuteTime": {
     "end_time": "2022-06-14T04:46:41.002077Z",
     "start_time": "2022-06-14T04:46:40.592503Z"
    }
   },
   "outputs": [
    {
     "data": {
      "image/png": "[encoded data removed]",
      "text/plain": [
       "<Figure size 507.852x144.48 with 1 Axes>"
      ]
     },
     "execution_count": 13,
     "metadata": {},
     "output_type": "execute_result"
    }
   ],
   "source": [
    "thetas = ParameterVector('θ', length=6)\n",
    "circuit = two_qubit_pool(thetas)\n",
    "circuit.draw('mpl')"
   ]
  },
  {
   "cell_type": "code",
   "execution_count": 14,
   "metadata": {
    "ExecuteTime": {
     "end_time": "2022-06-14T04:46:50.979463Z",
     "start_time": "2022-06-14T04:46:50.971759Z"
    },
    "execution": {
     "iopub.execute_input": "2022-06-07T18:39:40.792185Z",
     "iopub.status.busy": "2022-06-07T18:39:40.791509Z",
     "iopub.status.idle": "2022-06-07T18:39:40.800934Z",
     "shell.execute_reply": "2022-06-07T18:39:40.799452Z",
     "shell.execute_reply.started": "2022-06-07T18:39:40.792149Z"
    }
   },
   "outputs": [],
   "source": [
    "def quantum_conv_circuit(bits, thetas):\n",
    "    qc = QuantumCircuit(bits)\n",
    "    bits = list(range(bits))\n",
    "    for first, second in zip(bits[0::2], bits[1::2]):\n",
    "        qc = qc.compose(two_qubit_unitary(thetas), [first,second])\n",
    "    for first, second in zip(bits[1::2], bits[2::2] + [bits[0]]):\n",
    "        qc = qc.compose(two_qubit_unitary(thetas), [first, second])\n",
    "    return qc"
   ]
  },
  {
   "cell_type": "code",
   "execution_count": 20,
   "metadata": {
    "ExecuteTime": {
     "end_time": "2022-06-14T04:47:54.942427Z",
     "start_time": "2022-06-14T04:47:54.040792Z"
    }
   },
   "outputs": [
    {
     "data": {
      "image/png": "[encoded data removed]",
      "text/plain": [
       "<Figure size 1531.4x264.88 with 1 Axes>"
      ]
     },
     "execution_count": 20,
     "metadata": {},
     "output_type": "execute_result"
    }
   ],
   "source": [
    "thetas = ParameterVector('θ', length=16)\n",
    "circuit = quantum_conv_circuit(4, thetas)\n",
    "circuit.draw('mpl')"
   ]
  },
  {
   "cell_type": "code",
   "execution_count": 22,
   "metadata": {
    "ExecuteTime": {
     "end_time": "2022-06-14T04:48:30.089274Z",
     "start_time": "2022-06-14T04:48:30.071272Z"
    },
    "execution": {
     "iopub.execute_input": "2022-06-07T18:24:49.365478Z",
     "iopub.status.busy": "2022-06-07T18:24:49.365063Z",
     "iopub.status.idle": "2022-06-07T18:24:49.371436Z",
     "shell.execute_reply": "2022-06-07T18:24:49.370330Z",
     "shell.execute_reply.started": "2022-06-07T18:24:49.365445Z"
    }
   },
   "outputs": [],
   "source": [
    "def quantum_pool_circuit(sources, sinks, thetas):\n",
    "    qc = QuantumCircuit(len(sources) + len(sinks))\n",
    "    for source, sink in zip(sources, sinks):\n",
    "        qc = qc.compose(two_qubit_pool(thetas), [source, sink])\n",
    "    return qc"
   ]
  },
  {
   "cell_type": "code",
   "execution_count": 25,
   "metadata": {
    "ExecuteTime": {
     "end_time": "2022-06-14T04:49:33.217429Z",
     "start_time": "2022-06-14T04:49:32.484895Z"
    }
   },
   "outputs": [
    {
     "data": {
      "image/png": "[encoded data removed]",
      "text/plain": [
       "<Figure size 688.597x505.68 with 1 Axes>"
      ]
     },
     "execution_count": 25,
     "metadata": {},
     "output_type": "execute_result"
    }
   ],
   "source": [
    "thetas = ParameterVector('θ', length=6)\n",
    "sources = [0,1,2,3]\n",
    "sinks = [4,5,6,7]\n",
    "circuit = quantum_pool_circuit(sources, sinks, thetas)\n",
    "circuit.draw('mpl')"
   ]
  },
  {
   "cell_type": "code",
   "execution_count": 44,
   "metadata": {
    "ExecuteTime": {
     "end_time": "2022-06-14T05:02:12.007220Z",
     "start_time": "2022-06-14T05:02:11.980325Z"
    },
    "execution": {
     "iopub.execute_input": "2022-06-07T18:24:49.624023Z",
     "iopub.status.busy": "2022-06-07T18:24:49.623352Z",
     "iopub.status.idle": "2022-06-07T18:24:49.635946Z",
     "shell.execute_reply": "2022-06-07T18:24:49.634838Z",
     "shell.execute_reply.started": "2022-06-07T18:24:49.623985Z"
    }
   },
   "outputs": [],
   "source": [
    "# Define and create QNN\n",
    "def create_qcnn(n):\n",
    "    backend = Aer.get_backend(\"aer_simulator_statevector\")\n",
    "    qi = QuantumInstance(backend)\n",
    "    \n",
    "    def last_qubit_prob(x):\n",
    "        res = bin(x)[2:].zfill(2)\n",
    "        return int(res[0])\n",
    "\n",
    "    output_shape = 2  # parity = 0, 1\n",
    "\n",
    "    in_thetas = ParameterVector('x', length=n)\n",
    "    \n",
    "    feature_map = QuantumCircuit(n, name=\"Angle Encoding\")\n",
    "    for i in range(n):\n",
    "        feature_map.rx(in_thetas[i], i)\n",
    "    \n",
    "    thetas = ParameterVector('θ', length=21)\n",
    "    ansatz = QuantumCircuit(n, name=\"QCNN\")\n",
    "    \n",
    "    ansatz = ansatz.compose(quantum_conv_circuit(n,thetas[0:15]), range(n))\n",
    "    ansatz = ansatz.compose(quantum_pool_circuit(range(n//2), range(n//2,n), thetas[15:21]))\n",
    "\n",
    "    qc = QuantumCircuit(n)\n",
    "    qc = qc.compose(transpile(cluster_state_circuit(n), backend = backend), range(n))\n",
    "    qc.barrier()\n",
    "    qc = qc.compose(feature_map, range(n))\n",
    "    qc.barrier()\n",
    "    qc = qc.compose(ansatz, range(n))\n",
    "\n",
    "    # REMEMBER TO SET input_gradients=True FOR ENABLING HYBRID GRADIENT BACKPROP\n",
    "    qcnn = CircuitQNN(\n",
    "        qc,\n",
    "        input_params = feature_map.parameters,\n",
    "        weight_params=ansatz.parameters,\n",
    "        input_gradients=True,\n",
    "        interpret=last_qubit_prob,\n",
    "        output_shape=output_shape,\n",
    "        quantum_instance=qi,\n",
    "    )\n",
    "    return qcnn"
   ]
  },
  {
   "cell_type": "code",
   "execution_count": 45,
   "metadata": {
    "ExecuteTime": {
     "end_time": "2022-06-14T05:02:20.751477Z",
     "start_time": "2022-06-14T05:02:15.976757Z"
    }
   },
   "outputs": [
    {
     "data": {
      "image/png": "[encoded data removed]",
      "text/plain": [
       "<Figure size 1591.45x325.08 with 1 Axes>"
      ]
     },
     "execution_count": 45,
     "metadata": {},
     "output_type": "execute_result"
    }
   ],
   "source": [
    "qcnn = create_qcnn(2)\n",
    "qcnn.circuit.draw('mpl')"
   ]
  },
  {
   "cell_type": "code",
   "execution_count": 99,
   "metadata": {
    "ExecuteTime": {
     "end_time": "2022-06-14T05:42:31.591137Z",
     "start_time": "2022-06-14T05:42:31.508311Z"
    },
    "execution": {
     "iopub.execute_input": "2022-06-07T18:24:49.986843Z",
     "iopub.status.busy": "2022-06-07T18:24:49.986458Z",
     "iopub.status.idle": "2022-06-07T18:24:50.000805Z",
     "shell.execute_reply": "2022-06-07T18:24:50Z",
     "shell.execute_reply.started": "2022-06-07T18:24:49.986812Z"
    }
   },
   "outputs": [],
   "source": [
    "class BlobsDataModule():\n",
    "    def __init__(self, n_features = 2):\n",
    "        super().__init__()\n",
    "        self.batch_size = 8\n",
    "        self.num_workers = 4\n",
    "        \n",
    "        self.dims = (n_features)\n",
    "        self.output_dims = (1,)\n",
    "        self.mapping = list(range(2))\n",
    "        self.n_features = n_features\n",
    "        \n",
    "    def config(self):\n",
    "        \"\"\"Return important settings of the dataset, which will be passed to instantiate models.\"\"\"\n",
    "        return {\"input_dims\": self.dims, \"output_dims\": self.output_dims, \"mapping\": self.mapping}\n",
    "    \n",
    "    def prepare_data(self):\n",
    "        self.x_train, self.y_train = make_blobs(n_samples=100,n_features=self.n_features,centers=2,random_state=42)\n",
    "        self.x_val, self.y_val = make_blobs(n_samples=50,n_features=self.n_features,centers=2,random_state=42)\n",
    "        self.x_test, self.y_test = make_blobs(n_samples=50,n_features=self.n_features,centers=2,random_state=42)\n",
    "    \n",
    "    def setup(self, stage=None):\n",
    "        scaler = MinMaxScaler((-np.pi, np.pi))\n",
    "        self.x_train = scaler.fit_transform(self.x_train)\n",
    "        self.x_val = scaler.fit_transform(self.x_val)\n",
    "        self.x_test = scaler.fit_transform(self.x_test)\n",
    "        \n",
    "        self.x_train = Tensor(self.x_train)\n",
    "        self.y_train = Tensor(self.y_train).type(LongTensor)\n",
    "        \n",
    "        self.x_val = Tensor(self.x_val)\n",
    "        self.y_val = Tensor(self.y_val).type(LongTensor)\n",
    "        \n",
    "        self.x_test = Tensor(self.x_test)\n",
    "        self.y_test = Tensor(self.y_test).type(LongTensor)\n",
    "        \n",
    "        self.data_train = TensorDataset(self.x_train, self.y_train)\n",
    "        self.data_val = TensorDataset(self.x_val, self.y_val)\n",
    "        self.data_test = TensorDataset(self.x_test, self.y_test)\n",
    "\n",
    "    def train_dataloader(self):\n",
    "        return DataLoader(\n",
    "            self.data_train,\n",
    "            shuffle=True,\n",
    "            batch_size=self.batch_size,\n",
    "            num_workers=self.num_workers,\n",
    "        )\n",
    "\n",
    "    def val_dataloader(self):\n",
    "        return DataLoader(\n",
    "            self.data_val,\n",
    "            shuffle=False,\n",
    "            batch_size=self.batch_size,\n",
    "            num_workers=self.num_workers,\n",
    "        )\n",
    "\n",
    "    def test_dataloader(self):\n",
    "        return DataLoader(\n",
    "            self.data_test,\n",
    "            shuffle=False,\n",
    "            batch_size=self.batch_size,\n",
    "            num_workers=self.num_workers,\n",
    "        )\n",
    "    def __repr__(self):\n",
    "        basic = f\"Blobs Dataset\\nNum classes: {len(self.mapping)}\\nMapping: {self.mapping}\\nDims: {self.dims}\\n\"\n",
    "        x, y = next(iter(self.train_dataloader()))\n",
    "        data = (\n",
    "            f\"Train/val/test sizes: {len(self.data_train)}, {len(self.data_val)}, {len(self.data_test)}\\n\"\n",
    "            f\"Batch x stats: {(x.shape, x.dtype, x.min(), x.mean(), x.std(), x.max())}\\n\"\n",
    "            f\"Batch y stats: {(y.shape, y.dtype, y.min(), y.max())}\\n\"\n",
    "        )\n",
    "        return basic + data"
   ]
  },
  {
   "cell_type": "code",
   "execution_count": 108,
   "metadata": {
    "ExecuteTime": {
     "end_time": "2022-06-14T05:45:26.005271Z",
     "start_time": "2022-06-14T05:45:25.972274Z"
    }
   },
   "outputs": [],
   "source": [
    "class DeviceDataLoader():\n",
    "    \"\"\"Wrap a dataloader to move data to a device\"\"\"\n",
    "    def __init__(self, dl, device):\n",
    "        self.dl = dl\n",
    "        self.device = device\n",
    "        \n",
    "    def __iter__(self):\n",
    "        \"\"\"Yield a batch of data after moving it to device\"\"\"\n",
    "        for b in self.dl: \n",
    "            yield to_device(b, self.device)\n",
    "\n",
    "    def __len__(self):\n",
    "        \"\"\"Number of batches\"\"\"\n",
    "        return len(self.dl)"
   ]
  },
  {
   "cell_type": "code",
   "execution_count": 100,
   "metadata": {
    "ExecuteTime": {
     "end_time": "2022-06-14T05:42:32.094341Z",
     "start_time": "2022-06-14T05:42:32.057687Z"
    },
    "execution": {
     "iopub.execute_input": "2022-06-07T18:24:50.435464Z",
     "iopub.status.busy": "2022-06-07T18:24:50.434829Z",
     "iopub.status.idle": "2022-06-07T18:24:50.445646Z",
     "shell.execute_reply": "2022-06-07T18:24:50.444583Z",
     "shell.execute_reply.started": "2022-06-07T18:24:50.435428Z"
    }
   },
   "outputs": [],
   "source": [
    "data = BlobsDataModule()\n",
    "data.prepare_data()\n",
    "data.setup()"
   ]
  },
  {
   "cell_type": "code",
   "execution_count": 101,
   "metadata": {
    "ExecuteTime": {
     "end_time": "2022-06-14T05:42:32.592063Z",
     "start_time": "2022-06-14T05:42:32.396956Z"
    }
   },
   "outputs": [
    {
     "data": {
      "text/plain": [
       "Blobs Dataset\n",
       "Num classes: 2\n",
       "Mapping: [0, 1]\n",
       "Dims: 2\n",
       "Train/val/test sizes: 100, 50, 50\n",
       "Batch x stats: (torch.Size([8, 2]), torch.float32, tensor(-2.5690), tensor(-0.0019), tensor(2.0444), tensor(2.6616))\n",
       "Batch y stats: (torch.Size([8]), torch.int64, tensor(0), tensor(1))"
      ]
     },
     "execution_count": 101,
     "metadata": {},
     "output_type": "execute_result"
    }
   ],
   "source": [
    "data"
   ]
  },
  {
   "cell_type": "code",
   "execution_count": 85,
   "metadata": {
    "ExecuteTime": {
     "end_time": "2022-06-14T05:18:08.695561Z",
     "start_time": "2022-06-14T05:18:08.289812Z"
    },
    "execution": {
     "iopub.execute_input": "2022-06-07T18:24:51.481960Z",
     "iopub.status.busy": "2022-06-07T18:24:51.481597Z",
     "iopub.status.idle": "2022-06-07T18:24:51.682206Z",
     "shell.execute_reply": "2022-06-07T18:24:51.681467Z",
     "shell.execute_reply.started": "2022-06-07T18:24:51.481930Z"
    }
   },
   "outputs": [
    {
     "data": {
      "image/png": "[encoded data removed]",
      "text/plain": [
       "<Figure size 432x288 with 1 Axes>"
      ]
     },
     "metadata": {
      "needs_background": "light"
     },
     "output_type": "display_data"
    }
   ],
   "source": [
    "x_train = data.data_train.tensors[0]\n",
    "y_train = data.data_train.tensors[1]\n",
    "\n",
    "for x, y_target in zip(x_train, y_train):\n",
    "    if y_target == 1:\n",
    "        plt.plot(x[0], x[1], \"bo\")\n",
    "    else:\n",
    "        plt.plot(x[0], x[1], \"go\")\n",
    "plt.plot([-3,3],[-3,3], \"--\", color=\"black\")\n",
    "plt.title(\"Train batch\")\n",
    "plt.show()"
   ]
  },
  {
   "cell_type": "code",
   "execution_count": 86,
   "metadata": {
    "ExecuteTime": {
     "end_time": "2022-06-14T05:18:14.694673Z",
     "start_time": "2022-06-14T05:18:14.402941Z"
    },
    "execution": {
     "iopub.execute_input": "2022-06-07T18:24:52.508886Z",
     "iopub.status.busy": "2022-06-07T18:24:52.508103Z",
     "iopub.status.idle": "2022-06-07T18:24:52.687147Z",
     "shell.execute_reply": "2022-06-07T18:24:52.686350Z",
     "shell.execute_reply.started": "2022-06-07T18:24:52.508850Z"
    }
   },
   "outputs": [
    {
     "data": {
      "image/png": "[encoded data removed]",
      "text/plain": [
       "<Figure size 432x288 with 1 Axes>"
      ]
     },
     "metadata": {
      "needs_background": "light"
     },
     "output_type": "display_data"
    }
   ],
   "source": [
    "x_test = data.data_test.tensors[0]\n",
    "y_test = data.data_test.tensors[1]\n",
    "\n",
    "for x, y_target in zip(x_test, y_test):\n",
    "    if y_target == 1:\n",
    "        plt.plot(x[0], x[1], \"bo\")\n",
    "    else:\n",
    "        plt.plot(x[0], x[1], \"go\")\n",
    "plt.plot([-3,3],[-3,3], \"--\", color=\"black\")\n",
    "plt.title(\"Test batch\")\n",
    "plt.show()"
   ]
  },
  {
   "cell_type": "code",
   "execution_count": 92,
   "metadata": {
    "ExecuteTime": {
     "end_time": "2022-06-14T05:36:05.384315Z",
     "start_time": "2022-06-14T05:36:05.376714Z"
    }
   },
   "outputs": [],
   "source": [
    "def accuracy(outputs, labels):\n",
    "    _, preds = torch.max(outputs, dim=1)\n",
    "    return torch.tensor(torch.sum(preds == labels).item() / len(preds))"
   ]
  },
  {
   "cell_type": "code",
   "execution_count": 189,
   "metadata": {
    "ExecuteTime": {
     "end_time": "2022-06-14T06:24:58.528658Z",
     "start_time": "2022-06-14T06:24:58.508337Z"
    },
    "execution": {
     "iopub.execute_input": "2022-06-07T18:36:31.315682Z",
     "iopub.status.busy": "2022-06-07T18:36:31.315306Z",
     "iopub.status.idle": "2022-06-07T18:36:31.330371Z",
     "shell.execute_reply": "2022-06-07T18:36:31.329470Z",
     "shell.execute_reply.started": "2022-06-07T18:36:31.315649Z"
    }
   },
   "outputs": [],
   "source": [
    "class QCNN(Module):\n",
    "    def __init__(self,data_config):\n",
    "        super().__init__()\n",
    "        \n",
    "        input_dims = data_config[\"input_dims\"]\n",
    "        num_classes = len(data_config[\"mapping\"])\n",
    "        \n",
    "        self.qcnn = TorchConnector(create_qcnn(input_dims))\n",
    "    \n",
    "    def forward(self, x):\n",
    "        out = self.qcnn(x)  # apply QCNN\n",
    "        return out\n",
    "    \n",
    "    def training_step(self, batch): \n",
    "        x, y = batch\n",
    "        logits = self(x)\n",
    "        loss = torch.nn.NLLLoss()(logits, y)\n",
    "        acc = accuracy(logits, y)\n",
    "        return {'train_loss': loss, 'train_acc': acc}\n",
    "\n",
    "    def validation_step(self, batch): \n",
    "        x, y = batch\n",
    "        logits = self(x)\n",
    "        loss = torch.nn.NLLLoss()(logits, y)\n",
    "        acc = accuracy(logits, y)\n",
    "        return {'val_loss': loss, 'val_acc': acc}\n",
    "    \n",
    "    def validation_epoch_end(self, outputs):\n",
    "        batch_losses = [x['val_loss'] for x in outputs]\n",
    "        epoch_loss = torch.stack(batch_losses).mean()   # Combine losses\n",
    "        batch_accs = [x['val_acc'] for x in outputs]\n",
    "        epoch_acc = torch.stack(batch_accs).mean()      # Combine accuracies\n",
    "        return {'val_loss': epoch_loss.item(), 'val_acc': epoch_acc.item()}"
   ]
  },
  {
   "cell_type": "code",
   "execution_count": 190,
   "metadata": {
    "ExecuteTime": {
     "end_time": "2022-06-14T06:24:58.857225Z",
     "start_time": "2022-06-14T06:24:58.843008Z"
    }
   },
   "outputs": [],
   "source": [
    "def evaluate(model, val_dataloader):\n",
    "    outputs = [model.validation_step(batch) for batch in val_dataloader]\n",
    "    return model.validation_epoch_end(outputs)"
   ]
  },
  {
   "cell_type": "code",
   "execution_count": 238,
   "metadata": {
    "ExecuteTime": {
     "end_time": "2022-06-14T06:52:56.068851Z",
     "start_time": "2022-06-14T06:52:56.043711Z"
    }
   },
   "outputs": [],
   "source": [
    "def fit(epochs, lr, model, train_dataloader, val_dataloader,):\n",
    "    history = {\n",
    "        'train_acc':[],\n",
    "        'train_loss':[],\n",
    "        'val_acc':[np.nan],\n",
    "        'val_loss':[np.nan]\n",
    "    }\n",
    "    optimizer = torch.optim.Adam(model.parameters(), lr = lr)\n",
    "    scheduler = torch.optim.lr_scheduler.ReduceLROnPlateau(optimizer, 'min',patience=3)\n",
    "    for epoch in range(epochs):\n",
    "        # Training \n",
    "        with tqdm(train_dataloader, unit=\"batch\") as tepoch:\n",
    "            for batch in tepoch:\n",
    "                tepoch.set_description(f\"Epoch {epoch}\")\n",
    "                \n",
    "                output = model.training_step(batch)\n",
    "                loss , acc = output['train_loss'], output['train_acc']\n",
    "                history['train_loss'].append(loss.item())\n",
    "                history['train_acc'].append(acc.item())\n",
    "                loss.backward()\n",
    "                optimizer.step()\n",
    "                optimizer.zero_grad()\n",
    "                \n",
    "                tepoch.set_postfix(loss=loss.item(), \n",
    "                                   acc=acc.item(),\n",
    "                                   val_loss= history['val_loss'][-1], \n",
    "                                   val_acc =history['val_acc'][-1])\n",
    "                   \n",
    "        # Validation\n",
    "        result = evaluate(model, val_dataloader)\n",
    "        history['val_loss'].append(result['val_loss'])\n",
    "        history['val_acc'].append(result['val_acc'])\n",
    "        scheduler.step(val_loss)\n",
    "        \n",
    "    return history"
   ]
  },
  {
   "cell_type": "code",
   "execution_count": 239,
   "metadata": {
    "ExecuteTime": {
     "end_time": "2022-06-14T06:52:56.906682Z",
     "start_time": "2022-06-14T06:52:56.894525Z"
    }
   },
   "outputs": [],
   "source": [
    "train_dataloader = DeviceDataLoader(data.train_dataloader(), device)\n",
    "val_dataloader = DeviceDataLoader(data.val_dataloader(), device)"
   ]
  },
  {
   "cell_type": "code",
   "execution_count": 240,
   "metadata": {
    "ExecuteTime": {
     "end_time": "2022-06-14T06:53:03.253125Z",
     "start_time": "2022-06-14T06:52:57.673018Z"
    }
   },
   "outputs": [
    {
     "data": {
      "text/plain": [
       "QCNN(\n",
       "  (qcnn): TorchConnector()\n",
       ")"
      ]
     },
     "execution_count": 240,
     "metadata": {},
     "output_type": "execute_result"
    }
   ],
   "source": [
    "model = QCNN(data.config())\n",
    "to_device(model,device)"
   ]
  },
  {
   "cell_type": "code",
   "execution_count": null,
   "metadata": {
    "ExecuteTime": {
     "start_time": "2022-06-14T06:53:01.689Z"
    },
    "execution": {
     "iopub.execute_input": "2022-06-07T18:39:53.121338Z",
     "iopub.status.busy": "2022-06-07T18:39:53.120983Z"
    }
   },
   "outputs": [
    {
     "name": "stderr",
     "output_type": "stream",
     "text": [
      "Epoch 0: 100%|██████████████| 13/13 [01:44<00:00,  8.07s/batch, acc=0.5, loss=-.454, val_acc=nan, val_loss=nan]\n"
     ]
    },
    {
     "name": "stdout",
     "output_type": "stream",
     "text": [
      "Epoch [0], loss: -0.4541, acc: 0.5000, val_loss: -0.5027, val_acc: 0.5000\n"
     ]
    },
    {
     "name": "stderr",
     "output_type": "stream",
     "text": [
      "Epoch 1: 100%|████████████| 13/13 [01:37<00:00,  7.52s/batch, acc=0.5, loss=-.502, val_acc=0.5, val_loss=-.503]\n"
     ]
    },
    {
     "name": "stdout",
     "output_type": "stream",
     "text": [
      "Epoch [1], loss: -0.5017, acc: 0.5000, val_loss: -0.5191, val_acc: 0.5179\n"
     ]
    },
    {
     "name": "stderr",
     "output_type": "stream",
     "text": [
      "Epoch 2: 100%|█████████| 13/13 [01:42<00:00,  7.90s/batch, acc=0.75, loss=-.554, val_acc=0.518, val_loss=-.519]\n"
     ]
    },
    {
     "name": "stdout",
     "output_type": "stream",
     "text": [
      "Epoch [2], loss: -0.5541, acc: 0.7500, val_loss: -0.5343, val_acc: 0.5179\n"
     ]
    },
    {
     "name": "stderr",
     "output_type": "stream",
     "text": [
      "Epoch 3: 100%|█████████| 13/13 [01:49<00:00,  8.44s/batch, acc=0.75, loss=-.659, val_acc=0.518, val_loss=-.534]\n"
     ]
    },
    {
     "name": "stdout",
     "output_type": "stream",
     "text": [
      "Epoch [3], loss: -0.6587, acc: 0.7500, val_loss: -0.5486, val_acc: 0.5357\n"
     ]
    },
    {
     "name": "stderr",
     "output_type": "stream",
     "text": [
      "Epoch 4: 100%|██████████| 13/13 [01:47<00:00,  8.27s/batch, acc=0.5, loss=-.642, val_acc=0.536, val_loss=-.549]\n"
     ]
    },
    {
     "name": "stdout",
     "output_type": "stream",
     "text": [
      "Epoch [4], loss: -0.6423, acc: 0.5000, val_loss: -0.5638, val_acc: 0.5357\n"
     ]
    },
    {
     "name": "stderr",
     "output_type": "stream",
     "text": [
      "Epoch 5: 100%|█████████| 13/13 [01:40<00:00,  7.74s/batch, acc=0.75, loss=-.736, val_acc=0.536, val_loss=-.564]\n"
     ]
    },
    {
     "name": "stdout",
     "output_type": "stream",
     "text": [
      "Epoch [5], loss: -0.7360, acc: 0.7500, val_loss: -0.5795, val_acc: 0.5714\n"
     ]
    },
    {
     "name": "stderr",
     "output_type": "stream",
     "text": [
      "Epoch 6: 100%|██████████| 13/13 [01:36<00:00,  7.46s/batch, acc=0.25, loss=-.406, val_acc=0.571, val_loss=-.58]\n"
     ]
    },
    {
     "name": "stdout",
     "output_type": "stream",
     "text": [
      "Epoch [6], loss: -0.4060, acc: 0.2500, val_loss: -0.5957, val_acc: 0.5714\n"
     ]
    },
    {
     "name": "stderr",
     "output_type": "stream",
     "text": [
      "Epoch 7: 100%|█████████| 13/13 [01:44<00:00,  8.06s/batch, acc=0.75, loss=-.586, val_acc=0.571, val_loss=-.596]\n"
     ]
    },
    {
     "name": "stdout",
     "output_type": "stream",
     "text": [
      "Epoch [7], loss: -0.5857, acc: 0.7500, val_loss: -0.6132, val_acc: 0.5714\n"
     ]
    },
    {
     "name": "stderr",
     "output_type": "stream",
     "text": [
      "Epoch 8:  77%|██████▉  | 10/13 [01:20<00:24,  8.16s/batch, acc=0.75, loss=-.744, val_acc=0.571, val_loss=-.613]"
     ]
    }
   ],
   "source": [
    "history = fit(10, 0.001, model, train_dataloader, val_dataloader)"
   ]
  },
  {
   "cell_type": "code",
   "execution_count": null,
   "metadata": {
    "ExecuteTime": {
     "start_time": "2022-06-14T06:55:12.736Z"
    },
    "execution": {
     "iopub.execute_input": "2022-06-07T18:38:35.136672Z",
     "iopub.status.busy": "2022-06-07T18:38:35.136266Z",
     "iopub.status.idle": "2022-06-07T18:38:35.141794Z",
     "shell.execute_reply": "2022-06-07T18:38:35.140924Z",
     "shell.execute_reply.started": "2022-06-07T18:38:35.136627Z"
    }
   },
   "outputs": [],
   "source": [
    "train_losses = history['train_loss']\n",
    "val_losses = history['val_loss']\n",
    "train_accs = history['train_acc']\n",
    "val_accs = history['val_acc']"
   ]
  },
  {
   "cell_type": "code",
   "execution_count": null,
   "metadata": {
    "ExecuteTime": {
     "start_time": "2022-06-14T06:55:13.181Z"
    },
    "execution": {
     "iopub.execute_input": "2022-06-07T18:38:36.305578Z",
     "iopub.status.busy": "2022-06-07T18:38:36.305197Z",
     "iopub.status.idle": "2022-06-07T18:38:36.505014Z",
     "shell.execute_reply": "2022-06-07T18:38:36.504263Z",
     "shell.execute_reply.started": "2022-06-07T18:38:36.305546Z"
    }
   },
   "outputs": [],
   "source": [
    "plt.plot(train_losses, color='r', label='train loss')\n",
    "plt.plot(train_accs, color='g', label='train accs')\n",
    "plt.legend()"
   ]
  },
  {
   "cell_type": "code",
   "execution_count": null,
   "metadata": {
    "ExecuteTime": {
     "start_time": "2022-06-14T06:55:13.759Z"
    },
    "execution": {
     "iopub.execute_input": "2022-06-07T18:38:38.372648Z",
     "iopub.status.busy": "2022-06-07T18:38:38.372260Z",
     "iopub.status.idle": "2022-06-07T18:38:38.548962Z",
     "shell.execute_reply": "2022-06-07T18:38:38.548189Z",
     "shell.execute_reply.started": "2022-06-07T18:38:38.372615Z"
    }
   },
   "outputs": [],
   "source": [
    "plt.plot(val_losses, color='b', label='=val loss')\n",
    "plt.plot(val_accs, color='y', label='val accs')\n",
    "plt.legend()"
   ]
  },
  {
   "cell_type": "code",
   "execution_count": null,
   "metadata": {},
   "outputs": [],
   "source": [
    "torch.save(model.state_dict(), \"model.pt\")"
   ]
  },
  {
   "cell_type": "code",
   "execution_count": null,
   "metadata": {},
   "outputs": [],
   "source": [
    "model = QCNN(data.config())\n",
    "model.load_state_dict(torch.load(\"model.pt\"))"
   ]
  },
  {
   "cell_type": "code",
   "execution_count": null,
   "metadata": {},
   "outputs": [],
   "source": [
    "test_dataloader = DeviceDataLoader(data.test_dataloader(), device)\n",
    "to_device(model, device)"
   ]
  },
  {
   "cell_type": "code",
   "execution_count": null,
   "metadata": {},
   "outputs": [],
   "source": [
    "result = evaluate(model, test_dataloader)\n",
    "print('test_loss: {:.4f}'.format(result['val_loss']) )\n",
    "print('test_acc: {:.4f}'.format(result['val_acc']))"
   ]
  },
  {
   "cell_type": "code",
   "execution_count": null,
   "metadata": {},
   "outputs": [],
   "source": [
    "# Evaluate model and compute accuracy\n",
    "y_predict = []\n",
    "for x, y_target in zip(X, y):\n",
    "    output = model1(Tensor(x))\n",
    "    y_predict += [np.sign(output.detach().numpy())[0]]\n",
    "\n",
    "print(\"Accuracy:\", sum(y_predict == y) / len(y))\n",
    "\n",
    "# Plot results\n",
    "# red == wrongly classified\n",
    "for x, y_target, y_p in zip(X, y, y_predict):\n",
    "    if y_target == 1:\n",
    "        plt.plot(x[0], x[1], \"bo\")\n",
    "    else:\n",
    "        plt.plot(x[0], x[1], \"go\")\n",
    "    if y_target != y_p:\n",
    "        plt.scatter(x[0], x[1], s=200, facecolors=\"none\", edgecolors=\"r\", linewidths=2)\n",
    "plt.plot([-1, 1], [1, -1], \"--\", color=\"black\")\n",
    "plt.show()"
   ]
  }
 ],
 "metadata": {
  "kernelspec": {
   "display_name": "Python 3 (ipykernel)",
   "language": "python",
   "name": "python3"
  },
  "language_info": {
   "codemirror_mode": {
    "name": "ipython",
    "version": 3
   },
   "file_extension": ".py",
   "mimetype": "text/x-python",
   "name": "python",
   "nbconvert_exporter": "python",
   "pygments_lexer": "ipython3",
   "version": "3.7.13"
  },
  "latex_envs": {
   "LaTeX_envs_menu_present": true,
   "autoclose": false,
   "autocomplete": true,
   "bibliofile": "biblio.bib",
   "cite_by": "apalike",
   "current_citInitial": 1,
   "eqLabelWithNumbers": true,
   "eqNumInitial": 1,
   "hotkeys": {
    "equation": "Ctrl-E",
    "itemize": "Ctrl-I"
   },
   "labels_anchors": false,
   "latex_user_defs": false,
   "report_style_numbering": false,
   "user_envs_cfg": false
  },
  "toc": {
   "base_numbering": 1,
   "nav_menu": {},
   "number_sections": true,
   "sideBar": true,
   "skip_h1_title": false,
   "title_cell": "Table of Contents",
   "title_sidebar": "Contents",
   "toc_cell": false,
   "toc_position": {},
   "toc_section_display": true,
   "toc_window_display": false
  }
 },
 "nbformat": 4,
 "nbformat_minor": 4
}
